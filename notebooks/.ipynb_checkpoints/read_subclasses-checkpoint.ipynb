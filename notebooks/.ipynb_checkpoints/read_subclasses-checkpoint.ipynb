{
 "cells": [
  {
   "cell_type": "code",
   "execution_count": 1,
   "metadata": {},
   "outputs": [
    {
     "name": "stderr",
     "output_type": "stream",
     "text": [
      "/home/franciscoperez/anaconda3/lib/python3.7/site-packages/pandas/compat/_optional.py:138: UserWarning: Pandas requires version '2.7.0' or newer of 'numexpr' (version '2.6.8' currently installed).\n",
      "  warnings.warn(msg, UserWarning)\n",
      "In /home/franciscoperez/anaconda3/lib/python3.7/site-packages/matplotlib/mpl-data/stylelib/_classic_test.mplstyle: \n",
      "The text.latex.preview rcparam was deprecated in Matplotlib 3.3 and will be removed two minor releases later.\n",
      "In /home/franciscoperez/anaconda3/lib/python3.7/site-packages/matplotlib/mpl-data/stylelib/_classic_test.mplstyle: \n",
      "The mathtext.fallback_to_cm rcparam was deprecated in Matplotlib 3.3 and will be removed two minor releases later.\n",
      "In /home/franciscoperez/anaconda3/lib/python3.7/site-packages/matplotlib/mpl-data/stylelib/_classic_test.mplstyle: Support for setting the 'mathtext.fallback_to_cm' rcParam is deprecated since 3.3 and will be removed two minor releases later; use 'mathtext.fallback : 'cm' instead.\n",
      "In /home/franciscoperez/anaconda3/lib/python3.7/site-packages/matplotlib/mpl-data/stylelib/_classic_test.mplstyle: \n",
      "The validate_bool_maybe_none function was deprecated in Matplotlib 3.3 and will be removed two minor releases later.\n",
      "In /home/franciscoperez/anaconda3/lib/python3.7/site-packages/matplotlib/mpl-data/stylelib/_classic_test.mplstyle: \n",
      "The savefig.jpeg_quality rcparam was deprecated in Matplotlib 3.3 and will be removed two minor releases later.\n",
      "In /home/franciscoperez/anaconda3/lib/python3.7/site-packages/matplotlib/mpl-data/stylelib/_classic_test.mplstyle: \n",
      "The keymap.all_axes rcparam was deprecated in Matplotlib 3.3 and will be removed two minor releases later.\n",
      "In /home/franciscoperez/anaconda3/lib/python3.7/site-packages/matplotlib/mpl-data/stylelib/_classic_test.mplstyle: \n",
      "The animation.avconv_path rcparam was deprecated in Matplotlib 3.3 and will be removed two minor releases later.\n",
      "In /home/franciscoperez/anaconda3/lib/python3.7/site-packages/matplotlib/mpl-data/stylelib/_classic_test.mplstyle: \n",
      "The animation.avconv_args rcparam was deprecated in Matplotlib 3.3 and will be removed two minor releases later.\n"
     ]
    }
   ],
   "source": [
    "import pandas as pd\n",
    "import numpy as np\n",
    "import matplotlib.pyplot as plt\n",
    "import seaborn as sns\n",
    "import warnings\n",
    "warnings.filterwarnings(\"ignore\")\n",
    "PATH = ''"
   ]
  },
  {
   "cell_type": "code",
   "execution_count": 2,
   "metadata": {},
   "outputs": [
    {
     "data": {
      "text/plain": [
       "(16836, 6)"
      ]
     },
     "execution_count": 2,
     "metadata": {},
     "output_type": "execute_result"
    }
   ],
   "source": [
    "datContent = [i.strip().split() for i in open(\"../ogle/subclasses/ident1.dat\").readlines()]\n",
    "\n",
    "data = pd.DataFrame(datContent)\n",
    "data.columns = ['ID', 'field_a','field_b', 'sub_clase', 'ccx', 'ccy', 'd', 'e', 'f', 'g' ]\n",
    "data=data[['ID', 'field_a','field_b', 'sub_clase', 'ccx', 'ccy']]\n",
    "data.shape"
   ]
  },
  {
   "cell_type": "code",
   "execution_count": 3,
   "metadata": {},
   "outputs": [
    {
     "data": {
      "text/plain": [
       "(16881, 6)"
      ]
     },
     "execution_count": 3,
     "metadata": {},
     "output_type": "execute_result"
    }
   ],
   "source": [
    "datContent = [i.strip().split() for i in open(\"../ogle/subclasses/ident2.dat\").readlines()]\n",
    "\n",
    "data2 = pd.DataFrame(datContent)\n",
    "data2.columns = ['ID', 'field_a','field_b', 'sub_clase', 'ccx', 'ccy']\n",
    "data = data.append(data2)\n",
    "data.shape"
   ]
  },
  {
   "cell_type": "code",
   "execution_count": 4,
   "metadata": {},
   "outputs": [
    {
     "data": {
      "text/plain": [
       "(41787, 6)"
      ]
     },
     "execution_count": 4,
     "metadata": {},
     "output_type": "execute_result"
    }
   ],
   "source": [
    "datContent = [i.strip().split() for i in open(\"../ogle/subclasses/ident3.dat\").readlines()]\n",
    "\n",
    "data3 = pd.DataFrame(datContent)\n",
    "data3.columns = ['ID', 'field_a','field_b', 'sub_clase', 'ccx', 'ccy', 'd', 'e', 'f', 'g' ,'k']\n",
    "data3=data3[['ID', 'field_a','field_b', 'sub_clase', 'ccx', 'ccy']]\n",
    "data = data.append(data3)\n",
    "data.shape"
   ]
  },
  {
   "cell_type": "code",
   "execution_count": 5,
   "metadata": {},
   "outputs": [
    {
     "data": {
      "text/plain": [
       "(44262, 6)"
      ]
     },
     "execution_count": 5,
     "metadata": {},
     "output_type": "execute_result"
    }
   ],
   "source": [
    "datContent = [i.strip().split() for i in open(\"../ogle/subclasses/ident4.dat\").readlines()]\n",
    "\n",
    "data4 = pd.DataFrame(datContent)\n",
    "data4.columns = ['ID', 'field_a','field_b', 'sub_clase', 'ccx', 'ccy', 'd', 'e', 'f', 'g' ]\n",
    "data4=data4[['ID', 'field_a','field_b', 'sub_clase', 'ccx', 'ccy']]\n",
    "data = data.append(data4)\n",
    "data.shape"
   ]
  },
  {
   "cell_type": "code",
   "execution_count": 6,
   "metadata": {},
   "outputs": [],
   "source": [
    "data = data[data.sub_clase.isin(['RRab', 'RRd', 'RRc', 'RRe'])]"
   ]
  },
  {
   "cell_type": "code",
   "execution_count": 7,
   "metadata": {},
   "outputs": [
    {
     "data": {
      "text/html": [
       "<div>\n",
       "<style scoped>\n",
       "    .dataframe tbody tr th:only-of-type {\n",
       "        vertical-align: middle;\n",
       "    }\n",
       "\n",
       "    .dataframe tbody tr th {\n",
       "        vertical-align: top;\n",
       "    }\n",
       "\n",
       "    .dataframe thead th {\n",
       "        text-align: right;\n",
       "    }\n",
       "</style>\n",
       "<table border=\"1\" class=\"dataframe\">\n",
       "  <thead>\n",
       "    <tr style=\"text-align: right;\">\n",
       "      <th></th>\n",
       "      <th>ID</th>\n",
       "      <th>field_a</th>\n",
       "      <th>field_b</th>\n",
       "      <th>sub_clase</th>\n",
       "      <th>ccx</th>\n",
       "      <th>ccy</th>\n",
       "    </tr>\n",
       "  </thead>\n",
       "  <tbody>\n",
       "    <tr>\n",
       "      <th>0</th>\n",
       "      <td>OGLE-BLG-RRLYR-00001</td>\n",
       "      <td>BLG366.6</td>\n",
       "      <td>56455</td>\n",
       "      <td>RRab</td>\n",
       "      <td>17:05:07.49</td>\n",
       "      <td>-32:37:57.2</td>\n",
       "    </tr>\n",
       "    <tr>\n",
       "      <th>1</th>\n",
       "      <td>OGLE-BLG-RRLYR-00002</td>\n",
       "      <td>BLG366.8</td>\n",
       "      <td>59262</td>\n",
       "      <td>RRc</td>\n",
       "      <td>17:05:08.09</td>\n",
       "      <td>-32:56:38.1</td>\n",
       "    </tr>\n",
       "    <tr>\n",
       "      <th>2</th>\n",
       "      <td>OGLE-BLG-RRLYR-00003</td>\n",
       "      <td>BLG366.6</td>\n",
       "      <td>56524</td>\n",
       "      <td>RRab</td>\n",
       "      <td>17:05:09.88</td>\n",
       "      <td>-32:39:52.8</td>\n",
       "    </tr>\n",
       "    <tr>\n",
       "      <th>3</th>\n",
       "      <td>OGLE-BLG-RRLYR-00004</td>\n",
       "      <td>BLG366.7</td>\n",
       "      <td>31697</td>\n",
       "      <td>RRab</td>\n",
       "      <td>17:05:15.22</td>\n",
       "      <td>-32:50:13.2</td>\n",
       "    </tr>\n",
       "    <tr>\n",
       "      <th>4</th>\n",
       "      <td>OGLE-BLG-RRLYR-00005</td>\n",
       "      <td>BLG366.6</td>\n",
       "      <td>59764</td>\n",
       "      <td>RRab</td>\n",
       "      <td>17:05:21.99</td>\n",
       "      <td>-32:39:42.5</td>\n",
       "    </tr>\n",
       "    <tr>\n",
       "      <th>...</th>\n",
       "      <td>...</td>\n",
       "      <td>...</td>\n",
       "      <td>...</td>\n",
       "      <td>...</td>\n",
       "      <td>...</td>\n",
       "      <td>...</td>\n",
       "    </tr>\n",
       "    <tr>\n",
       "      <th>2470</th>\n",
       "      <td>OGLE-SMC-RRLYR-2471</td>\n",
       "      <td>SMC122.1</td>\n",
       "      <td>1473</td>\n",
       "      <td>RRc</td>\n",
       "      <td>01:26:14.07</td>\n",
       "      <td>-74:11:56.4</td>\n",
       "    </tr>\n",
       "    <tr>\n",
       "      <th>2471</th>\n",
       "      <td>OGLE-SMC-RRLYR-2472</td>\n",
       "      <td>SMC122.3</td>\n",
       "      <td>1758</td>\n",
       "      <td>RRab</td>\n",
       "      <td>01:26:15.72</td>\n",
       "      <td>-73:55:29.2</td>\n",
       "    </tr>\n",
       "    <tr>\n",
       "      <th>2472</th>\n",
       "      <td>OGLE-SMC-RRLYR-2473</td>\n",
       "      <td>SMC122.4</td>\n",
       "      <td>1788</td>\n",
       "      <td>RRab</td>\n",
       "      <td>01:26:37.12</td>\n",
       "      <td>-73:39:33.8</td>\n",
       "    </tr>\n",
       "    <tr>\n",
       "      <th>2473</th>\n",
       "      <td>OGLE-SMC-RRLYR-2474</td>\n",
       "      <td>SMC122.3</td>\n",
       "      <td>1830</td>\n",
       "      <td>RRab</td>\n",
       "      <td>01:26:50.52</td>\n",
       "      <td>-73:52:45.8</td>\n",
       "    </tr>\n",
       "    <tr>\n",
       "      <th>2474</th>\n",
       "      <td>OGLE-SMC-RRLYR-2475</td>\n",
       "      <td>SMC122.4</td>\n",
       "      <td>1820</td>\n",
       "      <td>RRab</td>\n",
       "      <td>01:26:59.56</td>\n",
       "      <td>-73:41:20.1</td>\n",
       "    </tr>\n",
       "  </tbody>\n",
       "</table>\n",
       "<p>43937 rows × 6 columns</p>\n",
       "</div>"
      ],
      "text/plain": [
       "                        ID   field_a field_b sub_clase          ccx  \\\n",
       "0     OGLE-BLG-RRLYR-00001  BLG366.6   56455      RRab  17:05:07.49   \n",
       "1     OGLE-BLG-RRLYR-00002  BLG366.8   59262       RRc  17:05:08.09   \n",
       "2     OGLE-BLG-RRLYR-00003  BLG366.6   56524      RRab  17:05:09.88   \n",
       "3     OGLE-BLG-RRLYR-00004  BLG366.7   31697      RRab  17:05:15.22   \n",
       "4     OGLE-BLG-RRLYR-00005  BLG366.6   59764      RRab  17:05:21.99   \n",
       "...                    ...       ...     ...       ...          ...   \n",
       "2470   OGLE-SMC-RRLYR-2471  SMC122.1    1473       RRc  01:26:14.07   \n",
       "2471   OGLE-SMC-RRLYR-2472  SMC122.3    1758      RRab  01:26:15.72   \n",
       "2472   OGLE-SMC-RRLYR-2473  SMC122.4    1788      RRab  01:26:37.12   \n",
       "2473   OGLE-SMC-RRLYR-2474  SMC122.3    1830      RRab  01:26:50.52   \n",
       "2474   OGLE-SMC-RRLYR-2475  SMC122.4    1820      RRab  01:26:59.56   \n",
       "\n",
       "              ccy  \n",
       "0     -32:37:57.2  \n",
       "1     -32:56:38.1  \n",
       "2     -32:39:52.8  \n",
       "3     -32:50:13.2  \n",
       "4     -32:39:42.5  \n",
       "...           ...  \n",
       "2470  -74:11:56.4  \n",
       "2471  -73:55:29.2  \n",
       "2472  -73:39:33.8  \n",
       "2473  -73:52:45.8  \n",
       "2474  -73:41:20.1  \n",
       "\n",
       "[43937 rows x 6 columns]"
      ]
     },
     "execution_count": 7,
     "metadata": {},
     "output_type": "execute_result"
    }
   ],
   "source": [
    "data"
   ]
  },
  {
   "cell_type": "code",
   "execution_count": 8,
   "metadata": {},
   "outputs": [
    {
     "data": {
      "text/plain": [
       "RRab    76.260\n",
       "RRc     18.733\n",
       "RRd      3.091\n",
       "RRe      1.917\n",
       "Name: sub_clase, dtype: float64"
      ]
     },
     "execution_count": 8,
     "metadata": {},
     "output_type": "execute_result"
    }
   ],
   "source": [
    "path_train = PATH\n",
    "path_test = PATH\n",
    "lc_test = pd.read_table(path_test, sep= ',')\n",
    "lc_train = pd.read_table(path_train, sep= ',')\n",
    "del lc_test['Unnamed: 0']\n",
    "del lc_train['Unnamed: 0']\n",
    "columns_to_export = lc_test.columns\n",
    "lc_train['ID'] = lc_train['ID'].str.replace('.dat', '') \n",
    "lc_test['ID'] = lc_test['ID'].str.replace('.dat', '') \n",
    "\n",
    "lc_train = lc_train.merge(data, left_on='ID', right_on='ID', how='left')\n",
    "lc_test = lc_test.merge(data, left_on='ID', right_on='ID', how = 'left')\n",
    "'''\n",
    "lc_train.loc[lc_train.sub_clase!='RRab', 'label']='ClassB'\n",
    "lc_test.loc[lc_test.sub_clase!='RRab', 'label']='ClassB'\n",
    "lc_train[columns_to_export].to_csv('Train_rrlyr-1_RRab.csv')\n",
    "lc_test[columns_to_export].to_csv('Test_rrlyr-1_RRab.csv')\n",
    "'''\n",
    "lc_train[lc_train.label=='ClassA'].sub_clase.value_counts(normalize=True).round(5)*100\n"
   ]
  },
  {
   "cell_type": "code",
   "execution_count": 9,
   "metadata": {},
   "outputs": [
    {
     "data": {
      "text/plain": [
       "RRab    59.19\n",
       "RRc     31.83\n",
       "RRe      5.89\n",
       "RRd      3.09\n",
       "Name: sub_clase, dtype: float64"
      ]
     },
     "execution_count": 9,
     "metadata": {},
     "output_type": "execute_result"
    }
   ],
   "source": [
    "lc_test[lc_test.label=='ClassA'].sub_clase.value_counts(normalize=True).round(4)*100"
   ]
  },
  {
   "cell_type": "code",
   "execution_count": 10,
   "metadata": {},
   "outputs": [],
   "source": [
    "path_train = PATH\n",
    "path_test = PATH\n",
    "lc_test = pd.read_table(path_test, sep= ',')\n",
    "lc_train = pd.read_table(path_train, sep= ',')\n",
    "del lc_test['Unnamed: 0']\n",
    "del lc_train['Unnamed: 0']\n",
    "columns_to_export = lc_test.columns\n",
    "lc_train['ID'] = lc_train['ID'].str.replace('.dat', '') \n",
    "lc_test['ID'] = lc_test['ID'].str.replace('.dat', '') \n",
    "\n",
    "lc_train = lc_train.merge(data, left_on='ID', right_on='ID', how='left')\n",
    "lc_test = lc_test.merge(data, left_on='ID', right_on='ID', how = 'left')\n",
    "\n",
    "lc_train.loc[lc_train.sub_clase!='RRc', 'label']='ClassB'\n",
    "lc_test.loc[lc_test.sub_clase!='RRc', 'label']='ClassB'\n",
    "lc_train[columns_to_export].to_csv('Train_rrlyr-1_RRc.csv')\n",
    "lc_test[columns_to_export].to_csv('Test_rrlyr-1_RRc.csv')"
   ]
  },
  {
   "cell_type": "code",
   "execution_count": 11,
   "metadata": {},
   "outputs": [],
   "source": [
    "path_train =PATH\n",
    "path_test = PATH\n",
    "lc_test = pd.read_table(path_test, sep= ',')\n",
    "lc_train = pd.read_table(path_train, sep= ',')\n",
    "del lc_test['Unnamed: 0']\n",
    "del lc_train['Unnamed: 0']\n",
    "columns_to_export = lc_test.columns\n",
    "lc_train['ID'] = lc_train['ID'].str.replace('.dat', '') \n",
    "lc_test['ID'] = lc_test['ID'].str.replace('.dat', '') \n",
    "\n",
    "lc_train = lc_train.merge(data, left_on='ID', right_on='ID', how='left')\n",
    "lc_test = lc_test.merge(data, left_on='ID', right_on='ID', how = 'left')\n",
    "\n",
    "lc_train.loc[lc_train.sub_clase!='RRd', 'label']='ClassB'\n",
    "lc_test.loc[lc_test.sub_clase!='RRd', 'label']='ClassB'\n",
    "lc_train[columns_to_export].to_csv('Train_rrlyr-1_RRd.csv')\n",
    "lc_test[columns_to_export].to_csv('Test_rrlyr-1_RRd.csv')"
   ]
  },
  {
   "cell_type": "code",
   "execution_count": 12,
   "metadata": {},
   "outputs": [],
   "source": [
    "#data = pd.read_table(\"/home/franciscoperez/Desktop/Code/Marginal_likelihood/data/FATS/OGLE_FATS_12022019.csv\", sep= ',')"
   ]
  },
  {
   "cell_type": "code",
   "execution_count": 13,
   "metadata": {},
   "outputs": [],
   "source": [
    "#train_subclase.sub_clase.unique()"
   ]
  },
  {
   "cell_type": "code",
   "execution_count": 14,
   "metadata": {},
   "outputs": [],
   "source": [
    "new_train = lc_train['ID'].str.split(\"-\", n = 3, expand = True) \n",
    "new_test = lc_test['ID'].str.split(\"-\", n = 3, expand = True) \n",
    "new_data = data['ID'].str.split(\"-\", n = 3, expand = True) \n",
    "lc_train[\"Field\"]= new_train[1] \n",
    "lc_train['Class']= new_train[2]  \n",
    "lc_test[\"Field\"]= new_test[1] \n",
    "lc_test['Class']= new_test[2] "
   ]
  },
  {
   "cell_type": "code",
   "execution_count": 15,
   "metadata": {},
   "outputs": [
    {
     "name": "stdout",
     "output_type": "stream",
     "text": [
      "(550, 77)\n"
     ]
    },
    {
     "data": {
      "text/plain": [
       "<AxesSubplot:>"
      ]
     },
     "execution_count": 15,
     "metadata": {},
     "output_type": "execute_result"
    },
    {
     "data": {
      "image/png": "[encoded data removed]",
      "text/plain": [
       "<Figure size 432x288 with 1 Axes>"
      ]
     },
     "metadata": {
      "needs_background": "light"
     },
     "output_type": "display_data"
    }
   ],
   "source": [
    "lc_train_e = lc_train[lc_train.sub_clase=='RRe']\n",
    "print(lc_train_e.shape)\n",
    "lc_train_e['PeriodLS'].hist()"
   ]
  },
  {
   "cell_type": "code",
   "execution_count": 16,
   "metadata": {},
   "outputs": [
    {
     "name": "stdout",
     "output_type": "stream",
     "text": [
      "SMC\n",
      "GD\n"
     ]
    },
    {
     "data": {
      "image/png": "[encoded data removed]",
      "text/plain": [
       "<Figure size 432x432 with 3 Axes>"
      ]
     },
     "metadata": {
      "needs_background": "light"
     },
     "output_type": "display_data"
    },
    {
     "data": {
      "image/png": "[encoded data removed]",
      "text/plain": [
       "<Figure size 432x432 with 3 Axes>"
      ]
     },
     "metadata": {
      "needs_background": "light"
     },
     "output_type": "display_data"
    }
   ],
   "source": [
    "#train_subclase[train_subclase.sub_clase=='RRab']['PeriodLS']\n",
    "\n",
    "\n",
    "rc={'axes.labelsize': 20, 'font.size': 20, 'legend.fontsize': 20.0, 'axes.titlesize': 20.0}\n",
    "plt.rcParams.update(**rc)\n",
    "\n",
    "lc_test = lc_test[lc_test['sub_clase']=='RRab']\n",
    "for f in [ 'SMC', 'GD']:\n",
    "    lc= lc_test[lc_test['Field']==f]\n",
    "    print(f)\n",
    "    h = sns.jointplot(x=lc['PeriodLS'], y=lc[\"Amplitude\"], kind='kde', xlim=(0,1), \n",
    "                      ylim =(0, 0.5), color='black', bw=.04, kernel='triw', \n",
    "                      alpha=1, n_levels=3, gridsize=100,\n",
    "                      shade_lowest=False, shade=True)\n",
    "    h.set_axis_labels('x', 'y')\n",
    "# or set labels via the axes objects\n",
    "    h.ax_joint.set_xlabel('Period')\n",
    "    h.ax_joint.set_ylabel('Amplitude')\n",
    "    # also possible to manipulate the histogram plots this way, e.g.\n",
    "    #h.ax_marg_y.grid('on') # with ugly consequences...\n",
    "    # labels appear outside of plot area, so auto-adjust\n",
    "    plt.tight_layout()\n",
    "    \n",
    "    "
   ]
  },
  {
   "cell_type": "code",
   "execution_count": 17,
   "metadata": {},
   "outputs": [
    {
     "name": "stdout",
     "output_type": "stream",
     "text": [
      "SMC\n",
      "GD\n"
     ]
    },
    {
     "data": {
      "image/png": "[encoded data removed]",
      "text/plain": [
       "<Figure size 432x432 with 3 Axes>"
      ]
     },
     "metadata": {
      "needs_background": "light"
     },
     "output_type": "display_data"
    },
    {
     "data": {
      "image/png": "[encoded data removed]",
      "text/plain": [
       "<Figure size 432x432 with 3 Axes>"
      ]
     },
     "metadata": {
      "needs_background": "light"
     },
     "output_type": "display_data"
    }
   ],
   "source": [
    "rc={'axes.labelsize': 20, 'font.size': 20, 'legend.fontsize': 20.0, 'axes.titlesize': 20.0}\n",
    "plt.rcParams.update(**rc)\n",
    "\n",
    "lc_test = lc_test[(lc_test['sub_clase']=='RRc') | (lc_test['sub_clase']=='RRd') | (lc_test['sub_clase']=='RRe')]\n",
    "for f in [ 'SMC', 'GD']:\n",
    "    lc= lc_test[lc_test['Field']==f]\n",
    "    print(f)\n",
    "    h = sns.jointplot(x=lc['PeriodLS'], y=lc[\"Amplitude\"], kind='kde', xlim=(0,1), \n",
    "                      ylim =(0, 0.5), color='black', bw=.04, kernel='triw', \n",
    "                      alpha=1, n_levels=3, gridsize=100,\n",
    "                      shade_lowest=False, shade=True)\n",
    "    h.set_axis_labels('x', 'y')\n",
    "# or set labels via the axes objects\n",
    "    h.ax_joint.set_xlabel('Period')\n",
    "    h.ax_joint.set_ylabel('Amplitude')\n",
    "    # also possible to manipulate the histogram plots this way, e.g.\n",
    "    #h.ax_marg_y.grid('on') # with ugly consequences...\n",
    "    # labels appear outside of plot area, so auto-adjust\n",
    "    plt.tight_layout()\n",
    "    \n",
    "    "
   ]
  },
  {
   "cell_type": "code",
   "execution_count": 18,
   "metadata": {},
   "outputs": [
    {
     "name": "stdout",
     "output_type": "stream",
     "text": [
      "SMC\n",
      "GD\n"
     ]
    },
    {
     "data": {
      "image/png": "[encoded data removed]",
      "text/plain": [
       "<Figure size 432x432 with 3 Axes>"
      ]
     },
     "metadata": {
      "needs_background": "light"
     },
     "output_type": "display_data"
    },
    {
     "data": {
      "image/png": "[encoded data removed]",
      "text/plain": [
       "<Figure size 432x432 with 3 Axes>"
      ]
     },
     "metadata": {
      "needs_background": "light"
     },
     "output_type": "display_data"
    }
   ],
   "source": [
    "rc={'axes.labelsize': 20, 'font.size': 20, 'legend.fontsize': 20.0, 'axes.titlesize': 20.0}\n",
    "plt.rcParams.update(**rc)\n",
    "\n",
    "lc_test_ = lc_test[(lc_test['sub_clase']=='RRd')]\n",
    "for f in [ 'SMC', 'GD']:\n",
    "    lc= lc_test_[lc_test_['Field']==f]\n",
    "    print(f)\n",
    "    h = sns.jointplot(x=lc['PeriodLS'], y=lc[\"Amplitude\"], kind='kde', xlim=(0,1), \n",
    "                      ylim =(0, 0.5), color='black', bw=.04, kernel='triw', \n",
    "                      alpha=1, n_levels=3, gridsize=100,\n",
    "                      shade_lowest=False, shade=True)\n",
    "    h.set_axis_labels('x', 'y')\n",
    "# or set labels via the axes objects\n",
    "    h.ax_joint.set_xlabel('Period')\n",
    "    h.ax_joint.set_ylabel('Amplitude')\n",
    "    # also possible to manipulate the histogram plots this way, e.g.\n",
    "    #h.ax_marg_y.grid('on') # with ugly consequences...\n",
    "    # labels appear outside of plot area, so auto-adjust\n",
    "    plt.tight_layout()\n",
    "    "
   ]
  },
  {
   "cell_type": "code",
   "execution_count": null,
   "metadata": {},
   "outputs": [],
   "source": []
  },
  {
   "cell_type": "markdown",
   "metadata": {},
   "source": [
    "# "
   ]
  }
 ],
 "metadata": {
  "kernelspec": {
   "display_name": "Python 3",
   "language": "python",
   "name": "python3"
  },
  "language_info": {
   "codemirror_mode": {
    "name": "ipython",
    "version": 3
   },
   "file_extension": ".py",
   "mimetype": "text/x-python",
   "name": "python",
   "nbconvert_exporter": "python",
   "pygments_lexer": "ipython3",
   "version": "3.7.7"
  }
 },
 "nbformat": 4,
 "nbformat_minor": 4
}
