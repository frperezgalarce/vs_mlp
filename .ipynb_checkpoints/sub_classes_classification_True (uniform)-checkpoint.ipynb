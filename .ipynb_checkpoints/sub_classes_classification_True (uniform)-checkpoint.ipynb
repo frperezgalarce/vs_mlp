{
 "cells": [
  {
   "cell_type": "code",
   "execution_count": null,
   "metadata": {},
   "outputs": [],
   "source": [
    "import torch\n",
    "import torch.nn as nn\n",
    "import torchvision.datasets as dsets\n",
    "import torchvision.transforms as transforms\n",
    "import torch.nn.functional as f \n",
    "from torch.autograd import Variable\n",
    "torch.backends.cudnn.deterministic = True\n",
    "import pandas as pd\n",
    "import numpy as np\n",
    "import torch.utils.data as data_utils\n",
    "from sklearn.preprocessing import StandardScaler \n",
    "from sklearn.model_selection import train_test_split\n",
    "from sklearn import metrics\n",
    "import random \n",
    "from matplotlib import pyplot as plt\n",
    "from sklearn import decomposition\n",
    "from sklearn import manifold\n",
    "from scipy import stats\n",
    "from itertools import cycle\n",
    "import sys\n",
    "import utilities as ut\n",
    "from Network import Net\n",
    "import Network as nn\n",
    "SEED = 1234\n",
    "random.seed(SEED)\n",
    "np.random.seed(SEED)\n",
    "torch.manual_seed(SEED)\n",
    "torch.cuda.manual_seed(SEED)\n",
    "torch.backends.cudnn.deterministic = True\n",
    "import matplotlib\n",
    "\n",
    "matplotlib.rcParams[\"figure.dpi\"] = 100\n",
    "\n",
    "\n",
    "use_cuda = torch.cuda.is_available()\n",
    "device = torch.device(\"cuda:0\" if use_cuda else \"cpu\")\n",
    "torch.backends.cudnn.benchmark = True\n",
    "\n",
    "#ab y c con 3000 samples, 256 batch y 10000 objetos. \n",
    "\n",
    "results = []\n",
    "num_classes = 2\n",
    "learning_rate = 0.001\n",
    "samples = 3000 #\n",
    "epsilon=0\n",
    "#for epsilon in [0.1, 0.05, 0.025, 0.15]:\n",
    "for sc in ['_RRab']: #,'_RRc','_RRab'\n",
    "    for batch_size in [256]:\n",
    "        for hidden_size in [100]:\n",
    "            for aux_loss_activated in [True]:\n",
    "                for EPS1 in [0.005]:\n",
    "                    for n in [40000]:\n",
    "                        for opt in [1]:\n",
    "                            for t in range(15):\n",
    "                                train_dataset, test_dataset = ut.load_files(dataset=1, subclass=sc)\n",
    "                                input_size = train_dataset.shape[1]-1\n",
    "\n",
    "                                if n < 50000:\n",
    "                                    train_dataset = ut.down_sampling(train_dataset)\n",
    "                                    train_dataset = train_dataset.sample(n)\n",
    "                                    print(train_dataset)\n",
    "                                else: \n",
    "                                    trainig_dataset_a = train_dataset[train_dataset.label=='ClassA']\n",
    "                                    print('shape: ', trainig_dataset_a.shape[0])\n",
    "                                    n2 = n - trainig_dataset_a.shape[0]\n",
    "                                    print('clase no RR Lrae', n2)\n",
    "                                    trainig_dataset_b = train_dataset[~(train_dataset.label=='ClassA')].sample(n2)\n",
    "                                    train_dataset = pd.concat([trainig_dataset_a, trainig_dataset_b])\n",
    "\n",
    "                                train_dataset, _ = ut.delete_outliers(train_dataset, test_dataset)\n",
    "\n",
    "                                train_dataset = ut.sort_columns(train_dataset)\n",
    "                                test_dataset = ut.sort_columns(test_dataset)\n",
    "\n",
    "                                test_dataset_pred = test_dataset.copy()\n",
    "                                train_dataset_pred = train_dataset.copy()\n",
    "\n",
    "                                try:\n",
    "                                    dr={'up': 0.85, 'lp': 0.35, 'ua':0.50, 'la':0.05}\n",
    "                                        \n",
    "                                    data_prior = ut.generate_samples_2D(samples, train_dataset, distribution='uniform', DRs=dr)\n",
    "\n",
    "                                    train_dataset, val_dataset = train_test_split(train_dataset, test_size=0.2, random_state=42)\n",
    "\n",
    "                                    train_dataset_prior, val_dataset_prior = train_test_split(data_prior, test_size=0.2, random_state=42)\n",
    "                                    print(train_dataset_prior.columns)\n",
    "                                    _, _, train_target_prior, train_loader_prior = ut.get_tensors(train_dataset_prior, batch_size)\n",
    "                                    _, _, val_target_prior, val_loader_prior     = ut.get_tensors(val_dataset_prior, batch_size)\n",
    "                                    _, _, train_target, train_loader             = ut.get_tensors(train_dataset, batch_size)\n",
    "                                    _, _, train_target_pred, train_loader_pred   = ut.get_tensors(train_dataset_pred, batch_size)\n",
    "                                    _, _, val_target, val_loader                 = ut.get_tensors(val_dataset_prior, batch_size)\n",
    "                                    _, _, test_target, test_loader               = ut.get_tensors(test_dataset, batch_size)\n",
    "                                    _, _, test_target_pred, test_loader_pred     = ut.get_tensors(test_dataset_pred, batch_size)\n",
    "\n",
    "                                    net = Net(input_size, hidden_size, hidden_size, num_classes)\n",
    "                                    net.cuda()\n",
    "\n",
    "                                    hist_val, hist_train = nn.train(net, train_loader, train_loader_prior, val_loader, test_loader,\n",
    "                                    EPS1, learning_rate, input_size, aux_loss_activated=aux_loss_activated, patience=10)\n",
    "\n",
    "                                    acc_train, recall_train, f1_train = nn.get_results(net, train_loader, input_size)\n",
    "                                    acc_test, recall_test, f1_test  = nn.get_results(net, test_loader, input_size)\n",
    "                                    results.append([acc_train, acc_test,recall_train, recall_test, f1_train, f1_test, epsilon, batch_size, hidden_size, aux_loss_activated, EPS1, n, opt, sc])\n",
    "                                    pd.DataFrame(results, columns=['acc_train', 'acc_test','recall_train', 'recall_test','f1_train', 'f1_test',\n",
    "                                     'epsilon', 'batch_size', 'hidden_size',\n",
    "                                     'aux_loss_activated', 'EPS1', 'n', 'opt', 'sc']).to_csv('subclasses(uniform)_10-05-2022-2D-period.csv')\n",
    "                                except Exception as e:\n",
    "                                    print(e) \n",
    "                                    print(str(batch_size)+\"-\"+str(hidden_size)+\"-\"+str(aux_loss_activated)+\"-\"+str(EPS1))"
   ]
  },
  {
   "cell_type": "code",
   "execution_count": null,
   "metadata": {},
   "outputs": [],
   "source": [
    "nn.get_results(net, train_loader, input_size)\n",
    "nn.get_results(net, test_loader, input_size)"
   ]
  },
  {
   "cell_type": "code",
   "execution_count": null,
   "metadata": {},
   "outputs": [],
   "source": [
    "nn.get_roc_curve(net, test_loader, input_size, title=\"Regularization\")"
   ]
  },
  {
   "cell_type": "code",
   "execution_count": null,
   "metadata": {},
   "outputs": [],
   "source": [
    "torch.save(net.state_dict(), 'model.pkl')"
   ]
  },
  {
   "cell_type": "code",
   "execution_count": null,
   "metadata": {},
   "outputs": [],
   "source": [
    "ut.plot_training(hist_val, hist_train)"
   ]
  },
  {
   "cell_type": "code",
   "execution_count": null,
   "metadata": {},
   "outputs": [],
   "source": [
    "fig, ax = plt.subplots(1, 1, figsize=(6,6))\n",
    "curves, labels, probs_test = ut.get_predictions(net, test_loader_pred, device)\n",
    "pred_labels = probs_test.argmax(1, keepdim = True)\n",
    "ut.plot_confusion_matrix(np.round(labels), pred_labels, ax)"
   ]
  },
  {
   "cell_type": "code",
   "execution_count": null,
   "metadata": {},
   "outputs": [],
   "source": [
    "#csv_file = open(\"size_MLP_noise.csv\", \"a\")\n",
    "#csv_file.write(str(np.asarray(acc_testing))+\",\"+str(np.asarray(acc_training))+\",\"+str(samples)+\",\"+str(epsilon)+\",\"+str(n)+\",\"+str(hidden_size)+\"\\n\")\n",
    "#csv_file.close()"
   ]
  },
  {
   "cell_type": "code",
   "execution_count": null,
   "metadata": {},
   "outputs": [],
   "source": [
    "outputs, intermediates, intermediates2, labels = ut.get_representations(net, train_loader, device)\n",
    "outputs_test, intermediates_test, intermediates2_test, labels_test = ut.get_representations(net, test_loader, device)"
   ]
  },
  {
   "cell_type": "code",
   "execution_count": null,
   "metadata": {},
   "outputs": [],
   "source": [
    "intermediate_pca_data, intermediate_pca_data_test = ut.get_pca(intermediates, data_test=intermediates_test)\n",
    "fig, axs = plt.subplots(2, 3, figsize=(20,15))\n",
    "ut.plot_representations(intermediate_pca_data, labels, axs[0, 0])\n",
    "ut.plot_representations(intermediate_pca_data_test, labels_test, axs[1, 0])\n",
    "intermediate2_pca_data, intermediate2_pca_data_test = ut.get_pca(intermediates2, data_test=intermediates2_test)\n",
    "ut.plot_representations(intermediate2_pca_data, labels, axs[0, 1])\n",
    "ut.plot_representations(intermediate2_pca_data_test, labels_test, axs[1, 1])\n",
    "output_pca_data, output_pca_data_test = ut.get_pca(outputs, data_test=outputs_test)\n",
    "ut.plot_representations(output_pca_data, labels, axs[0, 2])\n",
    "ut.plot_representations(output_pca_data_test, labels_test, axs[1, 2])"
   ]
  },
  {
   "cell_type": "code",
   "execution_count": null,
   "metadata": {},
   "outputs": [],
   "source": [
    "import umap\n",
    "\n",
    "fig, axs = plt.subplots(2, 3, figsize=(20,15))\n",
    "print('first')\n",
    "reducer = umap.UMAP()\n",
    "print('first ..')\n",
    "mapper_train = reducer.fit_transform(intermediates.numpy())\n",
    "print('first ...')\n",
    "reducer = umap.UMAP()\n",
    "mapper_test = reducer.fit_transform(intermediates_test.numpy())\n",
    "ut.plot_representations(mapper_train, labels, axs[0, 0])\n",
    "ut.plot_representations(mapper_test, labels_test, axs[1, 0])\n",
    "\n",
    "reducer = umap.UMAP()\n",
    "mapper_train = reducer.fit_transform(intermediates2.numpy())\n",
    "reducer = umap.UMAP()\n",
    "mapper_test = reducer.fit_transform(intermediates2_test.numpy())\n",
    "ut.plot_representations(mapper_train, labels, axs[0, 1])\n",
    "ut.plot_representations(mapper_test, labels_test, axs[1, 1])\n",
    "\n",
    "reducer = umap.UMAP()\n",
    "mapper_train = reducer.fit_transform(outputs.numpy())\n",
    "reducer = umap.UMAP()\n",
    "mapper_test = reducer.fit_transform(outputs_test.numpy())\n",
    "\n",
    "ut.plot_representations(mapper_train, labels, axs[0, 2])\n",
    "ut.plot_representations(mapper_test, labels_test, axs[1, 2])"
   ]
  },
  {
   "cell_type": "code",
   "execution_count": null,
   "metadata": {},
   "outputs": [],
   "source": [
    "N_CURVES = 25000\n",
    "\n",
    "fig, axs = plt.subplots(2, 3, figsize=(20,15))\n",
    "intermediate_tsne_data, intermediate_tsne_data_test = ut.get_tsne(intermediates, data_test= intermediates_test, n_curves = N_CURVES)\n",
    "ut.plot_representations(intermediate_tsne_data, labels, axs[0, 0],  n_curves = N_CURVES)\n",
    "ut.plot_representations(intermediate_tsne_data_test, labels_test, axs[1, 0], n_curves = N_CURVES)\n",
    "\n",
    "intermediate2_tsne_data, intermediate2_tsne_data_test = ut.get_tsne(intermediates2, data_test=intermediates2_test, n_curves = N_CURVES)\n",
    "ut.plot_representations(intermediate2_tsne_data, labels, axs[0, 1], n_curves = N_CURVES)\n",
    "ut.plot_representations(intermediate2_tsne_data_test, labels_test, axs[1, 1], n_curves = N_CURVES)\n",
    "\n",
    "output_tsne_data, output2_tsne_data_test = ut.get_tsne(outputs, data_test=outputs_test, n_curves = N_CURVES)\n",
    "ut.plot_representations(output_tsne_data, labels, axs[0, 2], n_curves = N_CURVES)\n",
    "ut.plot_representations(output2_tsne_data_test, labels_test, axs[1, 2], n_curves = N_CURVES)"
   ]
  },
  {
   "cell_type": "code",
   "execution_count": null,
   "metadata": {},
   "outputs": [],
   "source": [
    "#fig, ax = plt.subplots(1, 1, figsize=(15,15))\n",
    "#curves, labels, probs_train = ut.get_predictions(net, train_loader_pred, device)\n",
    "#pred_labels = probs_train.argmax(1, keepdim = True)\n",
    "#ut.plot_confusion_matrix(np.round(labels), pred_labels, ax)\n"
   ]
  },
  {
   "cell_type": "code",
   "execution_count": null,
   "metadata": {},
   "outputs": [],
   "source": [
    "pred_labels"
   ]
  },
  {
   "cell_type": "code",
   "execution_count": null,
   "metadata": {},
   "outputs": [],
   "source": [
    "curves, labels, probs_train_sample = ut.get_predictions(net, train_loader, device)"
   ]
  },
  {
   "cell_type": "code",
   "execution_count": null,
   "metadata": {},
   "outputs": [],
   "source": [
    "#N_WEIGHTS = 25\n",
    "#weights = net.fc2.weight.data\n",
    "#plot_weights(weights, N_WEIGHTS)"
   ]
  },
  {
   "cell_type": "code",
   "execution_count": null,
   "metadata": {},
   "outputs": [],
   "source": [
    "weights1 = net.fc1.weight.data\n",
    "w1 = weights1.cpu().numpy().reshape(-1,1)\n",
    "weights2 = net.fc2.weight.data\n",
    "w2 = weights2.cpu().numpy().reshape(-1,1)\n",
    "weights3 = net.fc3.weight.data\n",
    "w3 = weights3.cpu().numpy().reshape(-1,1)"
   ]
  },
  {
   "cell_type": "code",
   "execution_count": null,
   "metadata": {},
   "outputs": [],
   "source": [
    "fig, (ax1, ax2, ax3) = plt.subplots(1, 3, figsize=(20,15))\n",
    "ax1.hist(w1, color='black')\n",
    "ax1.set_xlabel('Layer 1')\n",
    "ax2.hist(w2, color='black')\n",
    "ax2.set_xlabel('Layer 2')\n",
    "ax3.hist(w3, color='black')\n",
    "ax3.set_xlabel('Layer 3')\n",
    "plt.show()"
   ]
  },
  {
   "cell_type": "code",
   "execution_count": null,
   "metadata": {},
   "outputs": [],
   "source": [
    "fig, (ax1, ax2) = plt.subplots(2, 1, figsize=(15,15))\n",
    "curves, labels, probs_train = ut.get_predictions(net, train_loader_pred, device)\n",
    "pred_labels = torch.argmax(probs_train, 1)\n",
    "ut.plot_confusion_matrix(np.round(labels), pred_labels, ax1)\n",
    "curves, labels, probs_test = ut.get_predictions(net, test_loader_pred, device)\n",
    "pred_labels = torch.argmax(probs_test, 1)\n",
    "ut.plot_confusion_matrix(np.round(labels), pred_labels, ax2)"
   ]
  },
  {
   "cell_type": "code",
   "execution_count": null,
   "metadata": {},
   "outputs": [],
   "source": []
  }
 ],
 "metadata": {
  "kernelspec": {
   "display_name": "Python 3",
   "language": "python",
   "name": "python3"
  }
 },
 "nbformat": 4,
 "nbformat_minor": 2
}
