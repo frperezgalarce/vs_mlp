{
 "cells": [
  {
   "cell_type": "code",
   "execution_count": 1,
   "metadata": {},
   "outputs": [],
   "source": [
    "import torch\n",
    "import torch.nn as nn\n",
    "import torchvision.datasets as dsets\n",
    "import torchvision.transforms as transforms\n",
    "\n",
    "import torch.nn.functional as f \n",
    "from torch.autograd import Variable\n",
    "torch.backends.cudnn.deterministic = True\n",
    "import pandas as pd\n",
    "import numpy as np\n",
    "import torch.utils.data as data_utils\n",
    "from sklearn.preprocessing import StandardScaler \n",
    "from sklearn.model_selection import train_test_split\n",
    "from matplotlib import pyplot as plt"
   ]
  },
  {
   "cell_type": "code",
   "execution_count": 2,
   "metadata": {},
   "outputs": [],
   "source": [
    "use_cuda = torch.cuda.is_available()\n",
    "device = torch.device(\"cuda:0\" if use_cuda else \"cpu\")\n",
    "torch.backends.cudnn.benchmark = True"
   ]
  },
  {
   "cell_type": "code",
   "execution_count": 3,
   "metadata": {},
   "outputs": [],
   "source": [
    "number = 1\n",
    "fileTrain = '/home/franciscoperez/Documents/GitHub/data/BIASEDFATS/Train_rrlyr-'+str(number)+'.csv'\n",
    "fileTest = '/home/franciscoperez/Documents/GitHub/data/BIASEDFATS/Test_rrlyr-'+str(number)+'.csv'\n",
    "train_dataset = pd.read_csv(fileTrain, index_col ='Unnamed: 0')\n",
    "test_dataset = pd.read_csv(fileTest)"
   ]
  },
  {
   "cell_type": "code",
   "execution_count": 4,
   "metadata": {},
   "outputs": [],
   "source": [
    "train_dataset[['survey', 'zone', 'class', 'id-']]= train_dataset['ID'].str.split(\"-\",expand=True)\n",
    "test_dataset[['survey', 'zone', 'class', 'id-']]= test_dataset['ID'].str.split(\"-\",expand=True)"
   ]
  },
  {
   "cell_type": "code",
   "execution_count": 5,
   "metadata": {},
   "outputs": [],
   "source": [
    "try:\n",
    "    train_dataset =  train_dataset.drop(['Pred', 'Pred2', 'h', 'e', 'u','ID','survey', 'zone','id-', 'label'], axis = 1)\n",
    "    test_dataset = test_dataset[list(train_dataset.columns)]\n",
    "except:\n",
    "    print('---')"
   ]
  },
  {
   "cell_type": "code",
   "execution_count": 6,
   "metadata": {},
   "outputs": [],
   "source": [
    "from sklearn import preprocessing\n",
    "le = preprocessing.LabelEncoder()\n",
    "\n",
    "train_dataset['class']=le.fit_transform(train_dataset['class'])\n",
    "\n",
    "test_dataset['class']=le.fit_transform(test_dataset['class']) "
   ]
  },
  {
   "cell_type": "code",
   "execution_count": 7,
   "metadata": {},
   "outputs": [
    {
     "data": {
      "text/plain": [
       "<matplotlib.axes._subplots.AxesSubplot at 0x7f41fea5cf90>"
      ]
     },
     "execution_count": 7,
     "metadata": {},
     "output_type": "execute_result"
    },
    {
     "data": {
      "image/png": "[encoded data removed]",
      "text/plain": [
       "<Figure size 432x288 with 1 Axes>"
      ]
     },
     "metadata": {
      "needs_background": "light"
     },
     "output_type": "display_data"
    }
   ],
   "source": [
    "test_dataset['class'].hist()"
   ]
  },
  {
   "cell_type": "code",
   "execution_count": 8,
   "metadata": {},
   "outputs": [],
   "source": [
    "n = 4000#train_dataset.shape[0] \n",
    "epsilon = 0.0\n",
    "input_size = train_dataset.shape[1]-1\n",
    "hidden_size = 100\n",
    "hidden_size2 = 100\n",
    "num_classes = 2\n",
    "num_epochs = 50\n",
    "batch_size = 32\n",
    "learning_rate = 0.001\n",
    "regularization = False\n",
    "add_DR_based_data = False\n"
   ]
  },
  {
   "cell_type": "code",
   "execution_count": 9,
   "metadata": {},
   "outputs": [
    {
     "data": {
      "text/html": [
       "<div>\n",
       "<style scoped>\n",
       "    .dataframe tbody tr th:only-of-type {\n",
       "        vertical-align: middle;\n",
       "    }\n",
       "\n",
       "    .dataframe tbody tr th {\n",
       "        vertical-align: top;\n",
       "    }\n",
       "\n",
       "    .dataframe thead th {\n",
       "        text-align: right;\n",
       "    }\n",
       "</style>\n",
       "<table border=\"1\" class=\"dataframe\">\n",
       "  <thead>\n",
       "    <tr style=\"text-align: right;\">\n",
       "      <th></th>\n",
       "      <th>Amplitude</th>\n",
       "      <th>AndersonDarling</th>\n",
       "      <th>Autocor_length</th>\n",
       "      <th>Beyond1Std</th>\n",
       "      <th>CAR_mean</th>\n",
       "      <th>CAR_sigma</th>\n",
       "      <th>CAR_tau</th>\n",
       "      <th>Con</th>\n",
       "      <th>Eta_e</th>\n",
       "      <th>FluxPercentileRatioMid20</th>\n",
       "      <th>...</th>\n",
       "      <th>Skew</th>\n",
       "      <th>SlottedA_length</th>\n",
       "      <th>SmallKurtosis</th>\n",
       "      <th>Std</th>\n",
       "      <th>StetsonK</th>\n",
       "      <th>StetsonK_AC</th>\n",
       "      <th>StructureFunction_index_21</th>\n",
       "      <th>StructureFunction_index_31</th>\n",
       "      <th>StructureFunction_index_32</th>\n",
       "      <th>class</th>\n",
       "    </tr>\n",
       "  </thead>\n",
       "  <tbody>\n",
       "    <tr>\n",
       "      <th>251563</th>\n",
       "      <td>0.0175</td>\n",
       "      <td>0.014598</td>\n",
       "      <td>2</td>\n",
       "      <td>0.313333</td>\n",
       "      <td>17.272907</td>\n",
       "      <td>0.750337</td>\n",
       "      <td>0.858966</td>\n",
       "      <td>0.000000</td>\n",
       "      <td>4.299755</td>\n",
       "      <td>0.166667</td>\n",
       "      <td>...</td>\n",
       "      <td>-0.261601</td>\n",
       "      <td>5.69511</td>\n",
       "      <td>0.211725</td>\n",
       "      <td>0.009588</td>\n",
       "      <td>0.800082</td>\n",
       "      <td>0.715456</td>\n",
       "      <td>2.104365</td>\n",
       "      <td>3.285954</td>\n",
       "      <td>1.593580</td>\n",
       "      <td>7</td>\n",
       "    </tr>\n",
       "    <tr>\n",
       "      <th>87418</th>\n",
       "      <td>0.1765</td>\n",
       "      <td>0.261221</td>\n",
       "      <td>18</td>\n",
       "      <td>0.340000</td>\n",
       "      <td>57.086389</td>\n",
       "      <td>0.560609</td>\n",
       "      <td>0.241568</td>\n",
       "      <td>0.033557</td>\n",
       "      <td>13.145610</td>\n",
       "      <td>0.143382</td>\n",
       "      <td>...</td>\n",
       "      <td>0.133151</td>\n",
       "      <td>0.05874</td>\n",
       "      <td>-0.146736</td>\n",
       "      <td>0.085131</td>\n",
       "      <td>0.799729</td>\n",
       "      <td>0.779256</td>\n",
       "      <td>1.648957</td>\n",
       "      <td>2.091635</td>\n",
       "      <td>1.315987</td>\n",
       "      <td>7</td>\n",
       "    </tr>\n",
       "    <tr>\n",
       "      <th>420469</th>\n",
       "      <td>0.1205</td>\n",
       "      <td>0.000000</td>\n",
       "      <td>4</td>\n",
       "      <td>0.293333</td>\n",
       "      <td>18.261878</td>\n",
       "      <td>0.279141</td>\n",
       "      <td>0.914663</td>\n",
       "      <td>0.010067</td>\n",
       "      <td>4.765135</td>\n",
       "      <td>0.210762</td>\n",
       "      <td>...</td>\n",
       "      <td>0.664983</td>\n",
       "      <td>0.04528</td>\n",
       "      <td>-0.378130</td>\n",
       "      <td>0.069715</td>\n",
       "      <td>0.835002</td>\n",
       "      <td>0.879351</td>\n",
       "      <td>1.653045</td>\n",
       "      <td>2.078510</td>\n",
       "      <td>1.341697</td>\n",
       "      <td>6</td>\n",
       "    </tr>\n",
       "    <tr>\n",
       "      <th>183675</th>\n",
       "      <td>0.3410</td>\n",
       "      <td>0.000000</td>\n",
       "      <td>1</td>\n",
       "      <td>0.186667</td>\n",
       "      <td>25.237519</td>\n",
       "      <td>0.264553</td>\n",
       "      <td>0.771526</td>\n",
       "      <td>0.000000</td>\n",
       "      <td>29.393089</td>\n",
       "      <td>0.092334</td>\n",
       "      <td>...</td>\n",
       "      <td>1.417394</td>\n",
       "      <td>1.95261</td>\n",
       "      <td>2.133718</td>\n",
       "      <td>0.162634</td>\n",
       "      <td>0.743934</td>\n",
       "      <td>0.766394</td>\n",
       "      <td>2.108018</td>\n",
       "      <td>3.328353</td>\n",
       "      <td>1.617046</td>\n",
       "      <td>6</td>\n",
       "    </tr>\n",
       "    <tr>\n",
       "      <th>2657</th>\n",
       "      <td>0.0160</td>\n",
       "      <td>0.000078</td>\n",
       "      <td>1</td>\n",
       "      <td>0.286667</td>\n",
       "      <td>341.088522</td>\n",
       "      <td>0.232918</td>\n",
       "      <td>0.039738</td>\n",
       "      <td>0.000000</td>\n",
       "      <td>437.486698</td>\n",
       "      <td>0.148148</td>\n",
       "      <td>...</td>\n",
       "      <td>0.550218</td>\n",
       "      <td>1.62666</td>\n",
       "      <td>0.918243</td>\n",
       "      <td>0.007920</td>\n",
       "      <td>0.755446</td>\n",
       "      <td>0.693334</td>\n",
       "      <td>1.699552</td>\n",
       "      <td>2.256492</td>\n",
       "      <td>1.364194</td>\n",
       "      <td>7</td>\n",
       "    </tr>\n",
       "  </tbody>\n",
       "</table>\n",
       "<p>5 rows × 64 columns</p>\n",
       "</div>"
      ],
      "text/plain": [
       "        Amplitude  AndersonDarling  Autocor_length  Beyond1Std    CAR_mean  \\\n",
       "251563     0.0175         0.014598               2    0.313333   17.272907   \n",
       "87418      0.1765         0.261221              18    0.340000   57.086389   \n",
       "420469     0.1205         0.000000               4    0.293333   18.261878   \n",
       "183675     0.3410         0.000000               1    0.186667   25.237519   \n",
       "2657       0.0160         0.000078               1    0.286667  341.088522   \n",
       "\n",
       "        CAR_sigma   CAR_tau       Con       Eta_e  FluxPercentileRatioMid20  \\\n",
       "251563   0.750337  0.858966  0.000000    4.299755                  0.166667   \n",
       "87418    0.560609  0.241568  0.033557   13.145610                  0.143382   \n",
       "420469   0.279141  0.914663  0.010067    4.765135                  0.210762   \n",
       "183675   0.264553  0.771526  0.000000   29.393089                  0.092334   \n",
       "2657     0.232918  0.039738  0.000000  437.486698                  0.148148   \n",
       "\n",
       "        ...      Skew  SlottedA_length  SmallKurtosis       Std  StetsonK  \\\n",
       "251563  ... -0.261601          5.69511       0.211725  0.009588  0.800082   \n",
       "87418   ...  0.133151          0.05874      -0.146736  0.085131  0.799729   \n",
       "420469  ...  0.664983          0.04528      -0.378130  0.069715  0.835002   \n",
       "183675  ...  1.417394          1.95261       2.133718  0.162634  0.743934   \n",
       "2657    ...  0.550218          1.62666       0.918243  0.007920  0.755446   \n",
       "\n",
       "        StetsonK_AC  StructureFunction_index_21  StructureFunction_index_31  \\\n",
       "251563     0.715456                    2.104365                    3.285954   \n",
       "87418      0.779256                    1.648957                    2.091635   \n",
       "420469     0.879351                    1.653045                    2.078510   \n",
       "183675     0.766394                    2.108018                    3.328353   \n",
       "2657       0.693334                    1.699552                    2.256492   \n",
       "\n",
       "        StructureFunction_index_32  class  \n",
       "251563                    1.593580      7  \n",
       "87418                     1.315987      7  \n",
       "420469                    1.341697      6  \n",
       "183675                    1.617046      6  \n",
       "2657                      1.364194      7  \n",
       "\n",
       "[5 rows x 64 columns]"
      ]
     },
     "execution_count": 9,
     "metadata": {},
     "output_type": "execute_result"
    }
   ],
   "source": [
    "#minimum_period = train_dataset['PeriodLS'].min()\n",
    "#maximum_period = 5#train_dataset['PeriodLS'].max()\n",
    "\n",
    "\n",
    "train_dataset = train_dataset.sample(n)\n",
    "#label = train_dataset['label']\n",
    "#del train_dataset['label']\n",
    "#scaler = StandardScaler()\n",
    "# train_dataset_scaled = scaler.fit_transform(train_dataset)\n",
    "#train_dataset = pd.DataFrame(train_dataset_scaled, columns=train_dataset.columns)\n",
    "#train_dataset['label'] = label\n",
    "train_dataset.head()\n"
   ]
  },
  {
   "cell_type": "code",
   "execution_count": 10,
   "metadata": {},
   "outputs": [],
   "source": [
    "# Losslabel = test_dataset[['label']]\n",
    "#del test_dataset['label']\n",
    "#test_dataset_scaled = scaler.transform(test_dataset)\n",
    "#test_dataset = pd.DataFrame(test_dataset_scaled, columns=test_dataset.columns)\n",
    "#test_dataset['label'] = label\n",
    "#test_dataset.head()"
   ]
  },
  {
   "cell_type": "code",
   "execution_count": 11,
   "metadata": {},
   "outputs": [],
   "source": [
    "#(np.random.uniform(0.1,1.1)-minimum_period)/(maximum_period-minimum_period)"
   ]
  },
  {
   "cell_type": "code",
   "execution_count": 12,
   "metadata": {},
   "outputs": [
    {
     "data": {
      "image/png": "[encoded data removed]",
      "text/plain": [
       "<Figure size 432x288 with 1 Axes>"
      ]
     },
     "metadata": {
      "needs_background": "light"
     },
     "output_type": "display_data"
    }
   ],
   "source": [
    "train_dataset['PeriodLS'].hist()\n",
    "plt.show()"
   ]
  },
  {
   "cell_type": "code",
   "execution_count": 13,
   "metadata": {},
   "outputs": [
    {
     "data": {
      "text/plain": [
       "<matplotlib.axes._subplots.AxesSubplot at 0x7f41f0bed690>"
      ]
     },
     "execution_count": 13,
     "metadata": {},
     "output_type": "execute_result"
    },
    {
     "data": {
      "image/png": "[encoded data removed]",
      "text/plain": [
       "<Figure size 432x288 with 1 Axes>"
      ]
     },
     "metadata": {
      "needs_background": "light"
     },
     "output_type": "display_data"
    }
   ],
   "source": [
    "train_dataset['class'].hist()"
   ]
  },
  {
   "cell_type": "code",
   "execution_count": 14,
   "metadata": {},
   "outputs": [],
   "source": [
    "samples = 500\n",
    "if add_DR_based_data:\n",
    "    for i in range(samples):\n",
    "        new_data = pd.DataFrame(train_dataset.sample(1000).mean()).T\n",
    "        new_data['PeriodLS']= (np.random.uniform(0.2-epsilon,1.0+epsilon))#-minimum_period)/(maximum_period-minimum_period)\n",
    "        new_data['label'] = 'RRLYR'\n",
    "        frames = [train_dataset, new_data]\n",
    "        train_dataset = pd.concat(frames)\n",
    "    \n",
    "    for i in range(0):\n",
    "        new_data = pd.DataFrame(train_dataset.sample(1000).mean()).T\n",
    "        new_data['PeriodLS']=(np.random.uniform(0.0,0.2))#-minimum_period)/(maximum_period-minimum_period)\n",
    "        new_data['label'] = 'ClassB'\n",
    "        frames = [train_dataset, new_data]\n",
    "        train_dataset = pd.concat(frames)\n",
    "        \n",
    "    for i in range(0):    \n",
    "        new_data = pd.DataFrame(train_dataset.sample(1000).mean()).T\n",
    "        new_data['PeriodLS']=(np.random.uniform(1.0,1.2))#-minimum_period)/(maximum_period-minimum_period)\n",
    "        new_data['label'] = 'ClassB'\n",
    "        frames = [train_dataset, new_data]\n",
    "        train_dataset = pd.concat(frames)"
   ]
  },
  {
   "cell_type": "code",
   "execution_count": 15,
   "metadata": {},
   "outputs": [
    {
     "data": {
      "image/png": "[encoded data removed]",
      "text/plain": [
       "<Figure size 432x288 with 1 Axes>"
      ]
     },
     "metadata": {
      "needs_background": "light"
     },
     "output_type": "display_data"
    }
   ],
   "source": [
    "train_dataset['PeriodLS'].hist()\n",
    "plt.show()"
   ]
  },
  {
   "cell_type": "code",
   "execution_count": 16,
   "metadata": {},
   "outputs": [],
   "source": [
    "train_dataset, val_dataset = train_test_split(train_dataset, test_size=0.1, random_state=42)"
   ]
  },
  {
   "cell_type": "code",
   "execution_count": 17,
   "metadata": {},
   "outputs": [
    {
     "data": {
      "text/plain": [
       "tensor([10,  9,  7,  ...,  7,  7,  6])"
      ]
     },
     "execution_count": 17,
     "metadata": {},
     "output_type": "execute_result"
    }
   ],
   "source": [
    "torch.from_numpy(np.asarray(train_dataset['class']))"
   ]
  },
  {
   "cell_type": "markdown",
   "metadata": {},
   "source": [
    "Cases using DR 1: Period $ \\in [0.2,1.0]$ days"
   ]
  },
  {
   "cell_type": "code",
   "execution_count": 18,
   "metadata": {},
   "outputs": [],
   "source": [
    "#train_dataset['label'] = 1*(train_dataset['label'] == 'ClassA')\n",
    "train_target = torch.from_numpy(np.asarray(train_dataset['class'])).long()\n",
    "train = torch.tensor(train_dataset.drop('class', axis = 1).values.astype(np.float32)) \n",
    "train = f.normalize(train)\n",
    "train_tensor = data_utils.TensorDataset(train, train_target) \n",
    "train_loader = data_utils.DataLoader(dataset = train_tensor, batch_size = batch_size, shuffle = True)"
   ]
  },
  {
   "cell_type": "code",
   "execution_count": 19,
   "metadata": {},
   "outputs": [],
   "source": [
    "#val_dataset['label'] = 1*(val_dataset['label'] == 'ClassA')\n",
    "val_target = torch.from_numpy(np.asarray(val_dataset['class'])).long()\n",
    "val = torch.tensor(val_dataset.drop('class', axis = 1).values.astype(np.float32)) \n",
    "val = f.normalize(val)\n",
    "val_tensor = data_utils.TensorDataset(val, val_target) \n",
    "val_loader = data_utils.DataLoader(dataset = val_tensor, batch_size = batch_size, shuffle = True)"
   ]
  },
  {
   "cell_type": "code",
   "execution_count": 20,
   "metadata": {},
   "outputs": [],
   "source": [
    "#test_dataset['label'] = 1*(test_dataset['label'] == 'ClassA')\n",
    "test_target = torch.from_numpy(np.asarray(test_dataset['class'])).long()\n",
    "test = torch.tensor(test_dataset.drop('class', axis = 1).values.astype(np.float32)) \n",
    "test = f.normalize(test)\n",
    "test_tensor = data_utils.TensorDataset(test, test_target) \n",
    "test_loader = data_utils.DataLoader(dataset = test_tensor, batch_size = batch_size, shuffle = True)"
   ]
  },
  {
   "cell_type": "code",
   "execution_count": 21,
   "metadata": {},
   "outputs": [
    {
     "data": {
      "text/plain": [
       "Net(\n",
       "  (fc1): Linear(in_features=63, out_features=100, bias=True)\n",
       "  (relu): ReLU()\n",
       "  (fc2): Linear(in_features=100, out_features=100, bias=True)\n",
       "  (relu2): ReLU()\n",
       "  (fc3): Linear(in_features=100, out_features=2, bias=True)\n",
       ")"
      ]
     },
     "execution_count": 21,
     "metadata": {},
     "output_type": "execute_result"
    }
   ],
   "source": [
    "# Neural Network Model (1 hidden layer)\n",
    "class Net(nn.Module):\n",
    "    def __init__(self, input_size, hidden_size,hidden_size2, num_classes):\n",
    "        super(Net, self).__init__()\n",
    "        self.fc1 = nn.Linear(input_size, hidden_size) \n",
    "        self.relu = nn.ReLU()\n",
    "        self.fc2 = nn.Linear(hidden_size, hidden_size2)  \n",
    "        self.relu2 = nn.ReLU()\n",
    "        self.fc3 = nn.Linear(hidden_size2, num_classes)  \n",
    "    \n",
    "    def forward(self, x):\n",
    "        out = self.fc1(x)\n",
    "        out = self.relu(out)\n",
    "        out = self.fc2(out)\n",
    "        out = self.relu2(out)\n",
    "        out = self.fc3(out)\n",
    "        return out\n",
    "    \n",
    "net = Net(input_size, hidden_size, hidden_size2, num_classes)\n",
    "net.cuda()   "
   ]
  },
  {
   "cell_type": "code",
   "execution_count": 22,
   "metadata": {},
   "outputs": [],
   "source": [
    "# Loss and Optimizer\n",
    "criterion = nn.CrossEntropyLoss()  \n",
    "optimizer = torch.optim.Adam(net.parameters(), lr=learning_rate)  "
   ]
  },
  {
   "cell_type": "code",
   "execution_count": 23,
   "metadata": {},
   "outputs": [
    {
     "name": "stdout",
     "output_type": "stream",
     "text": [
      "-----------Training----------------------------\n"
     ]
    },
    {
     "ename": "RuntimeError",
     "evalue": "cublas runtime error : the GPU program failed to execute at /pytorch/aten/src/THC/THCBlas.cu:258",
     "output_type": "error",
     "traceback": [
      "\u001b[0;31m---------------------------------------------------------------------------\u001b[0m",
      "\u001b[0;31mRuntimeError\u001b[0m                              Traceback (most recent call last)",
      "\u001b[0;32m<ipython-input-23-68c62f3d700b>\u001b[0m in \u001b[0;36m<module>\u001b[0;34m()\u001b[0m\n\u001b[1;32m     27\u001b[0m             \u001b[0mloss\u001b[0m \u001b[0;34m=\u001b[0m \u001b[0mloss\u001b[0m \u001b[0;34m+\u001b[0m \u001b[0mlambda1\u001b[0m\u001b[0;34m*\u001b[0m\u001b[0ml1_regularization\u001b[0m \u001b[0;34m+\u001b[0m \u001b[0mlambda2\u001b[0m\u001b[0;34m*\u001b[0m\u001b[0ml2_regularization\u001b[0m\u001b[0;34m\u001b[0m\u001b[0;34m\u001b[0m\u001b[0m\n\u001b[1;32m     28\u001b[0m \u001b[0;34m\u001b[0m\u001b[0m\n\u001b[0;32m---> 29\u001b[0;31m         \u001b[0mloss\u001b[0m\u001b[0;34m.\u001b[0m\u001b[0mbackward\u001b[0m\u001b[0;34m(\u001b[0m\u001b[0;34m)\u001b[0m\u001b[0;34m\u001b[0m\u001b[0;34m\u001b[0m\u001b[0m\n\u001b[0m\u001b[1;32m     30\u001b[0m         \u001b[0moptimizer\u001b[0m\u001b[0;34m.\u001b[0m\u001b[0mstep\u001b[0m\u001b[0;34m(\u001b[0m\u001b[0;34m)\u001b[0m\u001b[0;34m\u001b[0m\u001b[0;34m\u001b[0m\u001b[0m\n\u001b[1;32m     31\u001b[0m \u001b[0;34m\u001b[0m\u001b[0m\n",
      "\u001b[0;32m~/anaconda3/lib/python3.7/site-packages/torch/tensor.py\u001b[0m in \u001b[0;36mbackward\u001b[0;34m(self, gradient, retain_graph, create_graph)\u001b[0m\n\u001b[1;32m    100\u001b[0m                 \u001b[0mproducts\u001b[0m\u001b[0;34m.\u001b[0m \u001b[0mDefaults\u001b[0m \u001b[0mto\u001b[0m\u001b[0;31m \u001b[0m\u001b[0;31m`\u001b[0m\u001b[0;31m`\u001b[0m\u001b[0;32mFalse\u001b[0m\u001b[0;31m`\u001b[0m\u001b[0;31m`\u001b[0m\u001b[0;34m.\u001b[0m\u001b[0;34m\u001b[0m\u001b[0;34m\u001b[0m\u001b[0m\n\u001b[1;32m    101\u001b[0m         \"\"\"\n\u001b[0;32m--> 102\u001b[0;31m         \u001b[0mtorch\u001b[0m\u001b[0;34m.\u001b[0m\u001b[0mautograd\u001b[0m\u001b[0;34m.\u001b[0m\u001b[0mbackward\u001b[0m\u001b[0;34m(\u001b[0m\u001b[0mself\u001b[0m\u001b[0;34m,\u001b[0m \u001b[0mgradient\u001b[0m\u001b[0;34m,\u001b[0m \u001b[0mretain_graph\u001b[0m\u001b[0;34m,\u001b[0m \u001b[0mcreate_graph\u001b[0m\u001b[0;34m)\u001b[0m\u001b[0;34m\u001b[0m\u001b[0;34m\u001b[0m\u001b[0m\n\u001b[0m\u001b[1;32m    103\u001b[0m \u001b[0;34m\u001b[0m\u001b[0m\n\u001b[1;32m    104\u001b[0m     \u001b[0;32mdef\u001b[0m \u001b[0mregister_hook\u001b[0m\u001b[0;34m(\u001b[0m\u001b[0mself\u001b[0m\u001b[0;34m,\u001b[0m \u001b[0mhook\u001b[0m\u001b[0;34m)\u001b[0m\u001b[0;34m:\u001b[0m\u001b[0;34m\u001b[0m\u001b[0;34m\u001b[0m\u001b[0m\n",
      "\u001b[0;32m~/anaconda3/lib/python3.7/site-packages/torch/autograd/__init__.py\u001b[0m in \u001b[0;36mbackward\u001b[0;34m(tensors, grad_tensors, retain_graph, create_graph, grad_variables)\u001b[0m\n\u001b[1;32m     88\u001b[0m     Variable._execution_engine.run_backward(\n\u001b[1;32m     89\u001b[0m         \u001b[0mtensors\u001b[0m\u001b[0;34m,\u001b[0m \u001b[0mgrad_tensors\u001b[0m\u001b[0;34m,\u001b[0m \u001b[0mretain_graph\u001b[0m\u001b[0;34m,\u001b[0m \u001b[0mcreate_graph\u001b[0m\u001b[0;34m,\u001b[0m\u001b[0;34m\u001b[0m\u001b[0;34m\u001b[0m\u001b[0m\n\u001b[0;32m---> 90\u001b[0;31m         allow_unreachable=True)  # allow_unreachable flag\n\u001b[0m\u001b[1;32m     91\u001b[0m \u001b[0;34m\u001b[0m\u001b[0m\n\u001b[1;32m     92\u001b[0m \u001b[0;34m\u001b[0m\u001b[0m\n",
      "\u001b[0;31mRuntimeError\u001b[0m: cublas runtime error : the GPU program failed to execute at /pytorch/aten/src/THC/THCBlas.cu:258"
     ]
    }
   ],
   "source": [
    "# Train the Model   \n",
    "hist_train = []\n",
    "hist_val = []\n",
    "\n",
    "for epoch in range(num_epochs):\n",
    "    print('-----------Training----------------------------')\n",
    "    epoch_loss = 0.0\n",
    "    running_loss = 0.0\n",
    "    for i, (star, labels) in enumerate(train_loader):  \n",
    "        star = Variable(star.view(-1, input_size)).cuda()\n",
    "        labels = Variable(labels).cuda()\n",
    "        #print(star[:,49])\n",
    "        # Forward + Backward + Optimize\n",
    "        optimizer.zero_grad()  # zero the gradient buffer\n",
    "        outputs = net(star)\n",
    "        #print(softmax(outputs))\n",
    "        loss = criterion(outputs, labels.long())\n",
    "        \n",
    "        if regularization:\n",
    "            l1_regularization = 0\n",
    "            l2_regularization = 0\n",
    "            lambda1 = 0.001\n",
    "            lambda2 = 0.001\n",
    "            for param in net.parameters():\n",
    "                l1_regularization += torch.norm(param, 1)**2\n",
    "                l2_regularization += torch.norm(param, 2)**2\n",
    "            loss = loss + lambda1*l1_regularization + lambda2*l2_regularization\n",
    "                \n",
    "        loss.backward()\n",
    "        optimizer.step()\n",
    "        \n",
    "        epoch_loss += outputs.shape[0] * loss.item()      \n",
    "        running_loss += loss.item()\n",
    "        \n",
    "        if i % 2000 == 1999:    # print every 2000 mini-batches\n",
    "            print('[%d, %5d] loss: %.3f' %\n",
    "                  (epoch + 1, i + 1, running_loss / 2000))\n",
    "            running_loss = 0.0\n",
    "    hist_train.append(epoch_loss)\n",
    "    print(epoch+1, epoch_loss / len(train_loader))\n",
    "    print('-----------Validation----------------------------')\n",
    "    epoch_loss = 0.0\n",
    "    running_loss = 0.0\n",
    "    for i, (star, labels) in enumerate(val_loader):  \n",
    "        star = Variable(star.view(-1, input_size)).cuda()\n",
    "        labels = Variable(labels).cuda()\n",
    "        optimizer.zero_grad()  # zero the gradient buffer\n",
    "        outputs = net(star)\n",
    "        loss = criterion(outputs, labels.long())    \n",
    "        epoch_loss += outputs.shape[0] * loss.item()      \n",
    "        running_loss += loss.item()\n",
    "        \n",
    "        if i % 2000 == 1999:    # print every 2000 mini-batches\n",
    "            print('[%d, %5d] loss: %.3f' %\n",
    "                  (epoch + 1, i + 1, running_loss / 2000))\n",
    "            running_loss = 0.0\n",
    "    print(epoch+1, epoch_loss / len(val_loader))\n",
    "    hist_val.append(epoch_loss)\n"
   ]
  },
  {
   "cell_type": "code",
   "execution_count": null,
   "metadata": {},
   "outputs": [],
   "source": [
    "# Test the Model\n",
    "correct = 0\n",
    "total = 0\n",
    "for star, labels in test_loader:\n",
    "    images = Variable(star.view(-1, input_size)).cuda()\n",
    "    outputs = net(images)\n",
    "    _, predicted = torch.max(outputs.data, 1)\n",
    "    total += labels.size(0)\n",
    "    correct += (predicted.cpu() == labels.long()).sum()\n",
    "print('Accuracy of the network on test objects: %d %%' % (100 * correct / total))\n",
    "acc_testing = 100 *correct / total\n",
    "print(np.asarray(acc_testing))"
   ]
  },
  {
   "cell_type": "code",
   "execution_count": null,
   "metadata": {},
   "outputs": [],
   "source": [
    "correct = 0\n",
    "total = 0\n",
    "for star, labels in train_loader:\n",
    "    images = Variable(star.view(-1, input_size)).cuda()\n",
    "    outputs = net(images)\n",
    "    _, predicted = torch.max(outputs.data, 1)\n",
    "    total += labels.size(0)\n",
    "    correct += (predicted.cpu() == labels.long()).sum()\n",
    "print('Accuracy of the network on train objects: %d %%' % (100 * correct / total))\n",
    "acc_training = 100 *correct / total"
   ]
  },
  {
   "cell_type": "code",
   "execution_count": null,
   "metadata": {},
   "outputs": [],
   "source": [
    "# Save the Model\n",
    "torch.save(net.state_dict(), 'model.pkl')"
   ]
  },
  {
   "cell_type": "code",
   "execution_count": null,
   "metadata": {},
   "outputs": [],
   "source": [
    "def softmax(x): \n",
    "    return x.exp() / (x.exp().sum(-1)).unsqueeze(-1)"
   ]
  },
  {
   "cell_type": "code",
   "execution_count": null,
   "metadata": {},
   "outputs": [],
   "source": [
    "plt.plot(hist_val, label ='validation/test')\n",
    "plt.plot(hist_train, label ='train')\n",
    "plt.legend()\n",
    "plt.savefig('images/'+str(samples)+'_'+str(epsilon)+'_'+str(n)+\"_\"+str(hidden_size)+\"_Loss_Training.png\")\n",
    "plt.show()"
   ]
  },
  {
   "cell_type": "code",
   "execution_count": null,
   "metadata": {},
   "outputs": [],
   "source": [
    "csv_file = open(\"results.csv\", \"a\")\n",
    "csv_file.write(str(np.asarray(acc_testing))+\",\"+str(np.asarray(acc_training))+\",\"+str(samples)+\",\"+str(epsilon)+\",\"+str(n)+\",\"+str(hidden_size)+\"\\n\")\n",
    "csv_file.close()"
   ]
  }
 ],
 "metadata": {
  "kernelspec": {
   "display_name": "Python 3",
   "language": "python",
   "name": "python3"
  },
  "language_info": {
   "codemirror_mode": {
    "name": "ipython",
    "version": 3
   },
   "file_extension": ".py",
   "mimetype": "text/x-python",
   "name": "python",
   "nbconvert_exporter": "python",
   "pygments_lexer": "ipython3",
   "version": "3.7.7"
  }
 },
 "nbformat": 4,
 "nbformat_minor": 2
}
