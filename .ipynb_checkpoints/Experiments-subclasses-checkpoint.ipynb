{
 "cells": [
  {
   "cell_type": "code",
   "execution_count": 1,
   "metadata": {},
   "outputs": [
    {
     "name": "stderr",
     "output_type": "stream",
     "text": [
      "/home/franciscoperez/anaconda3/lib/python3.7/site-packages/pandas/compat/_optional.py:138: UserWarning: Pandas requires version '2.7.0' or newer of 'numexpr' (version '2.6.8' currently installed).\n",
      "  warnings.warn(msg, UserWarning)\n",
      "In /home/franciscoperez/anaconda3/lib/python3.7/site-packages/matplotlib/mpl-data/stylelib/_classic_test.mplstyle: \n",
      "The text.latex.preview rcparam was deprecated in Matplotlib 3.3 and will be removed two minor releases later.\n",
      "In /home/franciscoperez/anaconda3/lib/python3.7/site-packages/matplotlib/mpl-data/stylelib/_classic_test.mplstyle: \n",
      "The mathtext.fallback_to_cm rcparam was deprecated in Matplotlib 3.3 and will be removed two minor releases later.\n",
      "In /home/franciscoperez/anaconda3/lib/python3.7/site-packages/matplotlib/mpl-data/stylelib/_classic_test.mplstyle: Support for setting the 'mathtext.fallback_to_cm' rcParam is deprecated since 3.3 and will be removed two minor releases later; use 'mathtext.fallback : 'cm' instead.\n",
      "In /home/franciscoperez/anaconda3/lib/python3.7/site-packages/matplotlib/mpl-data/stylelib/_classic_test.mplstyle: \n",
      "The validate_bool_maybe_none function was deprecated in Matplotlib 3.3 and will be removed two minor releases later.\n",
      "In /home/franciscoperez/anaconda3/lib/python3.7/site-packages/matplotlib/mpl-data/stylelib/_classic_test.mplstyle: \n",
      "The savefig.jpeg_quality rcparam was deprecated in Matplotlib 3.3 and will be removed two minor releases later.\n",
      "In /home/franciscoperez/anaconda3/lib/python3.7/site-packages/matplotlib/mpl-data/stylelib/_classic_test.mplstyle: \n",
      "The keymap.all_axes rcparam was deprecated in Matplotlib 3.3 and will be removed two minor releases later.\n",
      "In /home/franciscoperez/anaconda3/lib/python3.7/site-packages/matplotlib/mpl-data/stylelib/_classic_test.mplstyle: \n",
      "The animation.avconv_path rcparam was deprecated in Matplotlib 3.3 and will be removed two minor releases later.\n",
      "In /home/franciscoperez/anaconda3/lib/python3.7/site-packages/matplotlib/mpl-data/stylelib/_classic_test.mplstyle: \n",
      "The animation.avconv_args rcparam was deprecated in Matplotlib 3.3 and will be removed two minor releases later.\n"
     ]
    }
   ],
   "source": [
    "import pandas as pd\n",
    "import numpy as np\n",
    "import matplotlib.pyplot as plt\n",
    "import seaborn as sns\n",
    "import matplotlib\n",
    "import matplotlib.pylab as pylab\n",
    "from matplotlib.ticker import FormatStrFormatter, StrMethodFormatter\n",
    "\n",
    "params = {'legend.fontsize': 'x-large',\n",
    "          'figure.figsize': (15, 5),\n",
    "         'axes.labelsize': 'x-large',\n",
    "         'axes.titlesize':'x-large',\n",
    "         'xtick.labelsize':'x-large',\n",
    "         'ytick.labelsize':'x-large'}\n",
    "pylab.rcParams.update(params)"
   ]
  },
  {
   "cell_type": "code",
   "execution_count": 2,
   "metadata": {},
   "outputs": [],
   "source": [
    "# experimentos al 20-05-2022\n",
    "\n",
    "#data2d_gaussian=pd.read_csv('25-04-2022-results_2d_gaussian.csv')\n",
    "#data2d_uniform =pd.read_csv('25-04-2022-results_2d.csv')\n",
    "#data1d_period =pd.read_csv('rrab_1D_uniform_amplitude-18-05-2022.csv')\n",
    "#data1d_amplitude =pd.read_csv('25-04-2022-results1D-sample.csv')\n",
    "#dropout =pd.read_csv('(baseline-dropout)05-05-2022-results1D.csv')\n",
    "#baseline = pd.read_csv('rrab_subclasses_dropout__16-05-2022-baseline.csv')"
   ]
  },
  {
   "cell_type": "code",
   "execution_count": 3,
   "metadata": {},
   "outputs": [],
   "source": [
    "data2d_gaussian=pd.read_csv('21-05-2022-2d_gaussian-RRLyrae.csv')\n",
    "data2d_uniform =pd.read_csv('21-05-2022-2D-uniform-RRLyrae.csv')\n",
    "data1d_amplitude =pd.read_csv('21-05-2022-1D-amplitude-RRLyrae.csv')\n",
    "data1d_period =pd.read_csv('1D-period-21-05-2022-RRLyrae.csv')\n",
    "dropout =pd.read_csv('21-05-2022-baseline-dropout-RRLyrae.csv')\n",
    "baseline = pd.read_csv('21-05-2022-baseline-RRLyrae.csv')"
   ]
  },
  {
   "cell_type": "code",
   "execution_count": 4,
   "metadata": {},
   "outputs": [],
   "source": [
    "data2d_gaussian.loc[data2d_gaussian['aux_loss_activated']==True, 'aux_loss_activated'] = '2D-gaussian'\n",
    "data2d_uniform.loc[data2d_uniform['aux_loss_activated']==True, 'aux_loss_activated'] = '2D-uniform'\n",
    "data1d_period.loc[data1d_period['aux_loss_activated']==True, 'aux_loss_activated'] = '1D-period'\n",
    "data1d_amplitude.loc[data1d_amplitude['aux_loss_activated']==True, 'aux_loss_activated'] = '1D-amplitude'\n",
    "dropout.loc[dropout['aux_loss_activated']==False, 'aux_loss_activated'] = 'dropout'"
   ]
  },
  {
   "cell_type": "code",
   "execution_count": null,
   "metadata": {},
   "outputs": [],
   "source": []
  },
  {
   "cell_type": "code",
   "execution_count": null,
   "metadata": {},
   "outputs": [],
   "source": []
  },
  {
   "cell_type": "code",
   "execution_count": 5,
   "metadata": {},
   "outputs": [],
   "source": [
    "data = pd.concat([baseline,dropout, data1d_period, data1d_amplitude, data2d_uniform, data2d_gaussian])"
   ]
  },
  {
   "cell_type": "code",
   "execution_count": 6,
   "metadata": {},
   "outputs": [
    {
     "data": {
      "text/html": [
       "<div>\n",
       "<style scoped>\n",
       "    .dataframe tbody tr th:only-of-type {\n",
       "        vertical-align: middle;\n",
       "    }\n",
       "\n",
       "    .dataframe tbody tr th {\n",
       "        vertical-align: top;\n",
       "    }\n",
       "\n",
       "    .dataframe thead th {\n",
       "        text-align: right;\n",
       "    }\n",
       "</style>\n",
       "<table border=\"1\" class=\"dataframe\">\n",
       "  <thead>\n",
       "    <tr style=\"text-align: right;\">\n",
       "      <th></th>\n",
       "      <th>Unnamed: 0</th>\n",
       "      <th>acc_train</th>\n",
       "      <th>acc_test</th>\n",
       "      <th>recall_train</th>\n",
       "      <th>recall_test</th>\n",
       "      <th>f1_train</th>\n",
       "      <th>f1_test</th>\n",
       "      <th>epsilon</th>\n",
       "      <th>batch_size</th>\n",
       "      <th>hidden_size</th>\n",
       "      <th>aux_loss_activated</th>\n",
       "      <th>EPS1</th>\n",
       "      <th>n</th>\n",
       "      <th>opt</th>\n",
       "    </tr>\n",
       "  </thead>\n",
       "  <tbody>\n",
       "    <tr>\n",
       "      <th>0</th>\n",
       "      <td>0</td>\n",
       "      <td>99.03847</td>\n",
       "      <td>61.479206</td>\n",
       "      <td>0.999429</td>\n",
       "      <td>0.965577</td>\n",
       "      <td>0.994886</td>\n",
       "      <td>0.751254</td>\n",
       "      <td>0.2</td>\n",
       "      <td>256</td>\n",
       "      <td>100</td>\n",
       "      <td>False</td>\n",
       "      <td>0.005</td>\n",
       "      <td>5000</td>\n",
       "      <td>2</td>\n",
       "    </tr>\n",
       "    <tr>\n",
       "      <th>1</th>\n",
       "      <td>1</td>\n",
       "      <td>99.05345</td>\n",
       "      <td>67.147194</td>\n",
       "      <td>1.000000</td>\n",
       "      <td>0.939219</td>\n",
       "      <td>0.995245</td>\n",
       "      <td>0.783092</td>\n",
       "      <td>0.2</td>\n",
       "      <td>256</td>\n",
       "      <td>100</td>\n",
       "      <td>False</td>\n",
       "      <td>0.005</td>\n",
       "      <td>5000</td>\n",
       "      <td>2</td>\n",
       "    </tr>\n",
       "    <tr>\n",
       "      <th>2</th>\n",
       "      <td>2</td>\n",
       "      <td>99.13892</td>\n",
       "      <td>65.802540</td>\n",
       "      <td>0.998843</td>\n",
       "      <td>0.954198</td>\n",
       "      <td>0.995102</td>\n",
       "      <td>0.778908</td>\n",
       "      <td>0.2</td>\n",
       "      <td>256</td>\n",
       "      <td>100</td>\n",
       "      <td>False</td>\n",
       "      <td>0.005</td>\n",
       "      <td>5000</td>\n",
       "      <td>2</td>\n",
       "    </tr>\n",
       "    <tr>\n",
       "      <th>3</th>\n",
       "      <td>3</td>\n",
       "      <td>99.04708</td>\n",
       "      <td>63.515514</td>\n",
       "      <td>0.998869</td>\n",
       "      <td>0.956575</td>\n",
       "      <td>0.994652</td>\n",
       "      <td>0.763413</td>\n",
       "      <td>0.2</td>\n",
       "      <td>256</td>\n",
       "      <td>100</td>\n",
       "      <td>False</td>\n",
       "      <td>0.005</td>\n",
       "      <td>5000</td>\n",
       "      <td>2</td>\n",
       "    </tr>\n",
       "    <tr>\n",
       "      <th>4</th>\n",
       "      <td>4</td>\n",
       "      <td>99.31857</td>\n",
       "      <td>65.513794</td>\n",
       "      <td>1.000000</td>\n",
       "      <td>0.943972</td>\n",
       "      <td>0.996581</td>\n",
       "      <td>0.773470</td>\n",
       "      <td>0.2</td>\n",
       "      <td>256</td>\n",
       "      <td>100</td>\n",
       "      <td>False</td>\n",
       "      <td>0.005</td>\n",
       "      <td>5000</td>\n",
       "      <td>2</td>\n",
       "    </tr>\n",
       "    <tr>\n",
       "      <th>...</th>\n",
       "      <td>...</td>\n",
       "      <td>...</td>\n",
       "      <td>...</td>\n",
       "      <td>...</td>\n",
       "      <td>...</td>\n",
       "      <td>...</td>\n",
       "      <td>...</td>\n",
       "      <td>...</td>\n",
       "      <td>...</td>\n",
       "      <td>...</td>\n",
       "      <td>...</td>\n",
       "      <td>...</td>\n",
       "      <td>...</td>\n",
       "      <td>...</td>\n",
       "    </tr>\n",
       "    <tr>\n",
       "      <th>55</th>\n",
       "      <td>55</td>\n",
       "      <td>99.62106</td>\n",
       "      <td>85.889810</td>\n",
       "      <td>0.997831</td>\n",
       "      <td>0.946421</td>\n",
       "      <td>0.997020</td>\n",
       "      <td>0.900538</td>\n",
       "      <td>0.0</td>\n",
       "      <td>256</td>\n",
       "      <td>100</td>\n",
       "      <td>2D-gaussian</td>\n",
       "      <td>0.005</td>\n",
       "      <td>100000</td>\n",
       "      <td>1</td>\n",
       "    </tr>\n",
       "    <tr>\n",
       "      <th>56</th>\n",
       "      <td>56</td>\n",
       "      <td>99.67798</td>\n",
       "      <td>86.010910</td>\n",
       "      <td>0.997669</td>\n",
       "      <td>0.942676</td>\n",
       "      <td>0.997224</td>\n",
       "      <td>0.899502</td>\n",
       "      <td>0.0</td>\n",
       "      <td>256</td>\n",
       "      <td>100</td>\n",
       "      <td>2D-gaussian</td>\n",
       "      <td>0.005</td>\n",
       "      <td>100000</td>\n",
       "      <td>1</td>\n",
       "    </tr>\n",
       "    <tr>\n",
       "      <th>57</th>\n",
       "      <td>57</td>\n",
       "      <td>99.62630</td>\n",
       "      <td>85.374130</td>\n",
       "      <td>0.997538</td>\n",
       "      <td>0.942460</td>\n",
       "      <td>0.996900</td>\n",
       "      <td>0.895910</td>\n",
       "      <td>0.0</td>\n",
       "      <td>256</td>\n",
       "      <td>100</td>\n",
       "      <td>2D-gaussian</td>\n",
       "      <td>0.005</td>\n",
       "      <td>100000</td>\n",
       "      <td>1</td>\n",
       "    </tr>\n",
       "    <tr>\n",
       "      <th>58</th>\n",
       "      <td>58</td>\n",
       "      <td>99.66032</td>\n",
       "      <td>85.611700</td>\n",
       "      <td>0.996898</td>\n",
       "      <td>0.944404</td>\n",
       "      <td>0.996750</td>\n",
       "      <td>0.898096</td>\n",
       "      <td>0.0</td>\n",
       "      <td>256</td>\n",
       "      <td>100</td>\n",
       "      <td>2D-gaussian</td>\n",
       "      <td>0.005</td>\n",
       "      <td>100000</td>\n",
       "      <td>1</td>\n",
       "    </tr>\n",
       "    <tr>\n",
       "      <th>59</th>\n",
       "      <td>59</td>\n",
       "      <td>99.59721</td>\n",
       "      <td>85.448660</td>\n",
       "      <td>0.992271</td>\n",
       "      <td>0.913438</td>\n",
       "      <td>0.994118</td>\n",
       "      <td>0.882980</td>\n",
       "      <td>0.0</td>\n",
       "      <td>256</td>\n",
       "      <td>100</td>\n",
       "      <td>2D-gaussian</td>\n",
       "      <td>0.005</td>\n",
       "      <td>100000</td>\n",
       "      <td>1</td>\n",
       "    </tr>\n",
       "  </tbody>\n",
       "</table>\n",
       "<p>329 rows × 14 columns</p>\n",
       "</div>"
      ],
      "text/plain": [
       "    Unnamed: 0  acc_train   acc_test  recall_train  recall_test  f1_train  \\\n",
       "0            0   99.03847  61.479206      0.999429     0.965577  0.994886   \n",
       "1            1   99.05345  67.147194      1.000000     0.939219  0.995245   \n",
       "2            2   99.13892  65.802540      0.998843     0.954198  0.995102   \n",
       "3            3   99.04708  63.515514      0.998869     0.956575  0.994652   \n",
       "4            4   99.31857  65.513794      1.000000     0.943972  0.996581   \n",
       "..         ...        ...        ...           ...          ...       ...   \n",
       "55          55   99.62106  85.889810      0.997831     0.946421  0.997020   \n",
       "56          56   99.67798  86.010910      0.997669     0.942676  0.997224   \n",
       "57          57   99.62630  85.374130      0.997538     0.942460  0.996900   \n",
       "58          58   99.66032  85.611700      0.996898     0.944404  0.996750   \n",
       "59          59   99.59721  85.448660      0.992271     0.913438  0.994118   \n",
       "\n",
       "     f1_test  epsilon  batch_size  hidden_size aux_loss_activated   EPS1  \\\n",
       "0   0.751254      0.2         256          100              False  0.005   \n",
       "1   0.783092      0.2         256          100              False  0.005   \n",
       "2   0.778908      0.2         256          100              False  0.005   \n",
       "3   0.763413      0.2         256          100              False  0.005   \n",
       "4   0.773470      0.2         256          100              False  0.005   \n",
       "..       ...      ...         ...          ...                ...    ...   \n",
       "55  0.900538      0.0         256          100        2D-gaussian  0.005   \n",
       "56  0.899502      0.0         256          100        2D-gaussian  0.005   \n",
       "57  0.895910      0.0         256          100        2D-gaussian  0.005   \n",
       "58  0.898096      0.0         256          100        2D-gaussian  0.005   \n",
       "59  0.882980      0.0         256          100        2D-gaussian  0.005   \n",
       "\n",
       "         n  opt  \n",
       "0     5000    2  \n",
       "1     5000    2  \n",
       "2     5000    2  \n",
       "3     5000    2  \n",
       "4     5000    2  \n",
       "..     ...  ...  \n",
       "55  100000    1  \n",
       "56  100000    1  \n",
       "57  100000    1  \n",
       "58  100000    1  \n",
       "59  100000    1  \n",
       "\n",
       "[329 rows x 14 columns]"
      ]
     },
     "execution_count": 6,
     "metadata": {},
     "output_type": "execute_result"
    }
   ],
   "source": [
    "data"
   ]
  },
  {
   "cell_type": "code",
   "execution_count": 7,
   "metadata": {},
   "outputs": [],
   "source": [
    "#data['roc_test'] = data['roc_test']*100\n",
    "data['f1_test'] = data['f1_test']*100\n",
    "data['recall_test'] = data['recall_test']*100"
   ]
  },
  {
   "cell_type": "code",
   "execution_count": 8,
   "metadata": {},
   "outputs": [],
   "source": [
    "#data=data[data.n>5000]"
   ]
  },
  {
   "cell_type": "code",
   "execution_count": 9,
   "metadata": {},
   "outputs": [
    {
     "data": {
      "text/plain": [
       "Index(['Unnamed: 0', 'acc_train', 'acc_test', 'recall_train', 'recall_test',\n",
       "       'f1_train', 'f1_test', 'epsilon', 'batch_size', 'hidden_size',\n",
       "       'aux_loss_activated', 'EPS1', 'n', 'opt'],\n",
       "      dtype='object')"
      ]
     },
     "execution_count": 9,
     "metadata": {},
     "output_type": "execute_result"
    }
   ],
   "source": [
    "data.columns"
   ]
  },
  {
   "cell_type": "code",
   "execution_count": 10,
   "metadata": {},
   "outputs": [
    {
     "data": {
      "text/plain": [
       "'\\\\begin{tabular}{llrrrrrrrrr}\\n\\\\toprule\\n       &            & \\\\multicolumn{3}{l}{acc\\\\_test} & \\\\multicolumn{3}{l}{recall\\\\_test} & \\\\multicolumn{3}{l}{f1\\\\_test} \\\\\\\\\\n       &            &      max & median &   mean &         max & median &   mean &     max & median &   mean \\\\\\\\\\nn & aux\\\\_loss\\\\_activated &          &        &        &             &        &        &         &        &        \\\\\\\\\\n\\\\midrule\\n5000   & False &    67.19 &  64.07 &  64.42 &       96.93 &  95.66 &  95.59 &   78.55 &  76.98 &  76.94 \\\\\\\\\\n       & 1D-period &    75.33 &  69.71 &  67.59 &       97.54 &  95.18 &  94.97 &   84.17 &  79.99 &  78.85 \\\\\\\\\\n       & 2D-gaussian &    76.58 &  68.04 &  66.99 &       96.69 &  94.81 &  94.25 &   82.78 &  78.56 &  78.19 \\\\\\\\\\n       & 2D-uniform &    73.61 &  64.28 &  67.25 &       96.64 &  95.08 &  95.06 &   83.02 &  77.08 &  78.66 \\\\\\\\\\n       & dropout &    68.58 &  65.25 &  65.57 &       96.82 &  94.87 &  94.77 &   79.55 &  77.35 &  77.49 \\\\\\\\\\n10000  & False &    69.12 &  66.50 &  66.59 &       96.10 &  95.75 &  95.39 &   79.92 &  78.13 &  78.42 \\\\\\\\\\n       & 1D-amplitude &    70.38 &  66.92 &  67.38 &       96.42 &  95.00 &  95.14 &   80.67 &  78.59 &  78.87 \\\\\\\\\\n       & 1D-period &    76.56 &  73.73 &  73.21 &       96.43 &  94.36 &  94.03 &   84.53 &  82.69 &  82.30 \\\\\\\\\\n       & 2D-gaussian &    76.17 &  71.87 &  71.99 &       96.48 &  94.99 &  94.72 &   84.52 &  82.10 &  81.79 \\\\\\\\\\n       & 2D-uniform &    78.14 &  72.58 &  72.58 &       96.56 &  94.91 &  94.60 &   83.74 &  82.31 &  82.09 \\\\\\\\\\n       & dropout &    70.78 &  67.76 &  67.19 &       96.72 &  95.25 &  95.33 &   81.05 &  79.15 &  78.79 \\\\\\\\\\n50000  & False &    73.12 &  71.19 &  70.90 &       97.32 &  96.67 &  96.64 &   83.18 &  81.87 &  81.78 \\\\\\\\\\n       & 1D-amplitude &    73.74 &  72.33 &  72.31 &       97.13 &  96.59 &  96.47 &   83.47 &  82.69 &  82.66 \\\\\\\\\\n       & 1D-period &    82.78 &  79.86 &  80.00 &       97.69 &  96.38 &  96.03 &   87.94 &  87.33 &  87.27 \\\\\\\\\\n       & 2D-gaussian &    82.52 &  80.08 &  80.12 &       97.63 &  96.37 &  96.07 &   89.20 &  87.10 &  87.36 \\\\\\\\\\n       & 2D-uniform &    83.60 &  79.99 &  80.33 &       97.39 &  96.13 &  95.87 &   88.63 &  87.37 &  87.41 \\\\\\\\\\n       & dropout &    73.07 &  71.68 &  71.46 &       97.36 &  96.62 &  96.57 &   83.24 &  82.18 &  82.13 \\\\\\\\\\n100000 & False &    83.39 &  82.54 &  82.68 &       93.32 &  91.83 &  91.98 &   87.55 &  87.08 &  87.08 \\\\\\\\\\n       & 1D-amplitude &    83.98 &  82.75 &  82.75 &       93.30 &  92.09 &  91.98 &   87.71 &  87.15 &  87.12 \\\\\\\\\\n       & 1D-period &    88.70 &  86.93 &  86.95 &       96.10 &  93.03 &  93.30 &   90.82 &  89.98 &  90.00 \\\\\\\\\\n       & 2D-gaussian &    88.26 &  85.61 &  85.90 &       95.50 &  94.25 &  93.54 &   90.05 &  89.67 &  89.54 \\\\\\\\\\n       & 2D-uniform &    86.74 &  86.18 &  85.82 &       95.39 &  94.07 &  93.74 &   90.66 &  89.45 &  89.60 \\\\\\\\\\n\\\\bottomrule\\n\\\\end{tabular}\\n'"
      ]
     },
     "execution_count": 10,
     "metadata": {},
     "output_type": "execute_result"
    }
   ],
   "source": [
    "np.round(data[['acc_test','recall_test','f1_test' ,'n','aux_loss_activated']].groupby(['n','aux_loss_activated']).agg({'acc_test': ['max','median', 'mean'],\n",
    "                                                                                             'recall_test': ['max','median', 'mean'],\n",
    "                                                                                             'f1_test': ['max','median', 'mean']}),2).to_latex()"
   ]
  },
  {
   "cell_type": "code",
   "execution_count": 11,
   "metadata": {
    "scrolled": true
   },
   "outputs": [],
   "source": [
    "#np.round(data[['roc_test','n','aux_loss_activated']].groupby(['n','aux_loss_activated']).agg({'roc_test': ['max','median', 'mean']}),2).to_latex()"
   ]
  },
  {
   "cell_type": "code",
   "execution_count": 12,
   "metadata": {},
   "outputs": [
    {
     "data": {
      "text/plain": [
       "Index(['Unnamed: 0', 'acc_train', 'acc_test', 'recall_train', 'recall_test',\n",
       "       'f1_train', 'f1_test', 'epsilon', 'batch_size', 'hidden_size',\n",
       "       'aux_loss_activated', 'EPS1', 'n', 'opt'],\n",
       "      dtype='object')"
      ]
     },
     "execution_count": 12,
     "metadata": {},
     "output_type": "execute_result"
    }
   ],
   "source": [
    "data.columns"
   ]
  },
  {
   "cell_type": "code",
   "execution_count": null,
   "metadata": {},
   "outputs": [],
   "source": []
  },
  {
   "cell_type": "code",
   "execution_count": 13,
   "metadata": {},
   "outputs": [],
   "source": [
    "index = 'acc_test'"
   ]
  },
  {
   "cell_type": "code",
   "execution_count": 23,
   "metadata": {},
   "outputs": [
    {
     "name": "stderr",
     "output_type": "stream",
     "text": [
      "/home/franciscoperez/anaconda3/lib/python3.7/site-packages/ipykernel_launcher.py:47: UserWarning: FixedFormatter should only be used together with FixedLocator\n"
     ]
    },
    {
     "data": {
      "text/plain": [
       "[Text(0, 50.0, '50%'),\n",
       " Text(0, 60.0, '60%'),\n",
       " Text(0, 70.0, '70%'),\n",
       " Text(0, 80.0, '80%'),\n",
       " Text(0, 90.0, '90%'),\n",
       " Text(0, 100.0, '100%')]"
      ]
     },
     "execution_count": 23,
     "metadata": {},
     "output_type": "execute_result"
    },
    {
     "data": {
      "image/png": "[encoded data removed]",
      "text/plain": [
       "<Figure size 1296x432 with 1 Axes>"
      ]
     },
     "metadata": {
      "needs_background": "light"
     },
     "output_type": "display_data"
    }
   ],
   "source": [
    "plt.figure(figsize=(18,6))\n",
    "plt.ylim(50,100)\n",
    "sns.boxplot(x=\"n\", y=index, palette='rocket', hue='aux_loss_activated',showmeans=True, showfliers=False, showbox=False, data=data,\n",
    "                meanprops={\"marker\":\"o\",\n",
    "                       \"markerfacecolor\":\"white\", \n",
    "                       \"markeredgecolor\":\"black\",\n",
    "                      \"markersize\":\"10\"})\n",
    "ax = sns.violinplot( x=\"n\",bw=0.8, y=index,inner=\"quartile\", palette='rocket', hue='aux_loss_activated',showmeans=True, data=data,\n",
    "                meanprops={\"marker\":\"o\",\n",
    "                       \"markerfacecolor\":\"white\", \n",
    "                       \"markeredgecolor\":\"black\",\n",
    "                      \"markersize\":\"10\"})\n",
    "'''\n",
    "yposlist = data[(data.aux_loss_activated==True) ].groupby(['n'])[index].median().tolist()\n",
    "yposlist_false = data[(data.aux_loss_activated==False) ].groupby(['n'])[index].median().tolist()\n",
    "xposlist = range(len(yposlist))\n",
    "stringlist = [str(i) for i in np.round(yposlist,1)]\n",
    "xposlist_false = range(len(yposlist_false))\n",
    "stringlist_false = [str(i) for i in np.round(yposlist_false,1)]\n",
    "for i in range(len(stringlist)):\n",
    "    ax.text(xposlist[i]+0.2, yposlist[i]-15, '{}%'.format(stringlist[i]),size=18, bbox=dict(facecolor='white', alpha=0.5))    \n",
    "for i in range(len(stringlist_false)):    \n",
    "    ax.text(xposlist_false[i]-0.45, yposlist[i]-15, '{}%'.format(stringlist_false[i]),size=18, bbox=dict(facecolor='white', alpha=0.5))\n",
    "\n",
    "yposlist = data[(data.aux_loss_activated==True) ].groupby(['n'])[index].max().tolist()\n",
    "yposlist_false = data[(data.aux_loss_activated==False) ].groupby(['n'])[index].max().tolist()\n",
    "xposlist = range(len(yposlist))\n",
    "stringlist = [str(i) for i in np.round(yposlist,1)]\n",
    "xposlist_false = range(len(yposlist_false))\n",
    "stringlist_false = [str(i) for i in np.round(yposlist_false,1)]\n",
    "for i in range(len(stringlist)):\n",
    "    ax.text(xposlist[i]+0.28, yposlist[i], '{}%'.format(stringlist[i]),size=18, bbox=dict(facecolor='gray', alpha=0.5))    \n",
    "for i in range(len(stringlist_false)):    \n",
    "    ax.text(xposlist_false[i]-0.45, yposlist[i], '{}%'.format(stringlist_false[i]),size=18, bbox=dict(facecolor='gray', alpha=0.5))\n",
    "\n",
    "    \n",
    "    \n",
    "for i in range(len(np.unique(data['n'])) - 1):\n",
    "    ax.axvline(i + 0.5, color='grey', lw=1)\n",
    " '''   \n",
    "handles, labels = ax.get_legend_handles_labels()\n",
    "\n",
    "l = plt.legend(handles[0:5], labels[0:5],fontsize = 20, bbox_to_anchor= (0.0, 1.1, 0.5, 0.2), title=\"Regularization\", ncol=6, title_fontsize = 18, shadow = True, facecolor = 'white', loc=2);\n",
    "ax.set_xlabel(\"Number of objects on training set\",fontsize=24)\n",
    "ax.set_ylabel(\"Accuracy on testing set\",fontsize=24)\n",
    "ax.tick_params(labelsize=20)\n",
    "ax.set_yticklabels(['{}%'.format(int(x)) for x in ax.get_yticks()])\n"
   ]
  },
  {
   "cell_type": "code",
   "execution_count": 15,
   "metadata": {},
   "outputs": [
    {
     "name": "stdout",
     "output_type": "stream",
     "text": [
      "5000\n",
      "71.14645996666667\n",
      "nan\n"
     ]
    },
    {
     "name": "stderr",
     "output_type": "stream",
     "text": [
      "/home/franciscoperez/anaconda3/lib/python3.7/site-packages/numpy/core/fromnumeric.py:3420: RuntimeWarning: Mean of empty slice.\n",
      "  out=out, **kwargs)\n",
      "/home/franciscoperez/anaconda3/lib/python3.7/site-packages/numpy/core/_methods.py:188: RuntimeWarning: invalid value encountered in double_scalars\n",
      "  ret = ret.dtype.type(ret / rcount)\n"
     ]
    },
    {
     "ename": "ValueError",
     "evalue": "unequal length arrays",
     "output_type": "error",
     "traceback": [
      "\u001b[0;31m---------------------------------------------------------------------------\u001b[0m",
      "\u001b[0;31mValueError\u001b[0m                                Traceback (most recent call last)",
      "\u001b[0;32m<ipython-input-15-25b4caf081f4>\u001b[0m in \u001b[0;36m<module>\u001b[0;34m()\u001b[0m\n\u001b[1;32m     10\u001b[0m     \u001b[0mprint\u001b[0m\u001b[0;34m(\u001b[0m\u001b[0mnp\u001b[0m\u001b[0;34m.\u001b[0m\u001b[0mmean\u001b[0m\u001b[0;34m(\u001b[0m\u001b[0msamples2\u001b[0m\u001b[0;34m)\u001b[0m\u001b[0;34m)\u001b[0m\u001b[0;34m\u001b[0m\u001b[0;34m\u001b[0m\u001b[0m\n\u001b[1;32m     11\u001b[0m \u001b[0;34m\u001b[0m\u001b[0m\n\u001b[0;32m---> 12\u001b[0;31m     \u001b[0mstat\u001b[0m\u001b[0;34m,\u001b[0m \u001b[0mp\u001b[0m \u001b[0;34m=\u001b[0m \u001b[0mttest_rel\u001b[0m\u001b[0;34m(\u001b[0m\u001b[0msamples1\u001b[0m\u001b[0;34m,\u001b[0m \u001b[0msamples2\u001b[0m\u001b[0;34m)\u001b[0m\u001b[0;34m\u001b[0m\u001b[0;34m\u001b[0m\u001b[0m\n\u001b[0m\u001b[1;32m     13\u001b[0m     \u001b[0mprint\u001b[0m\u001b[0;34m(\u001b[0m\u001b[0;34m'Statistics=%.3f, p=%.3f'\u001b[0m \u001b[0;34m%\u001b[0m \u001b[0;34m(\u001b[0m\u001b[0mstat\u001b[0m\u001b[0;34m,\u001b[0m \u001b[0mp\u001b[0m\u001b[0;34m)\u001b[0m\u001b[0;34m)\u001b[0m\u001b[0;34m\u001b[0m\u001b[0;34m\u001b[0m\u001b[0m\n\u001b[1;32m     14\u001b[0m     \u001b[0;31m# interpret\u001b[0m\u001b[0;34m\u001b[0m\u001b[0;34m\u001b[0m\u001b[0;34m\u001b[0m\u001b[0m\n",
      "\u001b[0;32m~/anaconda3/lib/python3.7/site-packages/scipy/stats/stats.py\u001b[0m in \u001b[0;36mttest_rel\u001b[0;34m(a, b, axis, nan_policy, alternative)\u001b[0m\n\u001b[1;32m   5889\u001b[0m     \u001b[0mnb\u001b[0m \u001b[0;34m=\u001b[0m \u001b[0m_get_len\u001b[0m\u001b[0;34m(\u001b[0m\u001b[0mb\u001b[0m\u001b[0;34m,\u001b[0m \u001b[0maxis\u001b[0m\u001b[0;34m,\u001b[0m \u001b[0;34m\"second argument\"\u001b[0m\u001b[0;34m)\u001b[0m\u001b[0;34m\u001b[0m\u001b[0;34m\u001b[0m\u001b[0m\n\u001b[1;32m   5890\u001b[0m     \u001b[0;32mif\u001b[0m \u001b[0mna\u001b[0m \u001b[0;34m!=\u001b[0m \u001b[0mnb\u001b[0m\u001b[0;34m:\u001b[0m\u001b[0;34m\u001b[0m\u001b[0;34m\u001b[0m\u001b[0m\n\u001b[0;32m-> 5891\u001b[0;31m         \u001b[0;32mraise\u001b[0m \u001b[0mValueError\u001b[0m\u001b[0;34m(\u001b[0m\u001b[0;34m'unequal length arrays'\u001b[0m\u001b[0;34m)\u001b[0m\u001b[0;34m\u001b[0m\u001b[0;34m\u001b[0m\u001b[0m\n\u001b[0m\u001b[1;32m   5892\u001b[0m \u001b[0;34m\u001b[0m\u001b[0m\n\u001b[1;32m   5893\u001b[0m     \u001b[0;32mif\u001b[0m \u001b[0mna\u001b[0m \u001b[0;34m==\u001b[0m \u001b[0;36m0\u001b[0m\u001b[0;34m:\u001b[0m\u001b[0;34m\u001b[0m\u001b[0;34m\u001b[0m\u001b[0m\n",
      "\u001b[0;31mValueError\u001b[0m: unequal length arrays"
     ]
    }
   ],
   "source": [
    "from scipy import stats\n",
    "from scipy.stats import wilcoxon, ttest_ind, ttest_rel\n",
    "\n",
    "\n",
    "for n in data.n.unique():\n",
    "    samples1 = data[(data.aux_loss_activated==False) & (data.batch_size>128)].acc_test.to_list()\n",
    "    samples2 = data[(data.aux_loss_activated==True) & (data.batch_size>128)].acc_test.to_list()\n",
    "    print(n)\n",
    "    print(np.mean(samples1))\n",
    "    print(np.mean(samples2))\n",
    "           \n",
    "    stat, p = ttest_rel(samples1, samples2)\n",
    "    print('Statistics=%.3f, p=%.3f' % (stat, p))\n",
    "    # interpret\n",
    "    alpha = 0.05\n",
    "    if p > alpha:\n",
    "        print('Same distribution (fail to reject H0)')\n",
    "    else:\n",
    "        print('Different distribution (reject H0)')\n",
    "\n",
    "    \n",
    "        "
   ]
  },
  {
   "cell_type": "code",
   "execution_count": null,
   "metadata": {},
   "outputs": [],
   "source": [
    "#fig, (ax1, ax2) = plt.subplots(2, 1, figsize=(15,15))\n",
    "import matplotlib.ticker as ticker\n",
    "fig, ax = plt.subplots(figsize=(15,6))\n",
    "losses = [True, False]\n",
    "\n",
    "colors = ['red', 'black']\n",
    "# Iterate through the five airlines\n",
    "i= 0\n",
    "for loss in losses:\n",
    "    # Subset to the airline\n",
    "    subset = data[data['aux_loss_activated'] == loss]['acc_test']\n",
    "    #data = np.random.randn(1000)\n",
    "    print(subset.shape[0])\n",
    "    sorted_data = np.sort(subset)  # Or data.sort(), if data can be modified\n",
    "\n",
    "    # Cumulative counts:\n",
    "    plt.step(sorted_data, np.arange(sorted_data.size), color=colors[i], label=loss)  # From 0 to the number of data points-1\n",
    "    #plt.step(sorted_data[::-1], np.arange(sorted_data.size))  # From the number of data points-1 to 0\n",
    "\n",
    "    #plt.show()\n",
    "    i=i+1\n",
    "ax.yaxis.set_major_formatter(ticker.PercentFormatter(xmax=subset.shape[0]))\n",
    "ax.xaxis.set_major_formatter(ticker.PercentFormatter())\n",
    "ax.set_xlabel(\"Accuracy on testing set\",fontsize=24)\n",
    "ax.set_ylabel(\"Cummulative distribution\",fontsize=24)\n",
    "\n",
    "\n",
    "plt.legend(title = \"Regularization\", prop={'size':20},\n",
    "           loc='upper left', bbox_to_anchor= (0.35, 1.1, 0.5, 0.2),\n",
    "           ncol=2, title_fontsize = 18, shadow = True, facecolor = 'white')\n",
    "\n",
    "ax.tick_params(labelsize=20)\n",
    "\n",
    "\n",
    "\n",
    "#plt.axvline(x=data[(data.aux_loss_activated==True)]['acc_test'].max(), ymin=0., ymax=1, color='red', linestyle='dashed')\n",
    "#plt.axvline(x=data[(data.aux_loss_activated==False)]['acc_test'].max(), ymin=0, ymax=1, color='black', linestyle='dashed')\n",
    "\n",
    "\n",
    "\n",
    "\n",
    "plt.xlim(50,100)\n",
    "plt.ylim(0,subset.shape[0])\n",
    "plt.show()\n",
    "\n",
    "\n",
    "\n",
    "fig, ax = plt.subplots(figsize=(15,6))\n",
    "\n",
    "i= 0\n",
    "for loss in losses:\n",
    "    # Subset to the airline\n",
    "    subset = data[data['aux_loss_activated'] == loss]\n",
    "    \n",
    "    # Draw the density plot\n",
    "    sns.distplot(subset['acc_test'], hist = False, kde = True,\n",
    "                 kde_kws = {'linewidth': 3},\n",
    "                 label = loss, color= colors[int(i)])\n",
    "    i=i+1\n",
    "\n",
    "plt.xlim(50,95)\n",
    "plt.xlabel('Accuracy on testing set',fontsize=24)\n",
    "plt.ylabel('Density distribution',fontsize=24)\n",
    "plt.legend(title = \"Regularization\", prop={'size':20},\n",
    "           loc='upper left', bbox_to_anchor= (0.35, 1.1, 0.5, 0.2),\n",
    "           ncol=2, title_fontsize = 18, shadow = True, facecolor = 'white')\n",
    "plt.axvline(x=data[(data.aux_loss_activated==True)]['acc_test'].mean(), ymin=0., ymax=1, color='red', linestyle='dashed')\n",
    "plt.axvline(x=data[(data.aux_loss_activated==False)]['acc_test'].mean(), ymin=0, ymax=1, color='black', linestyle='dashed')\n",
    "\n",
    "mean1 = np.round(data[data.aux_loss_activated==True]['acc_test'].mean(),1)\n",
    "mean2 = np.round(data[data.aux_loss_activated==False]['acc_test'].mean(),1)\n",
    "plt.text(mean1+0.2, 0.01,'{}%'.format(str(mean1)),rotation=90, fontsize=24)\n",
    "plt.text(mean2-1, 0.01,'{}%'.format(str(mean2)),rotation=90, fontsize=24)\n",
    "fmt = '%.0f%%'\n",
    "xticks = matplotlib.ticker.FormatStrFormatter(fmt)\n",
    "ax.xaxis.set_major_formatter(xticks)\n",
    "ax.tick_params(labelsize=20)\n",
    "\n",
    "plt.show()\n"
   ]
  },
  {
   "cell_type": "code",
   "execution_count": null,
   "metadata": {},
   "outputs": [],
   "source": []
  }
 ],
 "metadata": {
  "kernelspec": {
   "display_name": "Python 3",
   "language": "python",
   "name": "python3"
  },
  "language_info": {
   "codemirror_mode": {
    "name": "ipython",
    "version": 3
   },
   "file_extension": ".py",
   "mimetype": "text/x-python",
   "name": "python",
   "nbconvert_exporter": "python",
   "pygments_lexer": "ipython3",
   "version": "3.7.7"
  }
 },
 "nbformat": 4,
 "nbformat_minor": 2
}
