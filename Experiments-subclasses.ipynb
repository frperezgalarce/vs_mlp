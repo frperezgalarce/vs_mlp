{
 "cells": [
  {
   "cell_type": "code",
   "execution_count": 1,
   "metadata": {},
   "outputs": [
    {
     "name": "stderr",
     "output_type": "stream",
     "text": [
      "/home/franciscoperez/anaconda3/lib/python3.7/site-packages/pandas/compat/_optional.py:138: UserWarning: Pandas requires version '2.7.0' or newer of 'numexpr' (version '2.6.8' currently installed).\n",
      "  warnings.warn(msg, UserWarning)\n",
      "In /home/franciscoperez/anaconda3/lib/python3.7/site-packages/matplotlib/mpl-data/stylelib/_classic_test.mplstyle: \n",
      "The text.latex.preview rcparam was deprecated in Matplotlib 3.3 and will be removed two minor releases later.\n",
      "In /home/franciscoperez/anaconda3/lib/python3.7/site-packages/matplotlib/mpl-data/stylelib/_classic_test.mplstyle: \n",
      "The mathtext.fallback_to_cm rcparam was deprecated in Matplotlib 3.3 and will be removed two minor releases later.\n",
      "In /home/franciscoperez/anaconda3/lib/python3.7/site-packages/matplotlib/mpl-data/stylelib/_classic_test.mplstyle: Support for setting the 'mathtext.fallback_to_cm' rcParam is deprecated since 3.3 and will be removed two minor releases later; use 'mathtext.fallback : 'cm' instead.\n",
      "In /home/franciscoperez/anaconda3/lib/python3.7/site-packages/matplotlib/mpl-data/stylelib/_classic_test.mplstyle: \n",
      "The validate_bool_maybe_none function was deprecated in Matplotlib 3.3 and will be removed two minor releases later.\n",
      "In /home/franciscoperez/anaconda3/lib/python3.7/site-packages/matplotlib/mpl-data/stylelib/_classic_test.mplstyle: \n",
      "The savefig.jpeg_quality rcparam was deprecated in Matplotlib 3.3 and will be removed two minor releases later.\n",
      "In /home/franciscoperez/anaconda3/lib/python3.7/site-packages/matplotlib/mpl-data/stylelib/_classic_test.mplstyle: \n",
      "The keymap.all_axes rcparam was deprecated in Matplotlib 3.3 and will be removed two minor releases later.\n",
      "In /home/franciscoperez/anaconda3/lib/python3.7/site-packages/matplotlib/mpl-data/stylelib/_classic_test.mplstyle: \n",
      "The animation.avconv_path rcparam was deprecated in Matplotlib 3.3 and will be removed two minor releases later.\n",
      "In /home/franciscoperez/anaconda3/lib/python3.7/site-packages/matplotlib/mpl-data/stylelib/_classic_test.mplstyle: \n",
      "The animation.avconv_args rcparam was deprecated in Matplotlib 3.3 and will be removed two minor releases later.\n"
     ]
    }
   ],
   "source": [
    "import pandas as pd\n",
    "import numpy as np\n",
    "import matplotlib.pyplot as plt\n",
    "import seaborn as sns\n",
    "import matplotlib\n",
    "import matplotlib.pylab as pylab\n",
    "from matplotlib.ticker import FormatStrFormatter, StrMethodFormatter\n",
    "\n",
    "params = {'legend.fontsize': 'x-large',\n",
    "          'figure.figsize': (15, 5),\n",
    "         'axes.labelsize': 'x-large',\n",
    "         'axes.titlesize':'x-large',\n",
    "         'xtick.labelsize':'x-large',\n",
    "         'ytick.labelsize':'x-large'}\n",
    "pylab.rcParams.update(params)"
   ]
  },
  {
   "cell_type": "code",
   "execution_count": 2,
   "metadata": {},
   "outputs": [],
   "source": [
    "# experimentos al 20-05-2022\n",
    "\n",
    "#data2d_gaussian=pd.read_csv('25-04-2022-results_2d_gaussian.csv')\n",
    "#data2d_uniform =pd.read_csv('25-04-2022-results_2d.csv')\n",
    "#data1d_period =pd.read_csv('rrab_1D_uniform_amplitude-18-05-2022.csv')\n",
    "#data1d_amplitude =pd.read_csv('25-04-2022-results1D-sample.csv')\n",
    "#dropout =pd.read_csv('(baseline-dropout)05-05-2022-results1D.csv')\n",
    "#baseline = pd.read_csv('rrab_subclasses_dropout__16-05-2022-baseline.csv')"
   ]
  },
  {
   "cell_type": "code",
   "execution_count": 4,
   "metadata": {},
   "outputs": [],
   "source": [
    "'''data2d_gaussian=pd.read_csv('21-05-2022-2d_gaussian-RRLyrae.csv')\n",
    "data2d_uniform =pd.read_csv('21-05-2022-2D-uniform-RRLyrae.csv')\n",
    "data1d_amplitude =pd.read_csv('21-05-2022-1D-amplitude-RRLyrae.csv')\n",
    "data1d_period =pd.read_csv('1D-period-21-05-2022-RRLyrae.csv')\n",
    "dropout =pd.read_csv('21-05-2022-baseline-dropout-RRLyrae.csv')\n",
    "baseline = pd.read_csv('21-05-2022-baseline-RRLyrae.csv')\n",
    "\n",
    "### experiments paper\n",
    "data2d_gaussian=pd.read_csv('30-05-2022-2d_gaussian-RRLyrae.csv')\n",
    "data2d_uniform =pd.read_csv('30-05-2022-2D-uniform-RRLyrae.csv')\n",
    "data1d_period =pd.read_csv('30-05-2022-1D-period-RRLyrae.csv')\n",
    "data1d_amplitude =pd.read_csv('30-05-2022-1D-amplitude-RRLyrae.csv')\n",
    "dropout =pd.read_csv('30-05-2022-(dropout)-baseline-RRLyrae.csv')\n",
    "baseline = pd.read_csv('30-05-2022-baseline-RRLyrae.csv')\n",
    "\n",
    "### experiments c-type\n",
    "data2d_gaussian=pd.read_csv('01-06-2022-sc-2d_gaussian-RRLyrae.csv')\n",
    "data2d_uniform =pd.read_csv('01-06-2022-sc-2D-uniform-RRLyrae.csv')\n",
    "data1d_period =pd.read_csv('01-06-2022-sc-1D-period-RRLyrae.csv')\n",
    "data1d_amplitude =pd.read_csv('01-06-2022-sc-1D-amplitude-RRLyrae.csv')\n",
    "dropout =pd.read_csv('01-06-2022-sc-(dropout)-baseline-RRLyrae.csv')\n",
    "baseline = pd.read_csv('01-06-2022-sc-baseline-RRLyrae.csv')\n",
    "\n",
    "# experiments ab-type\n",
    "data2d_gaussian=pd.read_csv('02-06-2022-sc-2d_gaussian-RRLyrae.csv')\n",
    "data2d_uniform =pd.read_csv('02-06-2022-sc-2D-uniform-RRLyrae.csv')\n",
    "data1d_period =pd.read_csv('02-06-2022-sc-1D-period-RRLyrae.csv')\n",
    "data1d_amplitude =pd.read_csv('02-06-2022-sc-1D-amplitude-RRLyrae.csv')\n",
    "dropout =pd.read_csv('02-06-2022-(dropout)-sc-baseline-RRLyrae.csv')\n",
    "baseline = pd.read_csv('02-06-2022-sc-baseline-RRLyrae.csv')'''\n",
    "\n",
    "\n",
    "data2d_gaussian=pd.read_csv('05-06-2022-sc-2d_gaussian-RRLyrae.csv')\n",
    "data2d_uniform =pd.read_csv('05-06-2022-sc-2D-uniform-RRLyrae.csv')\n",
    "data1d_period =pd.read_csv('05-06-2022-sc-1D-period-RRLyrae.csv')\n",
    "data1d_amplitude =pd.read_csv('05-06-2022-sc-1D-amplitude-RRLyrae.csv')\n",
    "dropout =pd.read_csv('02-06-2022-(dropout)-sc-baseline-RRLyrae.csv')\n",
    "baseline = pd.read_csv('05-06-2022-sc-baseline-RRLyrae.csv')"
   ]
  },
  {
   "cell_type": "code",
   "execution_count": 5,
   "metadata": {},
   "outputs": [],
   "source": [
    "data2d_gaussian.loc[data2d_gaussian['aux_loss_activated']==True, 'aux_loss_activated'] = '2D-gaussian'\n",
    "data2d_uniform.loc[data2d_uniform['aux_loss_activated']==True, 'aux_loss_activated'] = '2D-uniform'\n",
    "data1d_period.loc[data1d_period['aux_loss_activated']==True, 'aux_loss_activated'] = '1D-period'\n",
    "data1d_amplitude.loc[data1d_amplitude['aux_loss_activated']==True, 'aux_loss_activated'] = '1D-amplitude'\n",
    "dropout.loc[dropout['aux_loss_activated']==False, 'aux_loss_activated'] = 'dropout'\n"
   ]
  },
  {
   "cell_type": "code",
   "execution_count": 6,
   "metadata": {},
   "outputs": [],
   "source": [
    "#dropout.groupby('n').count()"
   ]
  },
  {
   "cell_type": "code",
   "execution_count": null,
   "metadata": {},
   "outputs": [],
   "source": []
  },
  {
   "cell_type": "code",
   "execution_count": 7,
   "metadata": {},
   "outputs": [],
   "source": [
    "data = pd.concat([baseline,dropout,data2d_gaussian,data2d_uniform,data1d_period,data1d_amplitude])"
   ]
  },
  {
   "cell_type": "code",
   "execution_count": 8,
   "metadata": {},
   "outputs": [],
   "source": [
    "#data = pd.concat([baseline,data2d_uniform])"
   ]
  },
  {
   "cell_type": "code",
   "execution_count": 9,
   "metadata": {},
   "outputs": [],
   "source": [
    "#data['roc_test'] = data['roc_test']*100\n",
    "data['f1_test'] = data['f1_test']*100\n",
    "data['recall_test'] = data['recall_test']*100"
   ]
  },
  {
   "cell_type": "code",
   "execution_count": 10,
   "metadata": {},
   "outputs": [
    {
     "data": {
      "text/plain": [
       "array([0.        , 0.17890849, 0.19063956])"
      ]
     },
     "execution_count": 10,
     "metadata": {},
     "output_type": "execute_result"
    }
   ],
   "source": [
    "np.random.normal(0, [0, 0.1, 0.2])"
   ]
  },
  {
   "cell_type": "code",
   "execution_count": 11,
   "metadata": {},
   "outputs": [],
   "source": [
    "#data=data[data.n<51000]"
   ]
  },
  {
   "cell_type": "code",
   "execution_count": 12,
   "metadata": {},
   "outputs": [
    {
     "data": {
      "text/plain": [
       "Index(['Unnamed: 0', 'acc_train', 'acc_test', 'recall_train', 'recall_test',\n",
       "       'f1_train', 'f1_test', 'roc_train', 'roc_test', 'epsilon', 'batch_size',\n",
       "       'hidden_size', 'aux_loss_activated', 'EPS1', 'n', 'opt'],\n",
       "      dtype='object')"
      ]
     },
     "execution_count": 12,
     "metadata": {},
     "output_type": "execute_result"
    }
   ],
   "source": [
    "data.columns"
   ]
  },
  {
   "cell_type": "code",
   "execution_count": 13,
   "metadata": {},
   "outputs": [
    {
     "data": {
      "text/plain": [
       "'\\\\begin{tabular}{llrrr}\\n\\\\toprule\\n      &         & \\\\multicolumn{3}{l}{roc\\\\_test} \\\\\\\\\\n      &         &      max &    std &   mean \\\\\\\\\\nn & aux\\\\_loss\\\\_activated &          &        &        \\\\\\\\\\n\\\\midrule\\n100   & False &    0.873 &  0.065 &  0.796 \\\\\\\\\\n      & 1D-amplitude &    0.803 &  0.039 &  0.742 \\\\\\\\\\n      & 1D-period &    0.690 &  0.020 &  0.640 \\\\\\\\\\n      & 2D-gaussian &    0.860 &  0.054 &  0.768 \\\\\\\\\\n      & 2D-uniform &    0.810 &  0.039 &  0.756 \\\\\\\\\\n200   & False &    0.876 &  0.037 &  0.815 \\\\\\\\\\n      & 1D-amplitude &    0.827 &  0.021 &  0.792 \\\\\\\\\\n      & 1D-period &    0.704 &  0.017 &  0.665 \\\\\\\\\\n      & 2D-gaussian &    0.852 &  0.041 &  0.799 \\\\\\\\\\n      & 2D-uniform &    0.833 &  0.030 &  0.786 \\\\\\\\\\n400   & False &    0.889 &  0.038 &  0.828 \\\\\\\\\\n      & 1D-amplitude &    0.851 &  0.025 &  0.810 \\\\\\\\\\n      & 1D-period &    0.799 &  0.020 &  0.753 \\\\\\\\\\n      & 2D-gaussian &    0.865 &  0.028 &  0.818 \\\\\\\\\\n      & 2D-uniform &    0.864 &  0.023 &  0.814 \\\\\\\\\\n10000 & dropout &    0.857 &  0.017 &  0.827 \\\\\\\\\\n20000 & dropout &    0.852 &  0.013 &  0.826 \\\\\\\\\\n40000 & dropout &    0.839 &  0.009 &  0.824 \\\\\\\\\\n\\\\bottomrule\\n\\\\end{tabular}\\n'"
      ]
     },
     "execution_count": 13,
     "metadata": {},
     "output_type": "execute_result"
    }
   ],
   "source": [
    "np.round(data[['acc_test','recall_test','f1_test' ,'n','aux_loss_activated', 'roc_test']].groupby(['n','aux_loss_activated']).agg({\n",
    "                                                                                             'roc_test': ['max','std', 'mean']}),3).to_latex()"
   ]
  },
  {
   "cell_type": "code",
   "execution_count": 14,
   "metadata": {
    "scrolled": true
   },
   "outputs": [],
   "source": [
    "#np.round(data[['roc_test','n','aux_loss_activated']].groupby(['n','aux_loss_activated']).agg({'roc_test': ['max','median', 'mean']}),2).to_latex()"
   ]
  },
  {
   "cell_type": "code",
   "execution_count": null,
   "metadata": {},
   "outputs": [],
   "source": [
    "data.columns"
   ]
  },
  {
   "cell_type": "code",
   "execution_count": null,
   "metadata": {},
   "outputs": [],
   "source": [
    "data"
   ]
  },
  {
   "cell_type": "code",
   "execution_count": null,
   "metadata": {},
   "outputs": [],
   "source": [
    "index = 'acc_test'\n",
    "model = '2D-gaussian'"
   ]
  },
  {
   "cell_type": "code",
   "execution_count": null,
   "metadata": {},
   "outputs": [],
   "source": [
    "plt.figure(figsize=(18,6))\n",
    "plt.ylim(40,100)\n",
    "sns.boxplot(x=\"n\", y=index, palette='rocket', hue='aux_loss_activated',showmeans=True, showfliers=False, showbox=False, data=data,\n",
    "                meanprops={\"marker\":\"o\",\n",
    "                       \"markerfacecolor\":\"white\", \n",
    "                       \"markeredgecolor\":\"black\",\n",
    "                      \"markersize\":\"10\"})\n",
    "ax = sns.violinplot( x=\"n\",bw=0.8, y=index,inner=\"quartile\", palette='rocket', hue='aux_loss_activated',showmeans=True, data=data,\n",
    "                meanprops={\"marker\":\"o\",\n",
    "                       \"markerfacecolor\":\"white\", \n",
    "                       \"markeredgecolor\":\"black\",\n",
    "                      \"markersize\":\"10\"})\n",
    "yposlist = data[(data.aux_loss_activated==model) ].groupby(['n'])[index].mean().tolist()\n",
    "yposlist_false = data[(data.aux_loss_activated==False) ].groupby(['n'])[index].mean().tolist()\n",
    "xposlist = range(len(yposlist))\n",
    "stringlist = [str(i) for i in np.round(yposlist,1)]\n",
    "xposlist_false = range(len(yposlist_false))\n",
    "stringlist_false = [str(i) for i in np.round(yposlist_false,1)]\n",
    "for i in range(len(stringlist)):\n",
    "    ax.text(xposlist[i]+0.2, 65, '{}%'.format(stringlist[i]),size=18, bbox=dict(facecolor='white', alpha=0.5))    \n",
    "for i in range(len(stringlist_false)):    \n",
    "    ax.text(xposlist_false[i]-0.45, 65, '{}%'.format(stringlist_false[i]),size=18, bbox=dict(facecolor='white', alpha=0.5))\n",
    "\n",
    "yposlist = data[(data.aux_loss_activated==model) ].groupby(['n'])[index].std().tolist()\n",
    "yposlist_false = data[(data.aux_loss_activated==False) ].groupby(['n'])[index].std().tolist()\n",
    "xposlist = range(len(yposlist))\n",
    "stringlist = [str(i) for i in np.round(yposlist,1)]\n",
    "xposlist_false = range(len(yposlist_false))\n",
    "stringlist_false = [str(i) for i in np.round(yposlist_false,1)]\n",
    "for i in range(len(stringlist)):\n",
    "    print(xposlist[i])\n",
    "    ax.text(xposlist[i]+0.28, 90, '{}%'.format(stringlist[i]),size=18, bbox=dict(facecolor='gray', alpha=0.5))    \n",
    "for i in range(len(stringlist_false)):    \n",
    "    ax.text(xposlist_false[i]-0.45, 90, '{}%'.format(stringlist_false[i]),size=18, bbox=dict(facecolor='gray', alpha=0.5))\n",
    "\n",
    "for i in range(len(np.unique(data['n'])) - 1):\n",
    "    ax.axvline(i + 0.5, color='grey', lw=1)\n",
    "    \n",
    "handles, labels = ax.get_legend_handles_labels()\n",
    "\n",
    "l = plt.legend(handles[0:2], labels[0:2],fontsize = 20, bbox_to_anchor= (0.35, 1.1, 0.5, 0.2), title=\"Regularization\", ncol=2, title_fontsize = 18, shadow = True, facecolor = 'white', loc=2);\n",
    "ax.set_xlabel(\"Number of objects on training set\",fontsize=24)\n",
    "ax.set_ylabel(\"Accuracy on testing set\",fontsize=24)\n",
    "ax.tick_params(labelsize=20)\n",
    "ax.set_yticklabels(['{}%'.format(int(x)) for x in ax.get_yticks()])\n"
   ]
  },
  {
   "cell_type": "code",
   "execution_count": null,
   "metadata": {},
   "outputs": [],
   "source": [
    "from scipy import stats\n",
    "from scipy.stats import wilcoxon, ttest_ind, ttest_rel\n",
    "\n",
    "\n",
    "for n in data.n.unique():\n",
    "    samples1 = data[(data.aux_loss_activated==False) & (data.batch_size>128)].acc_test.to_list()\n",
    "    samples2 = data[(data.aux_loss_activated==True) & (data.batch_size>128)].acc_test.to_list()\n",
    "    print(n)\n",
    "    print(np.mean(samples1))\n",
    "    print(np.mean(samples2))\n",
    "           \n",
    "    stat, p = ttest_rel(samples1, samples2)\n",
    "    print('Statistics=%.3f, p=%.3f' % (stat, p))\n",
    "    # interpret\n",
    "    alpha = 0.05\n",
    "    if p > alpha:\n",
    "        print('Same distribution (fail to reject H0)')\n",
    "    else:\n",
    "        print('Different distribution (reject H0)')\n",
    "\n",
    "    \n",
    "        "
   ]
  },
  {
   "cell_type": "code",
   "execution_count": null,
   "metadata": {},
   "outputs": [],
   "source": [
    "#fig, (ax1, ax2) = plt.subplots(2, 1, figsize=(15,15))\n",
    "import matplotlib.ticker as ticker\n",
    "fig, ax = plt.subplots(figsize=(15,6))\n",
    "losses = [False, 'dropout', '1D-period', '1D-amplitude']\n",
    "\n",
    "colors = ['red', 'black', 'green', 'blue']\n",
    "# Iterate through the five airlines\n",
    "i= 0\n",
    "for loss in losses:\n",
    "    # Subset to the airline\n",
    "    subset = data[data['aux_loss_activated'] == loss]['acc_test']\n",
    "    #data = np.random.randn(1000)\n",
    "    print(subset.shape[0])\n",
    "    sorted_data = np.sort(subset)  # Or data.sort(), if data can be modified\n",
    "\n",
    "    # Cumulative counts:\n",
    "    plt.step(sorted_data, np.arange(sorted_data.size), color=colors[i], label=loss)  # From 0 to the number of data points-1\n",
    "    #plt.step(sorted_data[::-1], np.arange(sorted_data.size))  # From the number of data points-1 to 0\n",
    "\n",
    "    #plt.show()\n",
    "    i=i+1\n",
    "    \n",
    "ax.yaxis.set_major_formatter(ticker.PercentFormatter(xmax=subset.shape[0]))\n",
    "ax.xaxis.set_major_formatter(ticker.PercentFormatter())\n",
    "ax.set_xlabel(\"Accuracy on testing set\",fontsize=24)\n",
    "ax.set_ylabel(\"Cummulative distribution\",fontsize=24)\n",
    "\n",
    "\n",
    "plt.legend(title = \"Regularization\", prop={'size':20},\n",
    "           loc='upper left', bbox_to_anchor= (0.05, 1.1, 0.5, 0.2),\n",
    "           ncol=4, title_fontsize = 18, shadow = True, facecolor = 'white')\n",
    "\n",
    "ax.tick_params(labelsize=20)\n",
    "\n",
    "\n",
    "\n",
    "#plt.axvline(x=data[(data.aux_loss_activated==True)]['acc_test'].max(), ymin=0., ymax=1, color='red', linestyle='dashed')\n",
    "#plt.axvline(x=data[(data.aux_loss_activated==False)]['acc_test'].max(), ymin=0, ymax=1, color='black', linestyle='dashed')\n",
    "\n",
    "\n",
    "\n",
    "\n",
    "plt.xlim(70,90)\n",
    "plt.ylim(0,subset.shape[0])\n",
    "plt.show()\n",
    "\n",
    "\n",
    "\n",
    "fig, ax = plt.subplots(figsize=(15,6))\n",
    "\n",
    "i= 0\n",
    "for loss in losses:\n",
    "    # Subset to the airline\n",
    "    subset = data[data['aux_loss_activated'] == loss]\n",
    "    \n",
    "    # Draw the density plot\n",
    "    sns.distplot(subset['acc_test'], hist = False, kde = True,\n",
    "                 kde_kws = {'linewidth': 3},\n",
    "                 label = loss, color= colors[int(i)])\n",
    "    i=i+1\n",
    "\n",
    "plt.xlim(70,90)\n",
    "plt.xlabel('Accuracy on testing set',fontsize=24)\n",
    "plt.ylabel('Density distribution',fontsize=24)\n",
    "plt.legend(title = \"Regularization\", prop={'size':20},\n",
    "           loc='upper left', bbox_to_anchor= (0.05, 1.1, 0.5, 0.2),\n",
    "           ncol=4, title_fontsize = 18, shadow = True, facecolor = 'white')\n",
    "plt.axvline(x=data[(data.aux_loss_activated==False)]['acc_test'].mean(), ymin=0., ymax=1, color='red', linestyle='dashed')\n",
    "plt.axvline(x=data[(data.aux_loss_activated=='1D-period')]['acc_test'].mean(), ymin=0, ymax=1, color='green', linestyle='dashed')\n",
    "plt.axvline(x=data[(data.aux_loss_activated=='1D-amplitude')]['acc_test'].mean(), ymin=0, ymax=1, color='blue', linestyle='dashed')\n",
    "plt.axvline(x=data[(data.aux_loss_activated=='dropout')]['acc_test'].mean(), ymin=0, ymax=1, color='black', linestyle='dashed')\n",
    "\n",
    "mean1 = np.round(data[data.aux_loss_activated==False]['acc_test'].mean(),1)\n",
    "mean2 = np.round(data[data.aux_loss_activated=='1D-period']['acc_test'].mean(),1)\n",
    "mean3 = np.round(data[data.aux_loss_activated=='1D-amplitude']['acc_test'].mean(),1)\n",
    "mean4 = np.round(data[data.aux_loss_activated=='dropout']['acc_test'].mean(),1)\n",
    "\n",
    "\n",
    "plt.text(mean1+0.05, 0.0015,'{}%'.format(str(mean1)),rotation=90, fontsize=14, color='red')\n",
    "plt.text(mean2-0.3, 0.0015,'{}%'.format(str(mean2)),rotation=90, fontsize=14, color='green')\n",
    "plt.text(mean3+0.05, 0.0015,'{}%'.format(str(mean3)),rotation=90, fontsize=14, color='blue')\n",
    "plt.text(mean4+0.05, 0.0015,'{}%'.format(str(mean4)),rotation=90, fontsize=14, color='black')\n",
    "\n",
    "\n",
    "fmt = '%.0f%%'\n",
    "xticks = matplotlib.ticker.FormatStrFormatter(fmt)\n",
    "ax.xaxis.set_major_formatter(xticks)\n",
    "ax.tick_params(labelsize=20)\n",
    "\n",
    "plt.show()\n"
   ]
  },
  {
   "cell_type": "code",
   "execution_count": null,
   "metadata": {},
   "outputs": [],
   "source": []
  },
  {
   "cell_type": "code",
   "execution_count": null,
   "metadata": {},
   "outputs": [],
   "source": []
  },
  {
   "cell_type": "code",
   "execution_count": null,
   "metadata": {},
   "outputs": [],
   "source": []
  }
 ],
 "metadata": {
  "kernelspec": {
   "display_name": "Python 3",
   "language": "python",
   "name": "python3"
  },
  "language_info": {
   "codemirror_mode": {
    "name": "ipython",
    "version": 3
   },
   "file_extension": ".py",
   "mimetype": "text/x-python",
   "name": "python",
   "nbconvert_exporter": "python",
   "pygments_lexer": "ipython3",
   "version": "3.7.7"
  }
 },
 "nbformat": 4,
 "nbformat_minor": 2
}
