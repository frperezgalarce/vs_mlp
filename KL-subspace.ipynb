{
 "cells": [
  {
   "cell_type": "code",
   "execution_count": 1,
   "metadata": {},
   "outputs": [],
   "source": [
    "import numpy as np\n",
    "import pandas as pd\n",
    "from scipy.stats import norm\n",
    "from matplotlib import pyplot as plt\n",
    "from sklearn import mixture\n",
    "from sklearn import preprocessing\n",
    "from sklearn.decomposition import PCA\n",
    "import seaborn as sns\n",
    "from scipy.stats import multivariate_normal\n",
    "sns.set()"
   ]
  },
  {
   "cell_type": "code",
   "execution_count": 3,
   "metadata": {},
   "outputs": [
    {
     "data": {
      "text/plain": [
       "'1.15.4'"
      ]
     },
     "execution_count": 3,
     "metadata": {},
     "output_type": "execute_result"
    }
   ],
   "source": [
    "import numpy \n",
    "numpy.__version__ "
   ]
  },
  {
   "cell_type": "code",
   "execution_count": 2,
   "metadata": {},
   "outputs": [],
   "source": [
    "np.random.seed(0)\n",
    "n = 50000\n",
    "n2 = 10000"
   ]
  },
  {
   "cell_type": "code",
   "execution_count": 3,
   "metadata": {},
   "outputs": [],
   "source": [
    "path_train = '/home/franciscoperez/Documents/GitHub/data/BIASEDFATS/Train_rrlyr-3.csv'\n",
    "path_test = '/home/franciscoperez/Documents/GitHub/data/BIASEDFATS/Test_rrlyr-3.csv'"
   ]
  },
  {
   "cell_type": "code",
   "execution_count": 4,
   "metadata": {},
   "outputs": [],
   "source": [
    "data_train = pd.read_csv(path_train).sample(n)\n",
    "data_test = pd.read_csv(path_test)\n",
    "data = [data_test,data_train]\n",
    "data = pd.concat(data)\n",
    "del data_train['label']\n",
    "del data_test['label']\n",
    "del data['label']"
   ]
  },
  {
   "cell_type": "code",
   "execution_count": 5,
   "metadata": {},
   "outputs": [],
   "source": [
    "def clean_data(data):\n",
    "    try:\n",
    "        data = data.loc[:, ~data.columns.str.contains('^Unnamed')]\n",
    "        data = data.drop(['Pred', 'Pred2', 'h', 'e', 'u', 'ID'], axis=1)\n",
    "    except:\n",
    "        print('---')\n",
    "    names = data.columns\n",
    "    scaler = preprocessing.StandardScaler()\n",
    "    data = scaler.fit_transform(data)\n",
    "    data = pd.DataFrame(data, columns=names)\n",
    "    return data\n",
    "\n",
    "def kl_divergence(p, q):\n",
    "    epsilon = 0.00001\n",
    "    p = p + epsilon\n",
    "    q = q + epsilon\n",
    "    kl = p * np.log(p / q)\n",
    "    return kl\n",
    "\n",
    "def pca_reduction(data, components=4):\n",
    "    pca = PCA(n_components=components)\n",
    "    pca.fit(data)\n",
    "    data = pca.transform(data)\n",
    "    data = pd.DataFrame(data)\n",
    "    return data"
   ]
  },
  {
   "cell_type": "code",
   "execution_count": 6,
   "metadata": {},
   "outputs": [],
   "source": [
    "data_test = clean_data(data_test)\n",
    "data = clean_data(data)"
   ]
  },
  {
   "cell_type": "code",
   "execution_count": 7,
   "metadata": {},
   "outputs": [],
   "source": [
    "data_test = pca_reduction(data_test)\n",
    "data = pca_reduction(data)"
   ]
  },
  {
   "cell_type": "code",
   "execution_count": 8,
   "metadata": {},
   "outputs": [],
   "source": [
    "clf = mixture.GaussianMixture(n_components=10, covariance_type='spherical', max_iter=1000)\n",
    "gmm_test = clf.fit(data_test)\n",
    "clf_survey = mixture.GaussianMixture(n_components=10, covariance_type='spherical', max_iter =1000)\n",
    "gmm_survey = clf_survey.fit(data)"
   ]
  },
  {
   "cell_type": "markdown",
   "metadata": {},
   "source": [
    "        'full' (each component has its own general covariance matrix),\n",
    "        'tied' (all components share the same general covariance matrix),\n",
    "        'diag' (each component has its own diagonal covariance matrix),\n",
    "        'spherical' (each component has its own single variance)."
   ]
  },
  {
   "cell_type": "code",
   "execution_count": 9,
   "metadata": {},
   "outputs": [],
   "source": [
    "means_test = gmm_test.means_\n",
    "covariances_test = gmm_test.covariances_\n",
    "weights_test = gmm_test.weights_"
   ]
  },
  {
   "cell_type": "code",
   "execution_count": 10,
   "metadata": {},
   "outputs": [],
   "source": [
    "means_survey = gmm_survey.means_\n",
    "covariances_survey = gmm_survey.covariances_\n",
    "weights_survey = gmm_survey.weights_"
   ]
  },
  {
   "cell_type": "code",
   "execution_count": 11,
   "metadata": {},
   "outputs": [],
   "source": [
    "def separated_gaussians(means, covariances):\n",
    "    gauss = []\n",
    "    for j in range(means.shape[0]):\n",
    "        gmm = multivariate_normal(mean=means[j], cov=covariances[j])\n",
    "        gauss.append(gmm)\n",
    "    return gauss"
   ]
  },
  {
   "cell_type": "code",
   "execution_count": 12,
   "metadata": {},
   "outputs": [],
   "source": [
    "gaussians_test = separated_gaussians(means_test, covariances_test)\n",
    "gaussians_survey = separated_gaussians(means_survey, covariances_survey)"
   ]
  },
  {
   "cell_type": "code",
   "execution_count": 13,
   "metadata": {},
   "outputs": [],
   "source": [
    "def gmm_pdf(x, gaussians, weights):\n",
    "    for i in range(weights.shape[0]):\n",
    "        pdf =+ weights[i]*gaussians[i].pdf(x)\n",
    "    return pdf"
   ]
  },
  {
   "cell_type": "code",
   "execution_count": 14,
   "metadata": {},
   "outputs": [
    {
     "name": "stdout",
     "output_type": "stream",
     "text": [
      "KL -0.46118958460126325\n"
     ]
    }
   ],
   "source": [
    "kl = 0\n",
    "data_sample = data_test.sample(n2)\n",
    "for j in range(data_sample.shape[0]):\n",
    "    p = gmm_pdf(data.iloc[j], gaussians_test, weights_test)\n",
    "    q = gmm_pdf(data.iloc[j], gaussians_survey, weights_survey)\n",
    "    kl = kl+kl_divergence(p, q)\n",
    "print('KL', kl)"
   ]
  },
  {
   "cell_type": "code",
   "execution_count": null,
   "metadata": {},
   "outputs": [],
   "source": []
  }
 ],
 "metadata": {
  "kernelspec": {
   "display_name": "Python 3",
   "language": "python",
   "name": "python3"
  },
  "language_info": {
   "codemirror_mode": {
    "name": "ipython",
    "version": 3
   },
   "file_extension": ".py",
   "mimetype": "text/x-python",
   "name": "python",
   "nbconvert_exporter": "python",
   "pygments_lexer": "ipython3",
   "version": "3.7.7"
  }
 },
 "nbformat": 4,
 "nbformat_minor": 2
}
