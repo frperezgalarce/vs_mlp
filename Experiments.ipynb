{
 "cells": [
  {
   "cell_type": "code",
   "execution_count": 1,
   "metadata": {},
   "outputs": [],
   "source": [
    "import pandas as pd\n",
    "import numpy as np\n",
    "import matplotlib.pyplot as plt"
   ]
  },
  {
   "cell_type": "code",
   "execution_count": 53,
   "metadata": {},
   "outputs": [],
   "source": [
    "data = pd.read_csv(\"06-04-2021-results.csv\")"
   ]
  },
  {
   "cell_type": "code",
   "execution_count": 54,
   "metadata": {},
   "outputs": [
    {
     "data": {
      "text/plain": [
       "Index(['Unnamed: 0', 'acc_train', 'acc_test', 'epsilon', 'batch_size',\n",
       "       'hidden_size', 'aux_loss_activated', 'EPS1', 'n'],\n",
       "      dtype='object')"
      ]
     },
     "execution_count": 54,
     "metadata": {},
     "output_type": "execute_result"
    }
   ],
   "source": [
    "data.columns"
   ]
  },
  {
   "cell_type": "code",
   "execution_count": 65,
   "metadata": {},
   "outputs": [],
   "source": [
    "data_aux = data[(data.aux_loss_activated==True) & (data.batch_size>64) & (data.n>5000)]"
   ]
  },
  {
   "cell_type": "code",
   "execution_count": 66,
   "metadata": {},
   "outputs": [
    {
     "data": {
      "text/html": [
       "<div>\n",
       "<style scoped>\n",
       "    .dataframe tbody tr th:only-of-type {\n",
       "        vertical-align: middle;\n",
       "    }\n",
       "\n",
       "    .dataframe tbody tr th {\n",
       "        vertical-align: top;\n",
       "    }\n",
       "\n",
       "    .dataframe thead th {\n",
       "        text-align: right;\n",
       "    }\n",
       "</style>\n",
       "<table border=\"1\" class=\"dataframe\">\n",
       "  <thead>\n",
       "    <tr style=\"text-align: right;\">\n",
       "      <th></th>\n",
       "      <th>Unnamed: 0</th>\n",
       "      <th>acc_train</th>\n",
       "      <th>acc_test</th>\n",
       "      <th>epsilon</th>\n",
       "      <th>batch_size</th>\n",
       "      <th>hidden_size</th>\n",
       "      <th>aux_loss_activated</th>\n",
       "      <th>EPS1</th>\n",
       "      <th>n</th>\n",
       "    </tr>\n",
       "  </thead>\n",
       "  <tbody>\n",
       "    <tr>\n",
       "      <th>53</th>\n",
       "      <td>53</td>\n",
       "      <td>99</td>\n",
       "      <td>90</td>\n",
       "      <td>0.1</td>\n",
       "      <td>128</td>\n",
       "      <td>150</td>\n",
       "      <td>True</td>\n",
       "      <td>0.01000</td>\n",
       "      <td>100000</td>\n",
       "    </tr>\n",
       "    <tr>\n",
       "      <th>50</th>\n",
       "      <td>50</td>\n",
       "      <td>99</td>\n",
       "      <td>89</td>\n",
       "      <td>0.1</td>\n",
       "      <td>128</td>\n",
       "      <td>150</td>\n",
       "      <td>True</td>\n",
       "      <td>0.00100</td>\n",
       "      <td>100000</td>\n",
       "    </tr>\n",
       "    <tr>\n",
       "      <th>74</th>\n",
       "      <td>74</td>\n",
       "      <td>99</td>\n",
       "      <td>89</td>\n",
       "      <td>0.1</td>\n",
       "      <td>256</td>\n",
       "      <td>150</td>\n",
       "      <td>True</td>\n",
       "      <td>0.00100</td>\n",
       "      <td>100000</td>\n",
       "    </tr>\n",
       "    <tr>\n",
       "      <th>77</th>\n",
       "      <td>77</td>\n",
       "      <td>99</td>\n",
       "      <td>89</td>\n",
       "      <td>0.1</td>\n",
       "      <td>256</td>\n",
       "      <td>150</td>\n",
       "      <td>True</td>\n",
       "      <td>0.01000</td>\n",
       "      <td>100000</td>\n",
       "    </tr>\n",
       "    <tr>\n",
       "      <th>80</th>\n",
       "      <td>80</td>\n",
       "      <td>99</td>\n",
       "      <td>89</td>\n",
       "      <td>0.1</td>\n",
       "      <td>256</td>\n",
       "      <td>150</td>\n",
       "      <td>True</td>\n",
       "      <td>0.00010</td>\n",
       "      <td>100000</td>\n",
       "    </tr>\n",
       "    <tr>\n",
       "      <th>83</th>\n",
       "      <td>83</td>\n",
       "      <td>99</td>\n",
       "      <td>89</td>\n",
       "      <td>0.1</td>\n",
       "      <td>256</td>\n",
       "      <td>150</td>\n",
       "      <td>True</td>\n",
       "      <td>0.00001</td>\n",
       "      <td>100000</td>\n",
       "    </tr>\n",
       "    <tr>\n",
       "      <th>59</th>\n",
       "      <td>59</td>\n",
       "      <td>99</td>\n",
       "      <td>88</td>\n",
       "      <td>0.1</td>\n",
       "      <td>128</td>\n",
       "      <td>150</td>\n",
       "      <td>True</td>\n",
       "      <td>0.00001</td>\n",
       "      <td>100000</td>\n",
       "    </tr>\n",
       "    <tr>\n",
       "      <th>56</th>\n",
       "      <td>56</td>\n",
       "      <td>99</td>\n",
       "      <td>86</td>\n",
       "      <td>0.1</td>\n",
       "      <td>128</td>\n",
       "      <td>150</td>\n",
       "      <td>True</td>\n",
       "      <td>0.00010</td>\n",
       "      <td>100000</td>\n",
       "    </tr>\n",
       "    <tr>\n",
       "      <th>79</th>\n",
       "      <td>79</td>\n",
       "      <td>99</td>\n",
       "      <td>85</td>\n",
       "      <td>0.1</td>\n",
       "      <td>256</td>\n",
       "      <td>150</td>\n",
       "      <td>True</td>\n",
       "      <td>0.00010</td>\n",
       "      <td>10000</td>\n",
       "    </tr>\n",
       "    <tr>\n",
       "      <th>82</th>\n",
       "      <td>82</td>\n",
       "      <td>99</td>\n",
       "      <td>85</td>\n",
       "      <td>0.1</td>\n",
       "      <td>256</td>\n",
       "      <td>150</td>\n",
       "      <td>True</td>\n",
       "      <td>0.00001</td>\n",
       "      <td>10000</td>\n",
       "    </tr>\n",
       "    <tr>\n",
       "      <th>58</th>\n",
       "      <td>58</td>\n",
       "      <td>99</td>\n",
       "      <td>83</td>\n",
       "      <td>0.1</td>\n",
       "      <td>128</td>\n",
       "      <td>150</td>\n",
       "      <td>True</td>\n",
       "      <td>0.00001</td>\n",
       "      <td>10000</td>\n",
       "    </tr>\n",
       "    <tr>\n",
       "      <th>73</th>\n",
       "      <td>73</td>\n",
       "      <td>99</td>\n",
       "      <td>83</td>\n",
       "      <td>0.1</td>\n",
       "      <td>256</td>\n",
       "      <td>150</td>\n",
       "      <td>True</td>\n",
       "      <td>0.00100</td>\n",
       "      <td>10000</td>\n",
       "    </tr>\n",
       "    <tr>\n",
       "      <th>49</th>\n",
       "      <td>49</td>\n",
       "      <td>99</td>\n",
       "      <td>82</td>\n",
       "      <td>0.1</td>\n",
       "      <td>128</td>\n",
       "      <td>150</td>\n",
       "      <td>True</td>\n",
       "      <td>0.00100</td>\n",
       "      <td>10000</td>\n",
       "    </tr>\n",
       "    <tr>\n",
       "      <th>55</th>\n",
       "      <td>55</td>\n",
       "      <td>99</td>\n",
       "      <td>82</td>\n",
       "      <td>0.1</td>\n",
       "      <td>128</td>\n",
       "      <td>150</td>\n",
       "      <td>True</td>\n",
       "      <td>0.00010</td>\n",
       "      <td>10000</td>\n",
       "    </tr>\n",
       "    <tr>\n",
       "      <th>76</th>\n",
       "      <td>76</td>\n",
       "      <td>99</td>\n",
       "      <td>82</td>\n",
       "      <td>0.1</td>\n",
       "      <td>256</td>\n",
       "      <td>150</td>\n",
       "      <td>True</td>\n",
       "      <td>0.01000</td>\n",
       "      <td>10000</td>\n",
       "    </tr>\n",
       "    <tr>\n",
       "      <th>52</th>\n",
       "      <td>52</td>\n",
       "      <td>99</td>\n",
       "      <td>81</td>\n",
       "      <td>0.1</td>\n",
       "      <td>128</td>\n",
       "      <td>150</td>\n",
       "      <td>True</td>\n",
       "      <td>0.01000</td>\n",
       "      <td>10000</td>\n",
       "    </tr>\n",
       "  </tbody>\n",
       "</table>\n",
       "</div>"
      ],
      "text/plain": [
       "    Unnamed: 0  acc_train  acc_test  epsilon  batch_size  hidden_size  \\\n",
       "53          53         99        90      0.1         128          150   \n",
       "50          50         99        89      0.1         128          150   \n",
       "74          74         99        89      0.1         256          150   \n",
       "77          77         99        89      0.1         256          150   \n",
       "80          80         99        89      0.1         256          150   \n",
       "83          83         99        89      0.1         256          150   \n",
       "59          59         99        88      0.1         128          150   \n",
       "56          56         99        86      0.1         128          150   \n",
       "79          79         99        85      0.1         256          150   \n",
       "82          82         99        85      0.1         256          150   \n",
       "58          58         99        83      0.1         128          150   \n",
       "73          73         99        83      0.1         256          150   \n",
       "49          49         99        82      0.1         128          150   \n",
       "55          55         99        82      0.1         128          150   \n",
       "76          76         99        82      0.1         256          150   \n",
       "52          52         99        81      0.1         128          150   \n",
       "\n",
       "    aux_loss_activated     EPS1       n  \n",
       "53                True  0.01000  100000  \n",
       "50                True  0.00100  100000  \n",
       "74                True  0.00100  100000  \n",
       "77                True  0.01000  100000  \n",
       "80                True  0.00010  100000  \n",
       "83                True  0.00001  100000  \n",
       "59                True  0.00001  100000  \n",
       "56                True  0.00010  100000  \n",
       "79                True  0.00010   10000  \n",
       "82                True  0.00001   10000  \n",
       "58                True  0.00001   10000  \n",
       "73                True  0.00100   10000  \n",
       "49                True  0.00100   10000  \n",
       "55                True  0.00010   10000  \n",
       "76                True  0.01000   10000  \n",
       "52                True  0.01000   10000  "
      ]
     },
     "execution_count": 66,
     "metadata": {},
     "output_type": "execute_result"
    }
   ],
   "source": [
    "data_aux.sort_values('acc_test', ascending=False)"
   ]
  },
  {
   "cell_type": "code",
   "execution_count": 67,
   "metadata": {},
   "outputs": [
    {
     "data": {
      "text/html": [
       "<div>\n",
       "<style scoped>\n",
       "    .dataframe tbody tr th:only-of-type {\n",
       "        vertical-align: middle;\n",
       "    }\n",
       "\n",
       "    .dataframe tbody tr th {\n",
       "        vertical-align: top;\n",
       "    }\n",
       "\n",
       "    .dataframe thead th {\n",
       "        text-align: right;\n",
       "    }\n",
       "</style>\n",
       "<table border=\"1\" class=\"dataframe\">\n",
       "  <thead>\n",
       "    <tr style=\"text-align: right;\">\n",
       "      <th></th>\n",
       "      <th>Unnamed: 0</th>\n",
       "      <th>acc_train</th>\n",
       "      <th>acc_test</th>\n",
       "      <th>epsilon</th>\n",
       "      <th>batch_size</th>\n",
       "      <th>hidden_size</th>\n",
       "      <th>aux_loss_activated</th>\n",
       "      <th>EPS1</th>\n",
       "      <th>n</th>\n",
       "    </tr>\n",
       "  </thead>\n",
       "  <tbody>\n",
       "    <tr>\n",
       "      <th>65</th>\n",
       "      <td>65</td>\n",
       "      <td>99</td>\n",
       "      <td>89</td>\n",
       "      <td>0.1</td>\n",
       "      <td>128</td>\n",
       "      <td>150</td>\n",
       "      <td>False</td>\n",
       "      <td>0.01000</td>\n",
       "      <td>100000</td>\n",
       "    </tr>\n",
       "    <tr>\n",
       "      <th>71</th>\n",
       "      <td>71</td>\n",
       "      <td>99</td>\n",
       "      <td>89</td>\n",
       "      <td>0.1</td>\n",
       "      <td>128</td>\n",
       "      <td>150</td>\n",
       "      <td>False</td>\n",
       "      <td>0.00001</td>\n",
       "      <td>100000</td>\n",
       "    </tr>\n",
       "    <tr>\n",
       "      <th>86</th>\n",
       "      <td>86</td>\n",
       "      <td>99</td>\n",
       "      <td>89</td>\n",
       "      <td>0.1</td>\n",
       "      <td>256</td>\n",
       "      <td>150</td>\n",
       "      <td>False</td>\n",
       "      <td>0.00100</td>\n",
       "      <td>100000</td>\n",
       "    </tr>\n",
       "    <tr>\n",
       "      <th>62</th>\n",
       "      <td>62</td>\n",
       "      <td>99</td>\n",
       "      <td>88</td>\n",
       "      <td>0.1</td>\n",
       "      <td>128</td>\n",
       "      <td>150</td>\n",
       "      <td>False</td>\n",
       "      <td>0.00100</td>\n",
       "      <td>100000</td>\n",
       "    </tr>\n",
       "    <tr>\n",
       "      <th>68</th>\n",
       "      <td>68</td>\n",
       "      <td>99</td>\n",
       "      <td>88</td>\n",
       "      <td>0.1</td>\n",
       "      <td>128</td>\n",
       "      <td>150</td>\n",
       "      <td>False</td>\n",
       "      <td>0.00010</td>\n",
       "      <td>100000</td>\n",
       "    </tr>\n",
       "    <tr>\n",
       "      <th>61</th>\n",
       "      <td>61</td>\n",
       "      <td>99</td>\n",
       "      <td>85</td>\n",
       "      <td>0.1</td>\n",
       "      <td>128</td>\n",
       "      <td>150</td>\n",
       "      <td>False</td>\n",
       "      <td>0.00100</td>\n",
       "      <td>10000</td>\n",
       "    </tr>\n",
       "    <tr>\n",
       "      <th>67</th>\n",
       "      <td>67</td>\n",
       "      <td>99</td>\n",
       "      <td>85</td>\n",
       "      <td>0.1</td>\n",
       "      <td>128</td>\n",
       "      <td>150</td>\n",
       "      <td>False</td>\n",
       "      <td>0.00010</td>\n",
       "      <td>10000</td>\n",
       "    </tr>\n",
       "    <tr>\n",
       "      <th>64</th>\n",
       "      <td>64</td>\n",
       "      <td>99</td>\n",
       "      <td>84</td>\n",
       "      <td>0.1</td>\n",
       "      <td>128</td>\n",
       "      <td>150</td>\n",
       "      <td>False</td>\n",
       "      <td>0.01000</td>\n",
       "      <td>10000</td>\n",
       "    </tr>\n",
       "    <tr>\n",
       "      <th>70</th>\n",
       "      <td>70</td>\n",
       "      <td>99</td>\n",
       "      <td>83</td>\n",
       "      <td>0.1</td>\n",
       "      <td>128</td>\n",
       "      <td>150</td>\n",
       "      <td>False</td>\n",
       "      <td>0.00001</td>\n",
       "      <td>10000</td>\n",
       "    </tr>\n",
       "    <tr>\n",
       "      <th>85</th>\n",
       "      <td>85</td>\n",
       "      <td>99</td>\n",
       "      <td>83</td>\n",
       "      <td>0.1</td>\n",
       "      <td>256</td>\n",
       "      <td>150</td>\n",
       "      <td>False</td>\n",
       "      <td>0.00100</td>\n",
       "      <td>10000</td>\n",
       "    </tr>\n",
       "    <tr>\n",
       "      <th>88</th>\n",
       "      <td>88</td>\n",
       "      <td>99</td>\n",
       "      <td>83</td>\n",
       "      <td>0.1</td>\n",
       "      <td>256</td>\n",
       "      <td>150</td>\n",
       "      <td>False</td>\n",
       "      <td>0.01000</td>\n",
       "      <td>10000</td>\n",
       "    </tr>\n",
       "  </tbody>\n",
       "</table>\n",
       "</div>"
      ],
      "text/plain": [
       "    Unnamed: 0  acc_train  acc_test  epsilon  batch_size  hidden_size  \\\n",
       "65          65         99        89      0.1         128          150   \n",
       "71          71         99        89      0.1         128          150   \n",
       "86          86         99        89      0.1         256          150   \n",
       "62          62         99        88      0.1         128          150   \n",
       "68          68         99        88      0.1         128          150   \n",
       "61          61         99        85      0.1         128          150   \n",
       "67          67         99        85      0.1         128          150   \n",
       "64          64         99        84      0.1         128          150   \n",
       "70          70         99        83      0.1         128          150   \n",
       "85          85         99        83      0.1         256          150   \n",
       "88          88         99        83      0.1         256          150   \n",
       "\n",
       "    aux_loss_activated     EPS1       n  \n",
       "65               False  0.01000  100000  \n",
       "71               False  0.00001  100000  \n",
       "86               False  0.00100  100000  \n",
       "62               False  0.00100  100000  \n",
       "68               False  0.00010  100000  \n",
       "61               False  0.00100   10000  \n",
       "67               False  0.00010   10000  \n",
       "64               False  0.01000   10000  \n",
       "70               False  0.00001   10000  \n",
       "85               False  0.00100   10000  \n",
       "88               False  0.01000   10000  "
      ]
     },
     "execution_count": 67,
     "metadata": {},
     "output_type": "execute_result"
    }
   ],
   "source": [
    "data_non_aux = data[(data.aux_loss_activated==False) & (data.batch_size>64) & (data.n>5000)]\n",
    "data_non_aux.sort_values('acc_test', ascending=False)"
   ]
  },
  {
   "cell_type": "code",
   "execution_count": 68,
   "metadata": {},
   "outputs": [
    {
     "data": {
      "text/plain": [
       "(99.0, 85.75)"
      ]
     },
     "execution_count": 68,
     "metadata": {},
     "output_type": "execute_result"
    }
   ],
   "source": [
    "np.round(data_aux.acc_train.mean(),2), np.round(data_aux.acc_test.mean(),2)"
   ]
  },
  {
   "cell_type": "code",
   "execution_count": 69,
   "metadata": {},
   "outputs": [
    {
     "data": {
      "text/plain": [
       "(99.0, 86.0)"
      ]
     },
     "execution_count": 69,
     "metadata": {},
     "output_type": "execute_result"
    }
   ],
   "source": [
    "data_non_aux.acc_train.mean(), data_non_aux.acc_test.mean()"
   ]
  },
  {
   "cell_type": "code",
   "execution_count": 41,
   "metadata": {},
   "outputs": [
    {
     "data": {
      "text/html": [
       "<div>\n",
       "<style scoped>\n",
       "    .dataframe tbody tr th:only-of-type {\n",
       "        vertical-align: middle;\n",
       "    }\n",
       "\n",
       "    .dataframe tbody tr th {\n",
       "        vertical-align: top;\n",
       "    }\n",
       "\n",
       "    .dataframe thead th {\n",
       "        text-align: right;\n",
       "    }\n",
       "</style>\n",
       "<table border=\"1\" class=\"dataframe\">\n",
       "  <thead>\n",
       "    <tr style=\"text-align: right;\">\n",
       "      <th></th>\n",
       "      <th>Unnamed: 0</th>\n",
       "      <th>acc_train</th>\n",
       "      <th>acc_test</th>\n",
       "      <th>epsilon</th>\n",
       "      <th>batch_size</th>\n",
       "      <th>hidden_size</th>\n",
       "      <th>aux_loss_activated</th>\n",
       "      <th>EPS1</th>\n",
       "      <th>n</th>\n",
       "    </tr>\n",
       "  </thead>\n",
       "  <tbody>\n",
       "    <tr>\n",
       "      <th>0</th>\n",
       "      <td>0</td>\n",
       "      <td>99</td>\n",
       "      <td>81</td>\n",
       "      <td>0.1</td>\n",
       "      <td>32</td>\n",
       "      <td>150</td>\n",
       "      <td>True</td>\n",
       "      <td>0.00100</td>\n",
       "      <td>5000</td>\n",
       "    </tr>\n",
       "    <tr>\n",
       "      <th>3</th>\n",
       "      <td>3</td>\n",
       "      <td>99</td>\n",
       "      <td>81</td>\n",
       "      <td>0.1</td>\n",
       "      <td>32</td>\n",
       "      <td>150</td>\n",
       "      <td>True</td>\n",
       "      <td>0.01000</td>\n",
       "      <td>5000</td>\n",
       "    </tr>\n",
       "    <tr>\n",
       "      <th>6</th>\n",
       "      <td>6</td>\n",
       "      <td>100</td>\n",
       "      <td>84</td>\n",
       "      <td>0.1</td>\n",
       "      <td>32</td>\n",
       "      <td>150</td>\n",
       "      <td>True</td>\n",
       "      <td>0.00010</td>\n",
       "      <td>5000</td>\n",
       "    </tr>\n",
       "    <tr>\n",
       "      <th>9</th>\n",
       "      <td>9</td>\n",
       "      <td>100</td>\n",
       "      <td>80</td>\n",
       "      <td>0.1</td>\n",
       "      <td>32</td>\n",
       "      <td>150</td>\n",
       "      <td>True</td>\n",
       "      <td>0.00001</td>\n",
       "      <td>5000</td>\n",
       "    </tr>\n",
       "    <tr>\n",
       "      <th>24</th>\n",
       "      <td>24</td>\n",
       "      <td>99</td>\n",
       "      <td>83</td>\n",
       "      <td>0.1</td>\n",
       "      <td>64</td>\n",
       "      <td>150</td>\n",
       "      <td>True</td>\n",
       "      <td>0.00100</td>\n",
       "      <td>5000</td>\n",
       "    </tr>\n",
       "  </tbody>\n",
       "</table>\n",
       "</div>"
      ],
      "text/plain": [
       "    Unnamed: 0  acc_train  acc_test  epsilon  batch_size  hidden_size  \\\n",
       "0            0         99        81      0.1          32          150   \n",
       "3            3         99        81      0.1          32          150   \n",
       "6            6        100        84      0.1          32          150   \n",
       "9            9        100        80      0.1          32          150   \n",
       "24          24         99        83      0.1          64          150   \n",
       "\n",
       "    aux_loss_activated     EPS1     n  \n",
       "0                 True  0.00100  5000  \n",
       "3                 True  0.01000  5000  \n",
       "6                 True  0.00010  5000  \n",
       "9                 True  0.00001  5000  \n",
       "24                True  0.00100  5000  "
      ]
     },
     "execution_count": 41,
     "metadata": {},
     "output_type": "execute_result"
    }
   ],
   "source": [
    "data_aux.head()"
   ]
  },
  {
   "cell_type": "code",
   "execution_count": 42,
   "metadata": {},
   "outputs": [
    {
     "data": {
      "text/html": [
       "<div>\n",
       "<style scoped>\n",
       "    .dataframe tbody tr th:only-of-type {\n",
       "        vertical-align: middle;\n",
       "    }\n",
       "\n",
       "    .dataframe tbody tr th {\n",
       "        vertical-align: top;\n",
       "    }\n",
       "\n",
       "    .dataframe thead th {\n",
       "        text-align: right;\n",
       "    }\n",
       "</style>\n",
       "<table border=\"1\" class=\"dataframe\">\n",
       "  <thead>\n",
       "    <tr style=\"text-align: right;\">\n",
       "      <th></th>\n",
       "      <th>Unnamed: 0</th>\n",
       "      <th>acc_train</th>\n",
       "      <th>acc_test</th>\n",
       "      <th>epsilon</th>\n",
       "      <th>batch_size</th>\n",
       "      <th>hidden_size</th>\n",
       "      <th>aux_loss_activated</th>\n",
       "      <th>EPS1</th>\n",
       "      <th>n</th>\n",
       "    </tr>\n",
       "  </thead>\n",
       "  <tbody>\n",
       "    <tr>\n",
       "      <th>12</th>\n",
       "      <td>12</td>\n",
       "      <td>99</td>\n",
       "      <td>81</td>\n",
       "      <td>0.1</td>\n",
       "      <td>32</td>\n",
       "      <td>150</td>\n",
       "      <td>False</td>\n",
       "      <td>0.00100</td>\n",
       "      <td>5000</td>\n",
       "    </tr>\n",
       "    <tr>\n",
       "      <th>15</th>\n",
       "      <td>15</td>\n",
       "      <td>99</td>\n",
       "      <td>79</td>\n",
       "      <td>0.1</td>\n",
       "      <td>32</td>\n",
       "      <td>150</td>\n",
       "      <td>False</td>\n",
       "      <td>0.01000</td>\n",
       "      <td>5000</td>\n",
       "    </tr>\n",
       "    <tr>\n",
       "      <th>18</th>\n",
       "      <td>18</td>\n",
       "      <td>100</td>\n",
       "      <td>79</td>\n",
       "      <td>0.1</td>\n",
       "      <td>32</td>\n",
       "      <td>150</td>\n",
       "      <td>False</td>\n",
       "      <td>0.00010</td>\n",
       "      <td>5000</td>\n",
       "    </tr>\n",
       "    <tr>\n",
       "      <th>21</th>\n",
       "      <td>21</td>\n",
       "      <td>99</td>\n",
       "      <td>80</td>\n",
       "      <td>0.1</td>\n",
       "      <td>32</td>\n",
       "      <td>150</td>\n",
       "      <td>False</td>\n",
       "      <td>0.00001</td>\n",
       "      <td>5000</td>\n",
       "    </tr>\n",
       "    <tr>\n",
       "      <th>36</th>\n",
       "      <td>36</td>\n",
       "      <td>99</td>\n",
       "      <td>81</td>\n",
       "      <td>0.1</td>\n",
       "      <td>64</td>\n",
       "      <td>150</td>\n",
       "      <td>False</td>\n",
       "      <td>0.00100</td>\n",
       "      <td>5000</td>\n",
       "    </tr>\n",
       "  </tbody>\n",
       "</table>\n",
       "</div>"
      ],
      "text/plain": [
       "    Unnamed: 0  acc_train  acc_test  epsilon  batch_size  hidden_size  \\\n",
       "12          12         99        81      0.1          32          150   \n",
       "15          15         99        79      0.1          32          150   \n",
       "18          18        100        79      0.1          32          150   \n",
       "21          21         99        80      0.1          32          150   \n",
       "36          36         99        81      0.1          64          150   \n",
       "\n",
       "    aux_loss_activated     EPS1     n  \n",
       "12               False  0.00100  5000  \n",
       "15               False  0.01000  5000  \n",
       "18               False  0.00010  5000  \n",
       "21               False  0.00001  5000  \n",
       "36               False  0.00100  5000  "
      ]
     },
     "execution_count": 42,
     "metadata": {},
     "output_type": "execute_result"
    }
   ],
   "source": [
    "data_non_aux.head()"
   ]
  },
  {
   "cell_type": "code",
   "execution_count": 43,
   "metadata": {},
   "outputs": [],
   "source": [
    "import matplotlib.pylab as pylab\n",
    "params = {'legend.fontsize': 'x-large',\n",
    "          'figure.figsize': (15, 5),\n",
    "         'axes.labelsize': 'x-large',\n",
    "         'axes.titlesize':'x-large',\n",
    "         'xtick.labelsize':'x-large',\n",
    "         'ytick.labelsize':'x-large'}\n",
    "pylab.rcParams.update(params)"
   ]
  },
  {
   "cell_type": "code",
   "execution_count": 44,
   "metadata": {},
   "outputs": [
    {
     "data": {
      "image/png": "[encoded data removed]",
      "text/plain": [
       "<Figure size 1080x1080 with 2 Axes>"
      ]
     },
     "metadata": {
      "needs_background": "light"
     },
     "output_type": "display_data"
    }
   ],
   "source": [
    "fig, (ax1, ax2) = plt.subplots(1, 2, figsize=(15,15))\n",
    "fig.suptitle('Results')\n",
    "ax1.set_title('With auxiliar functions ('+str(data_aux.acc_test.mean())+')')\n",
    "ax1.scatter(data_aux.hidden_size, data_aux.acc_test)\n",
    "ax2.set_title('Without auxiliar functions('+str(np.round(data_non_aux.acc_test.mean(),2))+')')\n",
    "ax2.scatter(data_non_aux.hidden_size, data_non_aux.acc_test)\n",
    "ax1.set_ylim(50, 100)\n",
    "ax2.set_ylim(50, 100)\n",
    "ax1.set_xlabel('Hidden size')\n",
    "ax2.set_xlabel('Hidden size')\n",
    "ax1.set_ylabel('Accuracy ')\n",
    "ax2.set_ylabel('Accuracy')\n",
    "plt.show()"
   ]
  },
  {
   "cell_type": "code",
   "execution_count": 45,
   "metadata": {},
   "outputs": [
    {
     "data": {
      "image/png": "[encoded data removed]",
      "text/plain": [
       "<Figure size 1080x1080 with 2 Axes>"
      ]
     },
     "metadata": {
      "needs_background": "light"
     },
     "output_type": "display_data"
    }
   ],
   "source": [
    "fig, (ax1, ax2) = plt.subplots(1, 2, figsize=(15,15))\n",
    "fig.suptitle('Results')\n",
    "ax1.set_title('With auxiliar functions ('+str(data_aux.acc_test.mean())+')')\n",
    "ax1.scatter(data_aux.n, data_aux.acc_test)\n",
    "ax2.set_title('Without auxiliar functions('+str(np.round(data_non_aux.acc_test.mean(),2))+')')\n",
    "ax2.scatter(data_non_aux.n, data_non_aux.acc_test)\n",
    "ax1.set_ylim(50, 100)\n",
    "ax2.set_ylim(50, 100)\n",
    "ax1.set_xlabel('training size')\n",
    "ax2.set_xlabel('training size')\n",
    "ax1.set_ylabel('Accuracy ')\n",
    "ax2.set_ylabel('Accuracy')\n",
    "plt.show()"
   ]
  },
  {
   "cell_type": "code",
   "execution_count": 46,
   "metadata": {},
   "outputs": [
    {
     "data": {
      "image/png": "[encoded data removed]",
      "text/plain": [
       "<Figure size 1080x1080 with 2 Axes>"
      ]
     },
     "metadata": {
      "needs_background": "light"
     },
     "output_type": "display_data"
    }
   ],
   "source": [
    "fig, (ax1, ax2) = plt.subplots(1, 2, figsize=(15,15))\n",
    "fig.suptitle('Results')\n",
    "ax1.set_title('With auxiliar functions ('+str(data_aux.acc_test.mean())+')')\n",
    "ax1.scatter(data_aux.EPS1, data_aux.acc_test)\n",
    "ax2.set_title('Without auxiliar functions('+str(np.round(data_non_aux.acc_test.mean(),2))+')')\n",
    "ax2.scatter(data_non_aux.EPS1, data_non_aux.acc_test)\n",
    "ax1.set_ylim(50, 100)\n",
    "ax2.set_ylim(50, 100)\n",
    "ax1.set_xlabel('training size')\n",
    "ax2.set_xlabel('training size')\n",
    "ax1.set_ylabel('Accuracy ')\n",
    "ax2.set_ylabel('Accuracy')\n",
    "plt.show()"
   ]
  },
  {
   "cell_type": "code",
   "execution_count": 47,
   "metadata": {},
   "outputs": [
    {
     "data": {
      "image/png": "[encoded data removed]",
      "text/plain": [
       "<Figure size 1080x1080 with 2 Axes>"
      ]
     },
     "metadata": {
      "needs_background": "light"
     },
     "output_type": "display_data"
    }
   ],
   "source": [
    "fig, (ax1, ax2) = plt.subplots(1, 2, figsize=(15,15))\n",
    "fig.suptitle('Results')\n",
    "ax1.set_title('With auxiliar functions ('+str(data_aux.acc_test.mean())+')')\n",
    "ax1.scatter(data_aux.epsilon, data_aux.acc_test)\n",
    "ax2.set_title('Without auxiliar functions('+str(np.round(data_non_aux.acc_test.mean(),2))+')')\n",
    "ax2.scatter(data_non_aux.epsilon, data_non_aux.acc_test)\n",
    "ax1.set_ylim(50, 100)\n",
    "ax2.set_ylim(50, 100)\n",
    "ax1.set_xlabel('training size')\n",
    "ax2.set_xlabel('training size')\n",
    "ax1.set_ylabel('Accuracy ')\n",
    "ax2.set_ylabel('Accuracy')\n",
    "plt.show()"
   ]
  },
  {
   "cell_type": "code",
   "execution_count": 48,
   "metadata": {},
   "outputs": [
    {
     "data": {
      "text/plain": [
       "array([0.1])"
      ]
     },
     "execution_count": 48,
     "metadata": {},
     "output_type": "execute_result"
    }
   ],
   "source": [
    "data_aux.epsilon.unique()"
   ]
  },
  {
   "cell_type": "code",
   "execution_count": 49,
   "metadata": {},
   "outputs": [],
   "source": [
    "data2 = pd.read_csv(\"06-04-2021-results.csv\")"
   ]
  },
  {
   "cell_type": "code",
   "execution_count": 50,
   "metadata": {},
   "outputs": [
    {
     "data": {
      "image/png": "[encoded data removed]",
      "text/plain": [
       "<Figure size 1080x1080 with 2 Axes>"
      ]
     },
     "metadata": {
      "needs_background": "light"
     },
     "output_type": "display_data"
    }
   ],
   "source": [
    "fig, (ax1, ax2) = plt.subplots(1, 2, figsize=(15,15))\n",
    "fig.suptitle('Results')\n",
    "ax1.set_title('With auxiliar functions ('+str(data_aux.acc_test.mean())+')')\n",
    "ax1.scatter(data_aux.epsilon, data_aux.acc_test)\n",
    "ax2.set_title('Without auxiliar functions('+str(np.round(data_non_aux.acc_test.mean(),2))+')')\n",
    "ax2.scatter(data_non_aux.epsilon, data_non_aux.acc_test)\n",
    "ax1.set_ylim(50, 100)\n",
    "ax2.set_ylim(50, 100)\n",
    "ax1.set_xlabel('training size')\n",
    "ax2.set_xlabel('training size')\n",
    "ax1.set_ylabel('Accuracy ')\n",
    "ax2.set_ylabel('Accuracy')\n",
    "plt.show()"
   ]
  },
  {
   "cell_type": "code",
   "execution_count": 72,
   "metadata": {},
   "outputs": [
    {
     "name": "stderr",
     "output_type": "stream",
     "text": [
      "/home/franciscoperez/anaconda3/lib/python3.7/site-packages/scipy/stats/_continuous_distns.py:5823: RuntimeWarning: divide by zero encountered in log\n",
      "  self._logdelta = np.log(self._delta)\n",
      "/home/franciscoperez/anaconda3/lib/python3.7/site-packages/scipy/stats/_continuous_distns.py:5823: RuntimeWarning: invalid value encountered in log\n",
      "  self._logdelta = np.log(self._delta)\n"
     ]
    },
    {
     "data": {
      "text/plain": [
       "(1.6009849280375819,\n",
       " 0.9015482215897133,\n",
       " 0.0021890907748951093,\n",
       " 7.134297062689321e-31)"
      ]
     },
     "execution_count": 72,
     "metadata": {},
     "output_type": "execute_result"
    }
   ],
   "source": []
  },
  {
   "cell_type": "code",
   "execution_count": null,
   "metadata": {},
   "outputs": [],
   "source": []
  }
 ],
 "metadata": {
  "kernelspec": {
   "display_name": "Python 3",
   "language": "python",
   "name": "python3"
  },
  "language_info": {
   "codemirror_mode": {
    "name": "ipython",
    "version": 3
   },
   "file_extension": ".py",
   "mimetype": "text/x-python",
   "name": "python",
   "nbconvert_exporter": "python",
   "pygments_lexer": "ipython3",
   "version": "3.7.7"
  }
 },
 "nbformat": 4,
 "nbformat_minor": 2
}
