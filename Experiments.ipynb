{
 "cells": [
  {
   "cell_type": "code",
   "execution_count": 38,
   "metadata": {},
   "outputs": [],
   "source": [
    "import pandas as pd\n",
    "import numpy as np\n",
    "import matplotlib.pyplot as plt\n",
    "import seaborn as sns\n",
    "import matplotlib\n",
    "import matplotlib.pylab as pylab\n",
    "from matplotlib.ticker import FormatStrFormatter, StrMethodFormatter\n",
    "\n",
    "params = {'legend.fontsize': 'x-large',\n",
    "          'figure.figsize': (15, 5),\n",
    "         'axes.labelsize': 'x-large',\n",
    "         'axes.titlesize':'x-large',\n",
    "         'xtick.labelsize':'x-large',\n",
    "         'ytick.labelsize':'x-large'}\n",
    "pylab.rcParams.update(params)"
   ]
  },
  {
   "cell_type": "code",
   "execution_count": 39,
   "metadata": {},
   "outputs": [],
   "source": [
    "data2d_gaussian=pd.read_csv('25-04-2022-results_2d_gaussian.csv')\n",
    "data2d_uniform =pd.read_csv('25-04-2022-results_2d.csv')\n",
    "data1d_period =pd.read_csv('25-04-2022-results1D.csv')\n",
    "data1d_amplitude =pd.read_csv('25-04-2022-results1D-sample.csv')\n",
    "dropout =pd.read_csv('(baseline-dropout)05-05-2022-results1D.csv')"
   ]
  },
  {
   "cell_type": "code",
   "execution_count": 40,
   "metadata": {},
   "outputs": [],
   "source": [
    "tratamiento = data1d_amplitude"
   ]
  },
  {
   "cell_type": "code",
   "execution_count": 48,
   "metadata": {},
   "outputs": [],
   "source": [
    "data2d_gaussian.loc[data2d_gaussian['aux_loss_activated']==True, 'aux_loss_activated'] = '2D-gaussian'\n",
    "data2d_uniform.loc[data2d_uniform['aux_loss_activated']==True, 'aux_loss_activated'] = '2D-uniform'\n",
    "data1d_period.loc[data1d_period['aux_loss_activated']==True, 'aux_loss_activated'] = '1D-period'\n",
    "data1d_amplitude.loc[data1d_amplitude['aux_loss_activated']==True, 'aux_loss_activated'] = '1D-amplitude'\n",
    "dropout.loc[dropout['aux_loss_activated']==False, 'aux_loss_activated'] = 'dropout'"
   ]
  },
  {
   "cell_type": "code",
   "execution_count": null,
   "metadata": {},
   "outputs": [],
   "source": []
  },
  {
   "cell_type": "code",
   "execution_count": 49,
   "metadata": {},
   "outputs": [],
   "source": [
    "baseline = pd.read_csv('baseline25-04-2022-results1D.csv')"
   ]
  },
  {
   "cell_type": "code",
   "execution_count": 50,
   "metadata": {},
   "outputs": [],
   "source": [
    "data = pd.concat([baseline,dropout, data2d_gaussian, data2d_uniform, data1d_period, data1d_amplitude])"
   ]
  },
  {
   "cell_type": "code",
   "execution_count": 51,
   "metadata": {},
   "outputs": [],
   "source": [
    "data['f1_test'] = data['f1_test']*100\n",
    "data['recall_test'] = data['recall_test']*100"
   ]
  },
  {
   "cell_type": "code",
   "execution_count": 52,
   "metadata": {},
   "outputs": [],
   "source": [
    "data=data[data.n>5000]"
   ]
  },
  {
   "cell_type": "code",
   "execution_count": 53,
   "metadata": {},
   "outputs": [
    {
     "data": {
      "text/plain": [
       "'\\\\begin{tabular}{llrrrrrrrrr}\\n\\\\toprule\\n       &         & \\\\multicolumn{3}{l}{acc\\\\_test} & \\\\multicolumn{3}{l}{recall\\\\_test} & \\\\multicolumn{3}{l}{f1\\\\_test} \\\\\\\\\\n       &         &      max & median &   mean &         max & median &   mean &     max & median &   mean \\\\\\\\\\nn & aux\\\\_loss\\\\_activated &          &        &        &             &        &        &         &        &        \\\\\\\\\\n\\\\midrule\\n10000  & False &    70.90 &  67.62 &  67.53 &       96.05 &  95.49 &  95.37 &   81.05 &  79.12 &  79.05 \\\\\\\\\\n       & 1D-amplitude &    70.89 &  63.45 &  63.51 &       97.40 &  95.95 &  95.62 &   80.76 &  76.39 &  76.29 \\\\\\\\\\n       & 1D-period &    72.62 &  68.36 &  68.67 &       95.97 &  94.51 &  94.65 &   81.72 &  79.21 &  79.57 \\\\\\\\\\n       & 2D-gaussian &    72.33 &  63.83 &  64.96 &       97.20 &  96.35 &  96.09 &   81.85 &  76.79 &  77.43 \\\\\\\\\\n       & 2D-uniform &    71.78 &  63.43 &  64.27 &       97.39 &  96.05 &  95.22 &   82.21 &  76.45 &  76.70 \\\\\\\\\\n       & dropout &    70.06 &  67.97 &  67.45 &       96.34 &  94.99 &  95.02 &   80.51 &  79.03 &  78.87 \\\\\\\\\\n50000  & False &    74.19 &  71.37 &  71.70 &       97.29 &  96.57 &  96.57 &   83.78 &  82.10 &  82.29 \\\\\\\\\\n       & 1D-amplitude &    79.80 &  73.30 &  72.74 &       97.67 &  96.15 &  96.11 &   87.21 &  83.31 &  82.73 \\\\\\\\\\n       & 1D-period &    74.49 &  73.10 &  73.07 &       97.13 &  96.47 &  96.49 &   84.02 &  83.17 &  83.16 \\\\\\\\\\n       & 2D-gaussian &    78.58 &  72.47 &  70.54 &       98.25 &  97.32 &  96.44 &   85.66 &  82.91 &  81.30 \\\\\\\\\\n       & 2D-uniform &    78.63 &  72.96 &  71.51 &       98.39 &  96.97 &  96.85 &   85.86 &  83.31 &  82.13 \\\\\\\\\\n       & dropout &    72.95 &  71.20 &  70.73 &       97.61 &  96.75 &  96.80 &   83.05 &  82.01 &  81.72 \\\\\\\\\\n100000 & False &    82.76 &  82.19 &  82.18 &       94.09 &  92.48 &  92.66 &   87.71 &  87.03 &  87.10 \\\\\\\\\\n       & 1D-amplitude &    85.94 &  83.65 &  83.40 &       95.95 &  92.38 &  92.65 &   89.82 &  87.72 &  87.76 \\\\\\\\\\n       & 1D-period &    83.90 &  82.22 &  82.49 &       92.61 &  91.66 &  91.61 &   87.48 &  86.91 &  86.81 \\\\\\\\\\n       & 2D-gaussian &    87.44 &  83.63 &  83.71 &       96.08 &  92.35 &  92.84 &   89.52 &  88.01 &  88.01 \\\\\\\\\\n       & 2D-uniform &    86.63 &  83.74 &  83.97 &       95.95 &  92.74 &  92.51 &   89.84 &  88.04 &  88.00 \\\\\\\\\\n       & dropout &    82.64 &  81.77 &  81.65 &       93.69 &  92.47 &  92.48 &   87.14 &  86.70 &  86.73 \\\\\\\\\\n\\\\bottomrule\\n\\\\end{tabular}\\n'"
      ]
     },
     "execution_count": 53,
     "metadata": {},
     "output_type": "execute_result"
    }
   ],
   "source": [
    "np.round(data[['acc_test', 'recall_test','f1_test','n','aux_loss_activated']].groupby(['n','aux_loss_activated']).agg({'acc_test': ['max','median', 'mean'], \n",
    "                                                                          'recall_test': ['max', 'median', 'mean'], \n",
    "                                                                        'f1_test': ['max', 'median', 'mean']}),2).to_latex()"
   ]
  },
  {
   "cell_type": "code",
   "execution_count": 36,
   "metadata": {},
   "outputs": [
    {
     "data": {
      "text/plain": [
       "Index(['Unnamed: 0', 'acc_train', 'acc_test', 'recall_train', 'recall_test',\n",
       "       'f1_train', 'f1_test', 'epsilon', 'batch_size', 'hidden_size',\n",
       "       'aux_loss_activated', 'EPS1', 'n', 'opt'],\n",
       "      dtype='object')"
      ]
     },
     "execution_count": 36,
     "metadata": {},
     "output_type": "execute_result"
    }
   ],
   "source": [
    "data.columns"
   ]
  },
  {
   "cell_type": "code",
   "execution_count": null,
   "metadata": {},
   "outputs": [],
   "source": []
  },
  {
   "cell_type": "code",
   "execution_count": 10,
   "metadata": {},
   "outputs": [],
   "source": [
    "index = 'recall_test'"
   ]
  },
  {
   "cell_type": "code",
   "execution_count": 11,
   "metadata": {},
   "outputs": [
    {
     "ename": "IndexError",
     "evalue": "list index out of range",
     "output_type": "error",
     "traceback": [
      "\u001b[0;31m---------------------------------------------------------------------------\u001b[0m",
      "\u001b[0;31mIndexError\u001b[0m                                Traceback (most recent call last)",
      "\u001b[0;32m<ipython-input-11-4b27bf409b00>\u001b[0m in \u001b[0;36m<module>\u001b[0;34m()\u001b[0m\n\u001b[1;32m     20\u001b[0m     \u001b[0max\u001b[0m\u001b[0;34m.\u001b[0m\u001b[0mtext\u001b[0m\u001b[0;34m(\u001b[0m\u001b[0mxposlist\u001b[0m\u001b[0;34m[\u001b[0m\u001b[0mi\u001b[0m\u001b[0;34m]\u001b[0m\u001b[0;34m+\u001b[0m\u001b[0;36m0.2\u001b[0m\u001b[0;34m,\u001b[0m \u001b[0myposlist\u001b[0m\u001b[0;34m[\u001b[0m\u001b[0mi\u001b[0m\u001b[0;34m]\u001b[0m\u001b[0;34m-\u001b[0m\u001b[0;36m15\u001b[0m\u001b[0;34m,\u001b[0m \u001b[0;34m'{}%'\u001b[0m\u001b[0;34m.\u001b[0m\u001b[0mformat\u001b[0m\u001b[0;34m(\u001b[0m\u001b[0mstringlist\u001b[0m\u001b[0;34m[\u001b[0m\u001b[0mi\u001b[0m\u001b[0;34m]\u001b[0m\u001b[0;34m)\u001b[0m\u001b[0;34m,\u001b[0m\u001b[0msize\u001b[0m\u001b[0;34m=\u001b[0m\u001b[0;36m18\u001b[0m\u001b[0;34m,\u001b[0m \u001b[0mbbox\u001b[0m\u001b[0;34m=\u001b[0m\u001b[0mdict\u001b[0m\u001b[0;34m(\u001b[0m\u001b[0mfacecolor\u001b[0m\u001b[0;34m=\u001b[0m\u001b[0;34m'white'\u001b[0m\u001b[0;34m,\u001b[0m \u001b[0malpha\u001b[0m\u001b[0;34m=\u001b[0m\u001b[0;36m0.5\u001b[0m\u001b[0;34m)\u001b[0m\u001b[0;34m)\u001b[0m\u001b[0;34m\u001b[0m\u001b[0;34m\u001b[0m\u001b[0m\n\u001b[1;32m     21\u001b[0m \u001b[0;32mfor\u001b[0m \u001b[0mi\u001b[0m \u001b[0;32min\u001b[0m \u001b[0mrange\u001b[0m\u001b[0;34m(\u001b[0m\u001b[0mlen\u001b[0m\u001b[0;34m(\u001b[0m\u001b[0mstringlist_false\u001b[0m\u001b[0;34m)\u001b[0m\u001b[0;34m)\u001b[0m\u001b[0;34m:\u001b[0m\u001b[0;34m\u001b[0m\u001b[0;34m\u001b[0m\u001b[0m\n\u001b[0;32m---> 22\u001b[0;31m     \u001b[0max\u001b[0m\u001b[0;34m.\u001b[0m\u001b[0mtext\u001b[0m\u001b[0;34m(\u001b[0m\u001b[0mxposlist_false\u001b[0m\u001b[0;34m[\u001b[0m\u001b[0mi\u001b[0m\u001b[0;34m]\u001b[0m\u001b[0;34m-\u001b[0m\u001b[0;36m0.45\u001b[0m\u001b[0;34m,\u001b[0m \u001b[0myposlist\u001b[0m\u001b[0;34m[\u001b[0m\u001b[0mi\u001b[0m\u001b[0;34m]\u001b[0m\u001b[0;34m-\u001b[0m\u001b[0;36m15\u001b[0m\u001b[0;34m,\u001b[0m \u001b[0;34m'{}%'\u001b[0m\u001b[0;34m.\u001b[0m\u001b[0mformat\u001b[0m\u001b[0;34m(\u001b[0m\u001b[0mstringlist_false\u001b[0m\u001b[0;34m[\u001b[0m\u001b[0mi\u001b[0m\u001b[0;34m]\u001b[0m\u001b[0;34m)\u001b[0m\u001b[0;34m,\u001b[0m\u001b[0msize\u001b[0m\u001b[0;34m=\u001b[0m\u001b[0;36m18\u001b[0m\u001b[0;34m,\u001b[0m \u001b[0mbbox\u001b[0m\u001b[0;34m=\u001b[0m\u001b[0mdict\u001b[0m\u001b[0;34m(\u001b[0m\u001b[0mfacecolor\u001b[0m\u001b[0;34m=\u001b[0m\u001b[0;34m'white'\u001b[0m\u001b[0;34m,\u001b[0m \u001b[0malpha\u001b[0m\u001b[0;34m=\u001b[0m\u001b[0;36m0.5\u001b[0m\u001b[0;34m)\u001b[0m\u001b[0;34m)\u001b[0m\u001b[0;34m\u001b[0m\u001b[0;34m\u001b[0m\u001b[0m\n\u001b[0m\u001b[1;32m     23\u001b[0m \u001b[0;34m\u001b[0m\u001b[0m\n\u001b[1;32m     24\u001b[0m \u001b[0myposlist\u001b[0m \u001b[0;34m=\u001b[0m \u001b[0mdata\u001b[0m\u001b[0;34m[\u001b[0m\u001b[0;34m(\u001b[0m\u001b[0mdata\u001b[0m\u001b[0;34m.\u001b[0m\u001b[0maux_loss_activated\u001b[0m\u001b[0;34m==\u001b[0m\u001b[0;32mTrue\u001b[0m\u001b[0;34m)\u001b[0m \u001b[0;34m]\u001b[0m\u001b[0;34m.\u001b[0m\u001b[0mgroupby\u001b[0m\u001b[0;34m(\u001b[0m\u001b[0;34m[\u001b[0m\u001b[0;34m'n'\u001b[0m\u001b[0;34m]\u001b[0m\u001b[0;34m)\u001b[0m\u001b[0;34m[\u001b[0m\u001b[0mindex\u001b[0m\u001b[0;34m]\u001b[0m\u001b[0;34m.\u001b[0m\u001b[0mmax\u001b[0m\u001b[0;34m(\u001b[0m\u001b[0;34m)\u001b[0m\u001b[0;34m.\u001b[0m\u001b[0mtolist\u001b[0m\u001b[0;34m(\u001b[0m\u001b[0;34m)\u001b[0m\u001b[0;34m\u001b[0m\u001b[0;34m\u001b[0m\u001b[0m\n",
      "\u001b[0;31mIndexError\u001b[0m: list index out of range"
     ]
    },
    {
     "data": {
      "image/png": "[encoded data removed]",
      "text/plain": [
       "<Figure size 1296x432 with 1 Axes>"
      ]
     },
     "metadata": {
      "needs_background": "light"
     },
     "output_type": "display_data"
    }
   ],
   "source": [
    "plt.figure(figsize=(18,6))\n",
    "plt.ylim(40,100)\n",
    "sns.boxplot(x=\"n\", y=index, palette='rocket', hue='aux_loss_activated',showmeans=True, showfliers=False, showbox=False, data=data,\n",
    "                meanprops={\"marker\":\"o\",\n",
    "                       \"markerfacecolor\":\"white\", \n",
    "                       \"markeredgecolor\":\"black\",\n",
    "                      \"markersize\":\"10\"})\n",
    "ax = sns.violinplot( x=\"n\",bw=0.8, y=index,inner=\"quartile\", palette='rocket', hue='aux_loss_activated',showmeans=True, data=data,\n",
    "                meanprops={\"marker\":\"o\",\n",
    "                       \"markerfacecolor\":\"white\", \n",
    "                       \"markeredgecolor\":\"black\",\n",
    "                      \"markersize\":\"10\"})\n",
    "yposlist = data[(data.aux_loss_activated==True) ].groupby(['n'])[index].median().tolist()\n",
    "yposlist_false = data[(data.aux_loss_activated==False) ].groupby(['n'])[index].median().tolist()\n",
    "xposlist = range(len(yposlist))\n",
    "stringlist = [str(i) for i in np.round(yposlist,1)]\n",
    "xposlist_false = range(len(yposlist_false))\n",
    "stringlist_false = [str(i) for i in np.round(yposlist_false,1)]\n",
    "for i in range(len(stringlist)):\n",
    "    ax.text(xposlist[i]+0.2, yposlist[i]-15, '{}%'.format(stringlist[i]),size=18, bbox=dict(facecolor='white', alpha=0.5))    \n",
    "for i in range(len(stringlist_false)):    \n",
    "    ax.text(xposlist_false[i]-0.45, yposlist[i]-15, '{}%'.format(stringlist_false[i]),size=18, bbox=dict(facecolor='white', alpha=0.5))\n",
    "\n",
    "yposlist = data[(data.aux_loss_activated==True) ].groupby(['n'])[index].max().tolist()\n",
    "yposlist_false = data[(data.aux_loss_activated==False) ].groupby(['n'])[index].max().tolist()\n",
    "xposlist = range(len(yposlist))\n",
    "stringlist = [str(i) for i in np.round(yposlist,1)]\n",
    "xposlist_false = range(len(yposlist_false))\n",
    "stringlist_false = [str(i) for i in np.round(yposlist_false,1)]\n",
    "for i in range(len(stringlist)):\n",
    "    ax.text(xposlist[i]+0.28, yposlist[i], '{}%'.format(stringlist[i]),size=18, bbox=dict(facecolor='gray', alpha=0.5))    \n",
    "for i in range(len(stringlist_false)):    \n",
    "    ax.text(xposlist_false[i]-0.45, yposlist[i], '{}%'.format(stringlist_false[i]),size=18, bbox=dict(facecolor='gray', alpha=0.5))\n",
    "\n",
    "    \n",
    "    \n",
    "for i in range(len(np.unique(data['n'])) - 1):\n",
    "    ax.axvline(i + 0.5, color='grey', lw=1)\n",
    "    \n",
    "handles, labels = ax.get_legend_handles_labels()\n",
    "\n",
    "l = plt.legend(handles[0:2], labels[0:2],fontsize = 20, bbox_to_anchor= (0.35, 1.1, 0.5, 0.2), title=\"Regularization\", ncol=2, title_fontsize = 18, shadow = True, facecolor = 'white', loc=2);\n",
    "ax.set_xlabel(\"Number of objects on training set\",fontsize=24)\n",
    "ax.set_ylabel(\"Accuracy on testing set\",fontsize=24)\n",
    "ax.tick_params(labelsize=20)\n",
    "ax.set_yticklabels(['{}%'.format(int(x)) for x in ax.get_yticks()])\n"
   ]
  },
  {
   "cell_type": "code",
   "execution_count": null,
   "metadata": {},
   "outputs": [],
   "source": [
    "from scipy import stats\n",
    "from scipy.stats import wilcoxon, ttest_ind, ttest_rel\n",
    "\n",
    "\n",
    "for n in data.n.unique():\n",
    "    samples1 = data[(data.aux_loss_activated==False) & (data.batch_size>128)].acc_test.to_list()\n",
    "    samples2 = data[(data.aux_loss_activated==True) & (data.batch_size>128)].acc_test.to_list()\n",
    "    print(n)\n",
    "    print(np.mean(samples1))\n",
    "    print(np.mean(samples2))\n",
    "           \n",
    "    stat, p = ttest_rel(samples1, samples2)\n",
    "    print('Statistics=%.3f, p=%.3f' % (stat, p))\n",
    "    # interpret\n",
    "    alpha = 0.05\n",
    "    if p > alpha:\n",
    "        print('Same distribution (fail to reject H0)')\n",
    "    else:\n",
    "        print('Different distribution (reject H0)')\n",
    "\n",
    "    \n",
    "        "
   ]
  },
  {
   "cell_type": "code",
   "execution_count": null,
   "metadata": {},
   "outputs": [],
   "source": [
    "#fig, (ax1, ax2) = plt.subplots(2, 1, figsize=(15,15))\n",
    "import matplotlib.ticker as ticker\n",
    "fig, ax = plt.subplots(figsize=(15,6))\n",
    "losses = [True, False]\n",
    "\n",
    "colors = ['red', 'black']\n",
    "# Iterate through the five airlines\n",
    "i= 0\n",
    "for loss in losses:\n",
    "    # Subset to the airline\n",
    "    subset = data[data['aux_loss_activated'] == loss]['acc_test']\n",
    "    #data = np.random.randn(1000)\n",
    "    print(subset.shape[0])\n",
    "    sorted_data = np.sort(subset)  # Or data.sort(), if data can be modified\n",
    "\n",
    "    # Cumulative counts:\n",
    "    plt.step(sorted_data, np.arange(sorted_data.size), color=colors[i], label=loss)  # From 0 to the number of data points-1\n",
    "    #plt.step(sorted_data[::-1], np.arange(sorted_data.size))  # From the number of data points-1 to 0\n",
    "\n",
    "    #plt.show()\n",
    "    i=i+1\n",
    "ax.yaxis.set_major_formatter(ticker.PercentFormatter(xmax=subset.shape[0]))\n",
    "ax.xaxis.set_major_formatter(ticker.PercentFormatter())\n",
    "ax.set_xlabel(\"Accuracy on testing set\",fontsize=24)\n",
    "ax.set_ylabel(\"Cummulative distribution\",fontsize=24)\n",
    "\n",
    "\n",
    "plt.legend(title = \"Regularization\", prop={'size':20},\n",
    "           loc='upper left', bbox_to_anchor= (0.35, 1.1, 0.5, 0.2),\n",
    "           ncol=2, title_fontsize = 18, shadow = True, facecolor = 'white')\n",
    "\n",
    "ax.tick_params(labelsize=20)\n",
    "\n",
    "\n",
    "\n",
    "#plt.axvline(x=data[(data.aux_loss_activated==True)]['acc_test'].max(), ymin=0., ymax=1, color='red', linestyle='dashed')\n",
    "#plt.axvline(x=data[(data.aux_loss_activated==False)]['acc_test'].max(), ymin=0, ymax=1, color='black', linestyle='dashed')\n",
    "\n",
    "\n",
    "\n",
    "\n",
    "plt.xlim(50,100)\n",
    "plt.ylim(0,subset.shape[0])\n",
    "plt.show()\n",
    "\n",
    "\n",
    "\n",
    "fig, ax = plt.subplots(figsize=(15,6))\n",
    "\n",
    "i= 0\n",
    "for loss in losses:\n",
    "    # Subset to the airline\n",
    "    subset = data[data['aux_loss_activated'] == loss]\n",
    "    \n",
    "    # Draw the density plot\n",
    "    sns.distplot(subset['acc_test'], hist = False, kde = True,\n",
    "                 kde_kws = {'linewidth': 3},\n",
    "                 label = loss, color= colors[int(i)])\n",
    "    i=i+1\n",
    "\n",
    "plt.xlim(50,95)\n",
    "plt.xlabel('Accuracy on testing set',fontsize=24)\n",
    "plt.ylabel('Density distribution',fontsize=24)\n",
    "plt.legend(title = \"Regularization\", prop={'size':20},\n",
    "           loc='upper left', bbox_to_anchor= (0.35, 1.1, 0.5, 0.2),\n",
    "           ncol=2, title_fontsize = 18, shadow = True, facecolor = 'white')\n",
    "plt.axvline(x=data[(data.aux_loss_activated==True)]['acc_test'].mean(), ymin=0., ymax=1, color='red', linestyle='dashed')\n",
    "plt.axvline(x=data[(data.aux_loss_activated==False)]['acc_test'].mean(), ymin=0, ymax=1, color='black', linestyle='dashed')\n",
    "\n",
    "mean1 = np.round(data[data.aux_loss_activated==True]['acc_test'].mean(),1)\n",
    "mean2 = np.round(data[data.aux_loss_activated==False]['acc_test'].mean(),1)\n",
    "plt.text(mean1+0.2, 0.01,'{}%'.format(str(mean1)),rotation=90, fontsize=24)\n",
    "plt.text(mean2-1, 0.01,'{}%'.format(str(mean2)),rotation=90, fontsize=24)\n",
    "fmt = '%.0f%%'\n",
    "xticks = matplotlib.ticker.FormatStrFormatter(fmt)\n",
    "ax.xaxis.set_major_formatter(xticks)\n",
    "ax.tick_params(labelsize=20)\n",
    "\n",
    "plt.show()\n"
   ]
  },
  {
   "cell_type": "code",
   "execution_count": null,
   "metadata": {},
   "outputs": [],
   "source": []
  }
 ],
 "metadata": {
  "kernelspec": {
   "display_name": "Python 3",
   "language": "python",
   "name": "python3"
  },
  "language_info": {
   "codemirror_mode": {
    "name": "ipython",
    "version": 3
   },
   "file_extension": ".py",
   "mimetype": "text/x-python",
   "name": "python",
   "nbconvert_exporter": "python",
   "pygments_lexer": "ipython3",
   "version": "3.7.7"
  }
 },
 "nbformat": 4,
 "nbformat_minor": 2
}
