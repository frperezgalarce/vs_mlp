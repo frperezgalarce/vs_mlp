{
 "cells": [
  {
   "cell_type": "code",
   "execution_count": 1,
   "metadata": {},
   "outputs": [],
   "source": [
    "import torch\n",
    "import torch.nn as nn\n",
    "import torchvision.datasets as dsets\n",
    "import torchvision.transforms as transforms\n",
    "\n",
    "import torch.nn.functional as f \n",
    "from torch.autograd import Variable\n",
    "torch.backends.cudnn.deterministic = True\n",
    "import pandas as pd\n",
    "import numpy as np\n",
    "import torch.utils.data as data_utils\n",
    "from sklearn.preprocessing import StandardScaler \n",
    "from sklearn.model_selection import train_test_split\n",
    "\n",
    "from matplotlib import pyplot as plt\n",
    "\n",
    "\n",
    "from scipy import stats"
   ]
  },
  {
   "cell_type": "code",
   "execution_count": 2,
   "metadata": {},
   "outputs": [],
   "source": [
    "use_cuda = torch.cuda.is_available()\n",
    "device = torch.device(\"cuda:0\" if use_cuda else \"cpu\")\n",
    "torch.backends.cudnn.benchmark = True"
   ]
  },
  {
   "cell_type": "code",
   "execution_count": 3,
   "metadata": {},
   "outputs": [],
   "source": [
    "number = 1\n",
    "fileTrain = '/home/franciscoperez/Documents/GitHub/data/BIASEDFATS/Train_rrlyr-'+str(number)+'.csv'\n",
    "fileTest = '/home/franciscoperez/Documents/GitHub/data/BIASEDFATS/Test_rrlyr-'+str(number)+'.csv'\n",
    "train_dataset = pd.read_csv(fileTrain, index_col ='Unnamed: 0')\n",
    "test_dataset = pd.read_csv(fileTest)"
   ]
  },
  {
   "cell_type": "code",
   "execution_count": 4,
   "metadata": {},
   "outputs": [
    {
     "name": "stdout",
     "output_type": "stream",
     "text": [
      "Freq1_harmonics_rel_phase_0\n",
      "Freq2_harmonics_rel_phase_0\n",
      "Freq3_harmonics_rel_phase_0\n"
     ]
    }
   ],
   "source": [
    "try:\n",
    "    train_dataset =  train_dataset.drop(['Pred', 'Pred2', 'h', 'e', 'u','ID'], axis = 1)\n",
    "    for col in train_dataset.columns:\n",
    "        if col not in ['label']:\n",
    "            if train_dataset[col].var()==0:\n",
    "                print(col)\n",
    "                del train_dataset[col]\n",
    "    test_dataset = test_dataset[list(train_dataset.columns)]\n",
    "except:\n",
    "    print(col)\n",
    "    print('---')"
   ]
  },
  {
   "cell_type": "code",
   "execution_count": 5,
   "metadata": {},
   "outputs": [],
   "source": [
    "n = train_dataset.shape[0] \n",
    "epsilon = 0\n",
    "input_size = train_dataset.shape[1]-1\n",
    "hidden_size = 1000\n",
    "hidden_size2 = 1000\n",
    "num_classes = 2\n",
    "num_epochs = 5\n",
    "batch_size = 64\n",
    "learning_rate = 0.001\n",
    "regularization = False\n",
    "add_DR_based_data = True\n"
   ]
  },
  {
   "cell_type": "code",
   "execution_count": 6,
   "metadata": {},
   "outputs": [
    {
     "data": {
      "text/html": [
       "<div>\n",
       "<style scoped>\n",
       "    .dataframe tbody tr th:only-of-type {\n",
       "        vertical-align: middle;\n",
       "    }\n",
       "\n",
       "    .dataframe tbody tr th {\n",
       "        vertical-align: top;\n",
       "    }\n",
       "\n",
       "    .dataframe thead th {\n",
       "        text-align: right;\n",
       "    }\n",
       "</style>\n",
       "<table border=\"1\" class=\"dataframe\">\n",
       "  <thead>\n",
       "    <tr style=\"text-align: right;\">\n",
       "      <th></th>\n",
       "      <th>Amplitude</th>\n",
       "      <th>AndersonDarling</th>\n",
       "      <th>Autocor_length</th>\n",
       "      <th>Beyond1Std</th>\n",
       "      <th>CAR_mean</th>\n",
       "      <th>CAR_sigma</th>\n",
       "      <th>CAR_tau</th>\n",
       "      <th>Con</th>\n",
       "      <th>Eta_e</th>\n",
       "      <th>FluxPercentileRatioMid20</th>\n",
       "      <th>...</th>\n",
       "      <th>Skew</th>\n",
       "      <th>SlottedA_length</th>\n",
       "      <th>SmallKurtosis</th>\n",
       "      <th>Std</th>\n",
       "      <th>StetsonK</th>\n",
       "      <th>StetsonK_AC</th>\n",
       "      <th>StructureFunction_index_21</th>\n",
       "      <th>StructureFunction_index_31</th>\n",
       "      <th>StructureFunction_index_32</th>\n",
       "      <th>label</th>\n",
       "    </tr>\n",
       "  </thead>\n",
       "  <tbody>\n",
       "    <tr>\n",
       "      <th>95995</th>\n",
       "      <td>0.0285</td>\n",
       "      <td>0.000388</td>\n",
       "      <td>8</td>\n",
       "      <td>0.313333</td>\n",
       "      <td>19.633469</td>\n",
       "      <td>0.943106</td>\n",
       "      <td>0.705834</td>\n",
       "      <td>0.016779</td>\n",
       "      <td>26.795616</td>\n",
       "      <td>0.142857</td>\n",
       "      <td>...</td>\n",
       "      <td>0.370698</td>\n",
       "      <td>4.82976</td>\n",
       "      <td>0.092830</td>\n",
       "      <td>0.014638</td>\n",
       "      <td>0.797654</td>\n",
       "      <td>0.705975</td>\n",
       "      <td>1.786092</td>\n",
       "      <td>2.438108</td>\n",
       "      <td>1.456502</td>\n",
       "      <td>ClassB</td>\n",
       "    </tr>\n",
       "    <tr>\n",
       "      <th>117508</th>\n",
       "      <td>0.0315</td>\n",
       "      <td>0.516421</td>\n",
       "      <td>2</td>\n",
       "      <td>0.316667</td>\n",
       "      <td>60.864553</td>\n",
       "      <td>0.368127</td>\n",
       "      <td>0.217651</td>\n",
       "      <td>0.010067</td>\n",
       "      <td>27.877249</td>\n",
       "      <td>0.150943</td>\n",
       "      <td>...</td>\n",
       "      <td>-0.042560</td>\n",
       "      <td>4.09580</td>\n",
       "      <td>0.016120</td>\n",
       "      <td>0.015469</td>\n",
       "      <td>0.800189</td>\n",
       "      <td>0.742621</td>\n",
       "      <td>1.611617</td>\n",
       "      <td>2.034464</td>\n",
       "      <td>1.326873</td>\n",
       "      <td>ClassB</td>\n",
       "    </tr>\n",
       "    <tr>\n",
       "      <th>202103</th>\n",
       "      <td>0.5265</td>\n",
       "      <td>0.000000</td>\n",
       "      <td>1</td>\n",
       "      <td>0.167785</td>\n",
       "      <td>38.969618</td>\n",
       "      <td>0.667236</td>\n",
       "      <td>0.484111</td>\n",
       "      <td>0.000000</td>\n",
       "      <td>1137.612586</td>\n",
       "      <td>0.053706</td>\n",
       "      <td>...</td>\n",
       "      <td>1.986051</td>\n",
       "      <td>0.08391</td>\n",
       "      <td>3.457299</td>\n",
       "      <td>0.267731</td>\n",
       "      <td>0.731573</td>\n",
       "      <td>0.529509</td>\n",
       "      <td>1.680231</td>\n",
       "      <td>2.234334</td>\n",
       "      <td>1.621988</td>\n",
       "      <td>ClassB</td>\n",
       "    </tr>\n",
       "    <tr>\n",
       "      <th>149789</th>\n",
       "      <td>0.0630</td>\n",
       "      <td>0.000055</td>\n",
       "      <td>1</td>\n",
       "      <td>0.472222</td>\n",
       "      <td>12.175217</td>\n",
       "      <td>0.052550</td>\n",
       "      <td>1.184228</td>\n",
       "      <td>0.000000</td>\n",
       "      <td>4.512393</td>\n",
       "      <td>0.209677</td>\n",
       "      <td>...</td>\n",
       "      <td>0.284275</td>\n",
       "      <td>1.81470</td>\n",
       "      <td>-1.265863</td>\n",
       "      <td>0.041730</td>\n",
       "      <td>0.874448</td>\n",
       "      <td>0.886609</td>\n",
       "      <td>1.537870</td>\n",
       "      <td>1.855204</td>\n",
       "      <td>1.268149</td>\n",
       "      <td>ClassB</td>\n",
       "    </tr>\n",
       "    <tr>\n",
       "      <th>270586</th>\n",
       "      <td>0.0185</td>\n",
       "      <td>0.137914</td>\n",
       "      <td>2</td>\n",
       "      <td>0.320000</td>\n",
       "      <td>127.155853</td>\n",
       "      <td>0.247697</td>\n",
       "      <td>0.120381</td>\n",
       "      <td>0.000000</td>\n",
       "      <td>83.450472</td>\n",
       "      <td>0.166667</td>\n",
       "      <td>...</td>\n",
       "      <td>0.034766</td>\n",
       "      <td>7.68972</td>\n",
       "      <td>-0.139093</td>\n",
       "      <td>0.009458</td>\n",
       "      <td>0.812045</td>\n",
       "      <td>0.782909</td>\n",
       "      <td>1.758050</td>\n",
       "      <td>2.459552</td>\n",
       "      <td>1.458589</td>\n",
       "      <td>ClassB</td>\n",
       "    </tr>\n",
       "  </tbody>\n",
       "</table>\n",
       "<p>5 rows × 61 columns</p>\n",
       "</div>"
      ],
      "text/plain": [
       "        Amplitude  AndersonDarling  Autocor_length  Beyond1Std    CAR_mean  \\\n",
       "95995      0.0285         0.000388               8    0.313333   19.633469   \n",
       "117508     0.0315         0.516421               2    0.316667   60.864553   \n",
       "202103     0.5265         0.000000               1    0.167785   38.969618   \n",
       "149789     0.0630         0.000055               1    0.472222   12.175217   \n",
       "270586     0.0185         0.137914               2    0.320000  127.155853   \n",
       "\n",
       "        CAR_sigma   CAR_tau       Con        Eta_e  FluxPercentileRatioMid20  \\\n",
       "95995    0.943106  0.705834  0.016779    26.795616                  0.142857   \n",
       "117508   0.368127  0.217651  0.010067    27.877249                  0.150943   \n",
       "202103   0.667236  0.484111  0.000000  1137.612586                  0.053706   \n",
       "149789   0.052550  1.184228  0.000000     4.512393                  0.209677   \n",
       "270586   0.247697  0.120381  0.000000    83.450472                  0.166667   \n",
       "\n",
       "        ...      Skew  SlottedA_length  SmallKurtosis       Std  StetsonK  \\\n",
       "95995   ...  0.370698          4.82976       0.092830  0.014638  0.797654   \n",
       "117508  ... -0.042560          4.09580       0.016120  0.015469  0.800189   \n",
       "202103  ...  1.986051          0.08391       3.457299  0.267731  0.731573   \n",
       "149789  ...  0.284275          1.81470      -1.265863  0.041730  0.874448   \n",
       "270586  ...  0.034766          7.68972      -0.139093  0.009458  0.812045   \n",
       "\n",
       "        StetsonK_AC  StructureFunction_index_21  StructureFunction_index_31  \\\n",
       "95995      0.705975                    1.786092                    2.438108   \n",
       "117508     0.742621                    1.611617                    2.034464   \n",
       "202103     0.529509                    1.680231                    2.234334   \n",
       "149789     0.886609                    1.537870                    1.855204   \n",
       "270586     0.782909                    1.758050                    2.459552   \n",
       "\n",
       "        StructureFunction_index_32   label  \n",
       "95995                     1.456502  ClassB  \n",
       "117508                    1.326873  ClassB  \n",
       "202103                    1.621988  ClassB  \n",
       "149789                    1.268149  ClassB  \n",
       "270586                    1.458589  ClassB  \n",
       "\n",
       "[5 rows x 61 columns]"
      ]
     },
     "execution_count": 6,
     "metadata": {},
     "output_type": "execute_result"
    }
   ],
   "source": [
    "#minimum_period = train_dataset['PeriodLS'].min()\n",
    "#maximum_period = 5#train_dataset['PeriodLS'].max()\n",
    "train_dataset = train_dataset.sample(n)\n",
    "#label = train_dataset['label']\n",
    "#del train_dataset['label']\n",
    "#scaler = StandardScaler()\n",
    "# train_dataset_scaled = scaler.fit_transform(train_dataset)\n",
    "#train_dataset = pd.DataFrame(train_dataset_scaled, columns=train_dataset.columns)\n",
    "#train_dataset['label'] = label\n",
    "train_dataset.head()\n"
   ]
  },
  {
   "cell_type": "code",
   "execution_count": 7,
   "metadata": {},
   "outputs": [],
   "source": [
    "# Losslabel = test_dataset[['label']]\n",
    "#del test_dataset['label']\n",
    "#test_dataset_scaled = scaler.transform(test_dataset)\n",
    "#test_dataset = pd.DataFrame(test_dataset_scaled, columns=test_dataset.columns)\n",
    "#test_dataset['label'] = label\n",
    "#test_dataset.head()"
   ]
  },
  {
   "cell_type": "code",
   "execution_count": 8,
   "metadata": {},
   "outputs": [],
   "source": [
    "#(np.random.uniform(0.1,1.1)-minimum_period)/(maximum_period-minimum_period)"
   ]
  },
  {
   "cell_type": "code",
   "execution_count": 9,
   "metadata": {},
   "outputs": [
    {
     "data": {
      "image/png": "[encoded data removed]",
      "text/plain": [
       "<Figure size 432x288 with 1 Axes>"
      ]
     },
     "metadata": {
      "needs_background": "light"
     },
     "output_type": "display_data"
    }
   ],
   "source": [
    "train_dataset['PeriodLS'].hist()\n",
    "plt.show()"
   ]
  },
  {
   "cell_type": "code",
   "execution_count": 10,
   "metadata": {},
   "outputs": [],
   "source": [
    "samples = 500\n",
    "number_columns = train_dataset.shape[1]\n",
    "if add_DR_based_data:\n",
    "    for i in range(0):\n",
    "        new_data = pd.DataFrame(train_dataset.sample(1000).mean()).T\n",
    "        new_data['PeriodLS']= (np.random.uniform(0.2-epsilon,1.0+epsilon))#-minimum_period)/(maximum_period-minimum_period)\n",
    "        new_data['label'] = 'ClassA'\n",
    "        frames = [train_dataset, new_data]\n",
    "        train_dataset = pd.concat(frames)\n",
    "    \n",
    "    for i in range(0):\n",
    "        new_data = pd.DataFrame(train_dataset.sample(1000).mean()).T\n",
    "        new_data['PeriodLS']=(np.random.uniform(0.0,0.2))#-minimum_period)/(maximum_period-minimum_period)\n",
    "        new_data['label'] = 'ClassB'\n",
    "        frames = [train_dataset, new_data]\n",
    "        train_dataset = pd.concat(frames)\n",
    "        \n",
    "    for i in range(0):    \n",
    "        new_data = pd.DataFrame(train_dataset.sample(1000).mean()).T\n",
    "        new_data['PeriodLS']=(np.random.uniform(1.0,1.2))#-minimum_period)/(maximum_period-minimum_period)\n",
    "        new_data['label'] = 'ClassB'\n",
    "        frames = [train_dataset, new_data]\n",
    "        train_dataset = pd.concat(frames)\n",
    "        \n",
    "    for i in range(0):    \n",
    "        new_data = pd.DataFrame([train_dataset.sample(1000).mean()]).T\n",
    "        new_data['PeriodLS']= 1.0#-minimum_period)/(maximum_period-minimum_period)\n",
    "        new_data['label'] = 'Noise'\n",
    "        frames = [train_dataset, new_data]\n",
    "        train_dataset = pd.concat(frames)\n",
    "        \n",
    "    for i in range(0):    \n",
    "        new_data = pd.DataFrame([0 for i in range(number_columns)]).T\n",
    "        #print(new_data.shape)\n",
    "        new_data.columns = train_dataset.columns\n",
    "        new_data['PeriodLS']= 1.0#-minimum_period)/(maximum_period-minimum_period)\n",
    "        new_data['label'] = 'Noise'\n",
    "        #print(new_data.shape)\n",
    "        #print(train_dataset.shape)\n",
    "        frames = [train_dataset, new_data]\n",
    "        train_dataset = pd.concat(frames, sort=True, axis=0)\n",
    "        #print(train_dataset.shape)\n",
    "        \n",
    "    for i in range(0):    \n",
    "        new_data = pd.DataFrame([0 for i in range(number_columns)]).T\n",
    "        #print(new_data.shape)\n",
    "        new_data.columns = train_dataset.columns\n",
    "        new_data['PeriodLS']= 0.2#-minimum_period)/(maximum_period-minimum_period)\n",
    "        new_data['label'] = 'Noise'\n",
    "        #print(new_data.shape)\n",
    "        #print(train_dataset.shape)\n",
    "        frames = [train_dataset, new_data]\n",
    "        train_dataset = pd.concat(frames, sort=True, axis=0)\n",
    "        #print(train_dataset.shape)"
   ]
  },
  {
   "cell_type": "code",
   "execution_count": 11,
   "metadata": {},
   "outputs": [
    {
     "data": {
      "image/png": "[encoded data removed]",
      "text/plain": [
       "<Figure size 432x288 with 1 Axes>"
      ]
     },
     "metadata": {
      "needs_background": "light"
     },
     "output_type": "display_data"
    }
   ],
   "source": [
    "train_dataset['PeriodLS'].hist()\n",
    "plt.show()"
   ]
  },
  {
   "cell_type": "code",
   "execution_count": 12,
   "metadata": {},
   "outputs": [],
   "source": [
    "label = train_dataset['label']\n",
    "del train_dataset['label']\n",
    "train_dataset=(train_dataset-train_dataset.mean())/train_dataset.std()\n",
    "z_scores = stats.zscore(train_dataset)\n",
    "abs_z_scores = np.abs(z_scores)\n",
    "filtered_entries = (abs_z_scores < 3).all(axis=1)\n",
    "train_dataset['label'] = label\n",
    "train_dataset = train_dataset[filtered_entries]"
   ]
  },
  {
   "cell_type": "code",
   "execution_count": 13,
   "metadata": {},
   "outputs": [],
   "source": [
    "label = test_dataset['label']\n",
    "del test_dataset['label']\n",
    "test_dataset=(test_dataset-test_dataset.mean())/test_dataset.std()\n",
    "z_scores = stats.zscore(test_dataset)\n",
    "abs_z_scores = np.abs(z_scores)\n",
    "filtered_entries = (abs_z_scores < 3).all(axis=1)\n",
    "test_dataset['label'] = label\n",
    "test_dataset = test_dataset[filtered_entries]"
   ]
  },
  {
   "cell_type": "code",
   "execution_count": 14,
   "metadata": {},
   "outputs": [
    {
     "data": {
      "image/png": "[encoded data removed]",
      "text/plain": [
       "<Figure size 432x288 with 1 Axes>"
      ]
     },
     "metadata": {
      "needs_background": "light"
     },
     "output_type": "display_data"
    }
   ],
   "source": [
    "train_dataset['PeriodLS'].hist()\n",
    "plt.show()"
   ]
  },
  {
   "cell_type": "code",
   "execution_count": 15,
   "metadata": {},
   "outputs": [],
   "source": [
    "train_dataset, val_dataset = train_test_split(train_dataset, test_size=0.1, random_state=42)"
   ]
  },
  {
   "cell_type": "markdown",
   "metadata": {},
   "source": [
    "Cases using DR 1: Period $ \\in [0.2,1.0]$ days"
   ]
  },
  {
   "cell_type": "code",
   "execution_count": 16,
   "metadata": {},
   "outputs": [],
   "source": [
    "train_dataset['label'] = train_dataset['label'].str.replace('ClassA', '1')\n",
    "train_dataset['label'] = train_dataset['label'].str.replace('ClassB', '0')\n",
    "train_dataset['label'] = train_dataset['label'].str.replace('Noise', '0.5')\n",
    "#train_dataset['label'] = train_dataset['label'].astype(float) \n",
    "train_target = torch.tensor(train_dataset['label'].values.astype(np.float32))\n",
    "train = torch.tensor(train_dataset.drop('label', axis = 1).values.astype(np.float32)) \n",
    "#train = f.normalize(train)\n",
    "train_tensor = data_utils.TensorDataset(train, train_target) \n",
    "train_loader = data_utils.DataLoader(dataset = train_tensor, batch_size = batch_size)"
   ]
  },
  {
   "cell_type": "code",
   "execution_count": 17,
   "metadata": {},
   "outputs": [],
   "source": [
    "val_dataset['label'] = val_dataset['label'].str.replace('ClassA', '1')\n",
    "val_dataset['label'] = val_dataset['label'].str.replace('ClassB', '0')\n",
    "val_dataset['label'] = val_dataset['label'].str.replace('Noise', '0.5')\n",
    "#val_dataset['label'] = val_dataset['label'].astype(float) \n",
    "val_target = torch.tensor(val_dataset['label'].values.astype(np.float32))\n",
    "val = torch.tensor(val_dataset.drop('label', axis = 1).values.astype(np.float32)) \n",
    "#val = f.normalize(val)\n",
    "val_tensor = data_utils.TensorDataset(val, val_target) \n",
    "val_loader = data_utils.DataLoader(dataset = val_tensor, batch_size = batch_size)"
   ]
  },
  {
   "cell_type": "code",
   "execution_count": 18,
   "metadata": {},
   "outputs": [],
   "source": [
    "test_dataset['label'] = test_dataset['label'].str.replace('ClassA', '1')\n",
    "test_dataset['label'] = test_dataset['label'].str.replace('ClassB', '0')\n",
    "\n",
    "test_target = torch.tensor(test_dataset['label'].values.astype(np.float32))\n",
    "test = torch.tensor(test_dataset.drop('label', axis = 1).values.astype(np.float32)) \n",
    "#test = f.normalize(test)\n",
    "test_tensor = data_utils.TensorDataset(test, test_target) \n",
    "test_loader = data_utils.DataLoader(dataset = test_tensor, batch_size = batch_size)"
   ]
  },
  {
   "cell_type": "code",
   "execution_count": 19,
   "metadata": {},
   "outputs": [
    {
     "data": {
      "text/plain": [
       "tensor([0., 1., 0.,  ..., 1., 1., 1.])"
      ]
     },
     "execution_count": 19,
     "metadata": {},
     "output_type": "execute_result"
    }
   ],
   "source": [
    "test_target"
   ]
  },
  {
   "cell_type": "code",
   "execution_count": null,
   "metadata": {},
   "outputs": [],
   "source": []
  },
  {
   "cell_type": "code",
   "execution_count": 20,
   "metadata": {},
   "outputs": [
    {
     "data": {
      "text/plain": [
       "Net(\n",
       "  (fc1): Linear(in_features=60, out_features=1000, bias=True)\n",
       "  (leakyrelu): LeakyReLU(negative_slope=0.1)\n",
       "  (fc2): Linear(in_features=1000, out_features=1000, bias=True)\n",
       "  (relu2): ReLU()\n",
       "  (fc3): Linear(in_features=1000, out_features=2, bias=True)\n",
       ")"
      ]
     },
     "execution_count": 20,
     "metadata": {},
     "output_type": "execute_result"
    }
   ],
   "source": [
    "\n",
    "class Net(nn.Module):\n",
    "    def __init__(self, input_size, hidden_size,hidden_size2, num_classes):\n",
    "        super(Net, self).__init__()\n",
    "        self.fc1 = nn.Linear(input_size, hidden_size) \n",
    "        #self.relu = nn.ReLU()\n",
    "        self.leakyrelu = nn.LeakyReLU(negative_slope=0.1)\n",
    "        self.fc2 = nn.Linear(hidden_size, hidden_size2)  \n",
    "        self.relu2 = nn.ReLU()\n",
    "        self.fc3 = nn.Linear(hidden_size2, num_classes) \n",
    "        #self.sigmoid = nn.Sigmoid()\n",
    "        #self.dropout = nn.Dropout(p=0.1)\n",
    "        #self.batchnorm1 = nn.BatchNorm1d(hidden_size)\n",
    "        #self.batchnorm2 = nn.BatchNorm1d(hidden_size)\n",
    "        \n",
    "        \n",
    "    def forward(self, x):\n",
    "        out = self.fc1(x)\n",
    "        #out = self.batchnorm1(out)\n",
    "        #out = self.relu(out)\n",
    "        out = self.leakyrelu(out)\n",
    "        out = self.fc2(out)\n",
    "        #out = self.batchnorm1(out)\n",
    "        out = self.relu2(out)\n",
    "        out = self.fc3(out)\n",
    "        #x = self.dropout(x)\n",
    "        #out = self.sigmoid(out)\n",
    "        return out\n",
    "    \n",
    "net = Net(input_size, hidden_size, hidden_size2, num_classes)\n",
    "net.cuda()   "
   ]
  },
  {
   "cell_type": "code",
   "execution_count": 21,
   "metadata": {},
   "outputs": [],
   "source": [
    "# Loss and Optimizer\n",
    "criterion = nn.CrossEntropyLoss()  \n",
    "\n",
    "#criterion = nn.BCELoss()\n",
    "#criterion = nn.BCEWithLogitsLoss()\n",
    "optimizer = torch.optim.Adam(net.parameters(), lr=learning_rate)  "
   ]
  },
  {
   "cell_type": "code",
   "execution_count": 22,
   "metadata": {},
   "outputs": [
    {
     "name": "stdout",
     "output_type": "stream",
     "text": [
      "-----------Training----------------------------\n",
      "[1,  2000] loss: 0.000\n",
      "[1,  4000] loss: 0.000\n",
      "1 1.0967837209674085\n",
      "-----------Validation----------------------------\n",
      "1 0.7222699827766822\n",
      "-----------Training----------------------------\n",
      "[2,  2000] loss: 0.000\n",
      "[2,  4000] loss: 0.000\n",
      "2 0.8138644383121649\n",
      "-----------Validation----------------------------\n",
      "2 0.6542888644481233\n",
      "-----------Training----------------------------\n",
      "[3,  2000] loss: 0.000\n",
      "[3,  4000] loss: 0.000\n",
      "3 0.7121411018056292\n",
      "-----------Validation----------------------------\n",
      "3 0.6390394378443792\n",
      "-----------Training----------------------------\n",
      "[4,  2000] loss: 0.000\n",
      "[4,  4000] loss: 0.000\n",
      "4 0.6751730316241951\n",
      "-----------Validation----------------------------\n",
      "4 0.6427349112302181\n",
      "-----------Training----------------------------\n",
      "[5,  2000] loss: 0.000\n",
      "[5,  4000] loss: 0.000\n",
      "5 0.61290439201793\n",
      "-----------Validation----------------------------\n",
      "5 0.5721522390845469\n"
     ]
    }
   ],
   "source": [
    "# Train the Model   \n",
    "hist_train = []\n",
    "hist_val = []\n",
    "\n",
    "for epoch in range(num_epochs):\n",
    "    print('-----------Training----------------------------')\n",
    "    epoch_loss = 0.0\n",
    "    running_loss = 0.0\n",
    "    for i, (star, labels) in enumerate(train_loader):  \n",
    "        star = Variable(star.view(-1, input_size)).cuda()\n",
    "        labels = Variable(labels).cuda()\n",
    "        #print(star[:,49])\n",
    "        # Forward + Backward + Optimize\n",
    "        optimizer.zero_grad()  # zero the gradient buffer\n",
    "        outputs = net(star)\n",
    "        #print(softmax(outputs))\n",
    "        #m = nn.Sigmoid()\n",
    "        \n",
    "        loss = criterion(outputs, labels.long())\n",
    "        \n",
    "        if regularization:\n",
    "            l1_regularization = 0\n",
    "            l2_regularization = 0\n",
    "            lambda1 = 0.001\n",
    "            lambda2 = 0.001\n",
    "            for param in net.parameters():\n",
    "                l1_regularization += torch.norm(param, 1)**2\n",
    "                l2_regularization += torch.norm(param, 2)**2\n",
    "            loss = loss + lambda1*l1_regularization + lambda2*l2_regularization\n",
    "                \n",
    "        loss.backward()\n",
    "        optimizer.step()\n",
    "        \n",
    "        epoch_loss += outputs.shape[0] * loss.item()      \n",
    "        running_loss += loss.item()\n",
    "        \n",
    "        if i % 2000 == 1999:    # print every 2000 mini-batches\n",
    "            print('[%d, %5d] loss: %.3f' %\n",
    "                  (epoch + 1, i + 1, running_loss / 2000))\n",
    "        running_loss = 0.0\n",
    "        \n",
    "    hist_train.append(epoch_loss)\n",
    "    print(epoch+1, epoch_loss / len(train_loader))\n",
    "    print('-----------Validation----------------------------')\n",
    "    epoch_loss = 0.0\n",
    "    running_loss = 0.0\n",
    "    for i, (star, labels) in enumerate(val_loader):  \n",
    "        star = Variable(star.view(-1, input_size)).cuda()\n",
    "        labels = Variable(labels).cuda()\n",
    "        optimizer.zero_grad()  # zero the gradient buffer\n",
    "        outputs = net(star)\n",
    "        loss = criterion(outputs, labels.long())    \n",
    "        epoch_loss += outputs.shape[0] * loss.item()      \n",
    "        running_loss += loss.item()\n",
    "        \n",
    "        if i % 2000 == 1999:    # print every 2000 mini-batches\n",
    "            print('[%d, %5d] loss: %.3f' %\n",
    "                  (epoch + 1, i + 1, running_loss / 2000))\n",
    "        running_loss = 0.0\n",
    "    print(epoch+1, epoch_loss / len(val_loader))\n",
    "    hist_val.append(epoch_loss)\n"
   ]
  },
  {
   "cell_type": "code",
   "execution_count": 23,
   "metadata": {},
   "outputs": [
    {
     "name": "stdout",
     "output_type": "stream",
     "text": [
      "Accuracy of the network on test objects: 55 %\n",
      "55\n"
     ]
    }
   ],
   "source": [
    "# Test the Model\n",
    "correct = 0\n",
    "total = 0\n",
    "for star, labels in test_loader:\n",
    "    images = Variable(star.view(-1, input_size)).cuda()\n",
    "    outputs = net(images)\n",
    "    _, predicted = torch.max(outputs.data, 1)\n",
    "    total += labels.size(0)\n",
    "    correct += (predicted.cpu() == labels.long()).sum()\n",
    "print('Accuracy of the network on test objects: %d %%' % (100 * correct / total))\n",
    "acc_testing = 100 *correct / total\n",
    "print(np.asarray(acc_testing))"
   ]
  },
  {
   "cell_type": "code",
   "execution_count": 24,
   "metadata": {},
   "outputs": [
    {
     "name": "stdout",
     "output_type": "stream",
     "text": [
      "Accuracy of the network on train objects: 99 %\n"
     ]
    }
   ],
   "source": [
    "correct = 0\n",
    "total = 0\n",
    "for star, labels in train_loader:\n",
    "    images = Variable(star.view(-1, input_size)).cuda()\n",
    "    outputs = net(images)\n",
    "    _, predicted = torch.max(outputs.data, 1)\n",
    "    total += labels.size(0)\n",
    "    correct += (predicted.cpu() == labels.long()).sum()\n",
    "print('Accuracy of the network on train objects: %d %%' % (100 * correct / total))\n",
    "acc_training = 100 *correct / total"
   ]
  },
  {
   "cell_type": "code",
   "execution_count": 25,
   "metadata": {},
   "outputs": [],
   "source": [
    "# Save the Model\n",
    "torch.save(net.state_dict(), 'model.pkl')"
   ]
  },
  {
   "cell_type": "code",
   "execution_count": 26,
   "metadata": {},
   "outputs": [],
   "source": [
    "def softmax(x): \n",
    "    return x.exp() / (x.exp().sum(-1)).unsqueeze(-1)"
   ]
  },
  {
   "cell_type": "code",
   "execution_count": 27,
   "metadata": {},
   "outputs": [
    {
     "data": {
      "image/png": "[encoded data removed]",
      "text/plain": [
       "<Figure size 432x288 with 1 Axes>"
      ]
     },
     "metadata": {
      "needs_background": "light"
     },
     "output_type": "display_data"
    }
   ],
   "source": [
    "plt.plot(hist_val, label ='validation')\n",
    "plt.plot(hist_train, label ='train')\n",
    "plt.legend()\n",
    "plt.ylabel('Loss')\n",
    "plt.xlabel('Epochs')\n",
    "plt.savefig('images/'+str(samples)+'_'+str(epsilon)+'_'+str(n)+\"_\"+str(hidden_size)+\"_Loss_Training.png\")\n",
    "plt.show()"
   ]
  },
  {
   "cell_type": "code",
   "execution_count": 28,
   "metadata": {},
   "outputs": [],
   "source": [
    "csv_file = open(\"size_MLP_noise.csv\", \"a\")\n",
    "csv_file.write(str(np.asarray(acc_testing))+\",\"+str(np.asarray(acc_training))+\",\"+str(samples)+\",\"+str(epsilon)+\",\"+str(n)+\",\"+str(hidden_size)+\"\\n\")\n",
    "csv_file.close()"
   ]
  },
  {
   "cell_type": "code",
   "execution_count": null,
   "metadata": {},
   "outputs": [],
   "source": []
  }
 ],
 "metadata": {
  "kernelspec": {
   "display_name": "Python 3",
   "language": "python",
   "name": "python3"
  },
  "language_info": {
   "codemirror_mode": {
    "name": "ipython",
    "version": 3
   },
   "file_extension": ".py",
   "mimetype": "text/x-python",
   "name": "python",
   "nbconvert_exporter": "python",
   "pygments_lexer": "ipython3",
   "version": "3.7.7"
  }
 },
 "nbformat": 4,
 "nbformat_minor": 2
}
